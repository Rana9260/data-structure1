{
 "cells": [
  {
   "cell_type": "markdown",
   "id": "9c4f5499-9da2-4d58-9d27-adaa86df8128",
   "metadata": {},
   "source": [
    "# Assignment"
   ]
  },
  {
   "cell_type": "markdown",
   "id": "3ac8e254-67a3-4452-a523-4d3ce2e201ec",
   "metadata": {},
   "source": [
    "### Question(1) = Discuss string slicing and provides a exapmles.?"
   ]
  },
  {
   "cell_type": "markdown",
   "id": "f7c6a5be-1af6-4743-88bd-32bb156908aa",
   "metadata": {},
   "source": [
    "#### Ans = a string is data type used in programming that is used to represent text rather than number and string sequence of \n",
    "#### characters.. Stirng is a sequence of character represent and manipulate textual data..\n",
    "#### characters are represented using numerical values...and each character is assigned a unique.\n",
    "#### string slicing in python allow you extract a portion of string by specefic a start and end index... and u can access any      index of elements using string slicing..\n",
    "     string slicing - syntax is start = start:end:step..\n",
    "                 all code access to left to right..\n",
    "                 if i use [::-1]\n",
    "                 ab = hello world // just reverse this index\n",
    "                 iterate over the sequence in reverse order \n",
    "                 it means start from the end move to beginning an step backwords by one character...\n"
   ]
  },
  {
   "cell_type": "code",
   "execution_count": 1,
   "id": "182fefbe-d2ef-45f8-b08b-a74c67ad41b6",
   "metadata": {},
   "outputs": [],
   "source": [
    "#example for string slicing"
   ]
  },
  {
   "cell_type": "code",
   "execution_count": 18,
   "id": "9953aa34-4cc5-45fa-9074-1d91d3e40e5c",
   "metadata": {},
   "outputs": [],
   "source": [
    "course = \"i am studying data analyst from pwskills\"\n"
   ]
  },
  {
   "cell_type": "code",
   "execution_count": 20,
   "id": "c980da47-427b-4be9-9c92-82ebc37a84cb",
   "metadata": {},
   "outputs": [
    {
     "name": "stdout",
     "output_type": "stream",
     "text": [
      "i am studying data analyst from pwskills\n",
      "<class 'str'>\n"
     ]
    }
   ],
   "source": [
    "print(course)\n",
    "print(type(course))"
   ]
  },
  {
   "cell_type": "code",
   "execution_count": 9,
   "id": "39223c9f-9e9b-4f96-bf20-84d046ad7ba9",
   "metadata": {},
   "outputs": [
    {
     "data": {
      "text/plain": [
       "'i'"
      ]
     },
     "execution_count": 9,
     "metadata": {},
     "output_type": "execute_result"
    }
   ],
   "source": [
    "course[0] \n",
    "## if u can access single starting index use by [0]...."
   ]
  },
  {
   "cell_type": "code",
   "execution_count": 21,
   "id": "0b1bae9b-9f7f-4313-a06a-9628b9b5b428",
   "metadata": {},
   "outputs": [
    {
     "data": {
      "text/plain": [
       "'i am'"
      ]
     },
     "execution_count": 21,
     "metadata": {},
     "output_type": "execute_result"
    }
   ],
   "source": [
    "course[0:4]\n",
    "##if u can access [0:4] its means access a index 0 by 4..."
   ]
  },
  {
   "cell_type": "code",
   "execution_count": 31,
   "id": "3c47d739-1e12-4a3f-9200-2c27176ce610",
   "metadata": {},
   "outputs": [
    {
     "data": {
      "text/plain": [
       "'ia tdigdt nls rmpsil'"
      ]
     },
     "execution_count": 31,
     "metadata": {},
     "output_type": "execute_result"
    }
   ],
   "source": [
    "course[0::2]\n",
    "## if u can aceess one step out of second index...counting 1 espace by 2 =nd index..."
   ]
  },
  {
   "cell_type": "code",
   "execution_count": 36,
   "id": "9aae6aa4-09f2-4810-aa6c-89c38638476b",
   "metadata": {},
   "outputs": [
    {
     "data": {
      "text/plain": [
       "'sllikswp morf tsylana atad gniyduts ma i'"
      ]
     },
     "execution_count": 36,
     "metadata": {},
     "output_type": "execute_result"
    }
   ],
   "source": [
    "course[::-1]\n",
    "## if u can reverse the value of index use by [::-1] this is reverse a sentence using by step ..."
   ]
  },
  {
   "cell_type": "markdown",
   "id": "42d71e47-eb3c-4e30-888b-c6e8b862f885",
   "metadata": {},
   "source": [
    "#### if u can access a negative index are getting a result a counting a right to left -1 ,-2 ,-3 ,-4 ,-5 , -6 infinty...\n",
    "    and this is also follow same rules....."
   ]
  },
  {
   "cell_type": "code",
   "execution_count": 38,
   "id": "a201d317-f11d-46ee-a413-556ba76ceede",
   "metadata": {},
   "outputs": [
    {
     "data": {
      "text/plain": [
       "'s'"
      ]
     },
     "execution_count": 38,
     "metadata": {},
     "output_type": "execute_result"
    }
   ],
   "source": [
    "course[-1]\n",
    "## if u can access by last index using by [-1] in start...."
   ]
  },
  {
   "cell_type": "code",
   "execution_count": 43,
   "id": "1222026f-8d88-4a0d-94a9-65ebe5893b5b",
   "metadata": {},
   "outputs": [
    {
     "data": {
      "text/plain": [
       "'i am studying data analyst from pwskil'"
      ]
     },
     "execution_count": 43,
     "metadata": {},
     "output_type": "execute_result"
    }
   ],
   "source": [
    "course[0:-2]\n",
    "## if u can use [-2] in end they can access a sentence left to right...."
   ]
  },
  {
   "cell_type": "code",
   "execution_count": 53,
   "id": "2c96812d-b936-4c13-8f8b-409bfe43fd8e",
   "metadata": {},
   "outputs": [
    {
     "data": {
      "text/plain": [
       "'i am study'"
      ]
     },
     "execution_count": 53,
     "metadata": {},
     "output_type": "execute_result"
    }
   ],
   "source": [
    "course[0:10]\n",
    "## if u can access the specific character of sentence use by start:end .. they can help out access specific character of sentence choosing by you... "
   ]
  },
  {
   "cell_type": "code",
   "execution_count": 65,
   "id": "e630fa75-37d3-4fac-a3bc-da0e0a80b733",
   "metadata": {},
   "outputs": [
    {
     "data": {
      "text/plain": [
       "'ia td'"
      ]
     },
     "execution_count": 65,
     "metadata": {},
     "output_type": "execute_result"
    }
   ],
   "source": [
    "course[0:9:2]\n",
    "## if u can useing start/end/step== using this they can access a value of character starting(0) to end(9) and step(2)...."
   ]
  },
  {
   "cell_type": "code",
   "execution_count": 70,
   "id": "b44b5ab0-b925-444e-8226-c6eb74ed150c",
   "metadata": {},
   "outputs": [
    {
     "data": {
      "text/plain": [
       "'as'"
      ]
     },
     "execution_count": 70,
     "metadata": {},
     "output_type": "execute_result"
    }
   ],
   "source": [
    "course[2:8:3]\n",
    "## if u can access a value first value and skip a second value access a third value use by step[3]"
   ]
  },
  {
   "cell_type": "code",
   "execution_count": 73,
   "id": "6fb8bc0f-82af-4468-aff3-252e32a5d27e",
   "metadata": {},
   "outputs": [
    {
     "data": {
      "text/plain": [
       "'slkw oftya'"
      ]
     },
     "execution_count": 73,
     "metadata": {},
     "output_type": "execute_result"
    }
   ],
   "source": [
    "course[-1:-20:-2]\n",
    "## if u can use - they can access left to right using skiping of every 2nd last value..."
   ]
  },
  {
   "cell_type": "code",
   "execution_count": 75,
   "id": "57b7f892-8a5a-4128-bed6-171d3793681a",
   "metadata": {},
   "outputs": [
    {
     "data": {
      "text/plain": [
       "''"
      ]
     },
     "execution_count": 75,
     "metadata": {},
     "output_type": "execute_result"
    }
   ],
   "source": [
    "course[3:10:-2] \n",
    "## if u can use it will be not print anything because negative step is used to only reverse...."
   ]
  },
  {
   "cell_type": "code",
   "execution_count": null,
   "id": "5dadc0c9-1a2d-4d12-800b-3bb9671dfa72",
   "metadata": {},
   "outputs": [],
   "source": [
    "course["
   ]
  },
  {
   "cell_type": "markdown",
   "id": "601a5064-a625-4e6a-8fbc-f7c23b9b8d1b",
   "metadata": {},
   "source": [
    "## FUNCTION OF STRING"
   ]
  },
  {
   "cell_type": "markdown",
   "id": "c1a9d0f4-e000-43e5-8dd7-b9f85544dca3",
   "metadata": {},
   "source": [
    "#### (1) .replace() ## used to replace any element from the other element in the string.\n",
    "    (2) .upper() ## used to convert to all alphabet in uppercase..\n",
    "    (3) .lower() ## used to convert to all alphabet in lowercase..\n",
    "    (4) .capatilize() ## used to convert to first text captial in any statement...\n",
    "    (5) .title() ## used to convert first text capital in each character of the statement...\n",
    "    (6) .swapcase() ## used to convert lowercase in uppercase and uppercase in lowercase...\n",
    "    (7) .startswith() ## used to check that a character is start with that particular text..\n",
    "    (8) .endswith() ## used to check that a character is ends with that particular text...\n",
    "    (9) .isalnum() ## used to check a character have any alphabet text or number have not both...\n",
    "    (10).sorted() ## used to sort character aplhabetically ..(ordering string)...\n",
    "    (11).strip() ## used to delete unneccessery space from the character....\n",
    "    (12).split() ## used to split the string in diffrent substring...(spliting string function)...\n",
    "    (13). 'f' {} ## fromatting string , used to make a format of common string which can be used again and again...\n",
    "    (14). \\n ,\\t ,\\r  ## there are some espace function of string ( used a new line\\n) ( used a tab function \\t having 4space)     ( \\r carriage return make beginning), move the cursor to the beginning of line...use a (\\r) using carriage return         character its mean to move beginning a line..\n",
    "    (15).len() ## used to count character its mean complete length of strings....\n",
    "    (16)concatenation  ## used to add strings..\n"
   ]
  },
  {
   "cell_type": "code",
   "execution_count": null,
   "id": "078318c6-5850-40b1-bccf-3b1567f5202e",
   "metadata": {},
   "outputs": [],
   "source": []
  },
  {
   "cell_type": "markdown",
   "id": "88087dd4-d4a7-4e7f-aede-408c9dab3d99",
   "metadata": {},
   "source": [
    "### Question(2) Explain the key features of lists in python..?"
   ]
  },
  {
   "cell_type": "markdown",
   "id": "c62e0696-145f-4885-ae86-2d5b400bf4b6",
   "metadata": {},
   "source": [
    "#### Ans = List are used to store multiple items in a single variable list are one of 4built in data type python used to store\n",
    "    collection of data and the others are 3 tuples and sets and dictionary..\n",
    "    list are ordered collection of item...\n",
    "    syntax of list []\n",
    "    list is like a shopping bag u can store any thing in list.. (list is hetrogenous..)\n",
    "    list is a mutable..\n",
    "    you can access anything in list...\n"
   ]
  },
  {
   "cell_type": "markdown",
   "id": "525bb7ce-a55b-4748-9173-9c3d7a25cb32",
   "metadata": {},
   "source": [
    "### Features of list ="
   ]
  },
  {
   "cell_type": "markdown",
   "id": "ba69c016-98ae-4417-9ce1-292a7de8561e",
   "metadata": {},
   "source": [
    "# List are ordered.\n",
    "# List is mutable.\n",
    "# List is hetrogenous.\n",
    "# Slicing / extracting in list.\n",
    "# Repeatation operation in list.\n",
    "# List in list.\n",
    "# Concatenation in list.\n",
    "# Deep copy and shallow copy.\n",
    "# Membership operator in list.\n",
    "# List comprehension.."
   ]
  },
  {
   "cell_type": "code",
   "execution_count": 99,
   "id": "cd95d43e-3f5f-426e-b393-da459e6c064f",
   "metadata": {},
   "outputs": [
    {
     "name": "stdout",
     "output_type": "stream",
     "text": [
      "['milk', 'water', 'mango', 'banana', 'ladyfinger', 'chilly', 1, 2.5, (3+5j), 'bottel']\n",
      "<class 'list'>\n"
     ]
    }
   ],
   "source": [
    "list1 = [ \"milk\",\"water\",\"mango\",\"banana\",\"ladyfinger\",\"chilly\",1,2.5,3+5j,\"bottel\" ]\n",
    "print(list1)\n",
    "print(type(list1))"
   ]
  },
  {
   "cell_type": "code",
   "execution_count": 84,
   "id": "afbe2ee2-03a8-456c-a36c-787cbe0f16b4",
   "metadata": {},
   "outputs": [
    {
     "data": {
      "text/plain": [
       "'milk'"
      ]
     },
     "execution_count": 84,
     "metadata": {},
     "output_type": "execute_result"
    }
   ],
   "source": [
    "list1[0]\n",
    "## list is mutable u can access any thing and replace anything..."
   ]
  },
  {
   "cell_type": "code",
   "execution_count": 90,
   "id": "6fc0ec3a-c728-4e2c-9d8e-976e197157cb",
   "metadata": {},
   "outputs": [
    {
     "data": {
      "text/plain": [
       "'mango'"
      ]
     },
     "execution_count": 90,
     "metadata": {},
     "output_type": "execute_result"
    }
   ],
   "source": [
    "list1[3]\n",
    "## if u want to access a list postive index starting left to right 0 ,1 ,2 ,3 ,4 , 5, infinity.."
   ]
  },
  {
   "cell_type": "code",
   "execution_count": 86,
   "id": "d16b23b7-2ff0-4860-ada1-3eab0f209b27",
   "metadata": {},
   "outputs": [
    {
     "data": {
      "text/plain": [
       "1"
      ]
     },
     "execution_count": 86,
     "metadata": {},
     "output_type": "execute_result"
    }
   ],
   "source": [
    "list1[6]"
   ]
  },
  {
   "cell_type": "code",
   "execution_count": 89,
   "id": "8fce1170-f635-4910-b45c-10b947de267c",
   "metadata": {},
   "outputs": [
    {
     "data": {
      "text/plain": [
       "'bottel'"
      ]
     },
     "execution_count": 89,
     "metadata": {},
     "output_type": "execute_result"
    }
   ],
   "source": [
    "list1[-1]\n",
    "## if u want to access last index an element using -1 ... if u access a negative index starting left to right -1 , -2 ,-3 ,-4 ,infinity..."
   ]
  },
  {
   "cell_type": "code",
   "execution_count": 93,
   "id": "3d3422bf-dc5c-4fbd-a9bd-5e4c5aee036e",
   "metadata": {},
   "outputs": [],
   "source": [
    "list1[0] = \"watermelon\"\n",
    "## list is mutable u can change a any index of list negative or postive also...."
   ]
  },
  {
   "cell_type": "code",
   "execution_count": 92,
   "id": "67023a57-b4eb-4c2c-af34-8b0948c3d24f",
   "metadata": {},
   "outputs": [
    {
     "data": {
      "text/plain": [
       "['watermelon',\n",
       " 'chilly',\n",
       " 'ladyfinger',\n",
       " 'mango',\n",
       " 'milk',\n",
       " 'water',\n",
       " 1,\n",
       " 2.5,\n",
       " (3+5j),\n",
       " 'bottel']"
      ]
     },
     "execution_count": 92,
     "metadata": {},
     "output_type": "execute_result"
    }
   ],
   "source": [
    "list1"
   ]
  },
  {
   "cell_type": "code",
   "execution_count": 94,
   "id": "c2f5b832-fa70-4449-966e-34be5e9314b9",
   "metadata": {},
   "outputs": [],
   "source": [
    "list1[-1] = \"cup\""
   ]
  },
  {
   "cell_type": "code",
   "execution_count": 95,
   "id": "244e1766-ccea-4224-993e-fa6ac1f8c284",
   "metadata": {},
   "outputs": [],
   "source": [
    "list1[-3] = \"tree\""
   ]
  },
  {
   "cell_type": "code",
   "execution_count": 96,
   "id": "2b565c87-7b80-4603-a795-166fb30463ef",
   "metadata": {},
   "outputs": [
    {
     "data": {
      "text/plain": [
       "['watermelon',\n",
       " 'chilly',\n",
       " 'ladyfinger',\n",
       " 'mango',\n",
       " 'milk',\n",
       " 'water',\n",
       " 1,\n",
       " 'tree',\n",
       " (3+5j),\n",
       " 'cup']"
      ]
     },
     "execution_count": 96,
     "metadata": {},
     "output_type": "execute_result"
    }
   ],
   "source": [
    "list1"
   ]
  },
  {
   "cell_type": "code",
   "execution_count": 100,
   "id": "b85367a9-5453-4e4a-a116-510de1282b5c",
   "metadata": {},
   "outputs": [],
   "source": [
    "list1[-1] = \"coffe\"\n",
    "list1[-2] = \"tea\"\n",
    "list1[2] = \"chilly potato\""
   ]
  },
  {
   "cell_type": "code",
   "execution_count": 101,
   "id": "d2316caa-7dcc-4540-8758-cf4bf77d5b27",
   "metadata": {},
   "outputs": [
    {
     "data": {
      "text/plain": [
       "['milk',\n",
       " 'water',\n",
       " 'chilly potato',\n",
       " 'banana',\n",
       " 'ladyfinger',\n",
       " 'chilly',\n",
       " 1,\n",
       " 2.5,\n",
       " 'tea',\n",
       " 'coffe']"
      ]
     },
     "execution_count": 101,
     "metadata": {},
     "output_type": "execute_result"
    }
   ],
   "source": [
    "list1"
   ]
  },
  {
   "cell_type": "code",
   "execution_count": null,
   "id": "dacb83f7-5c84-4875-be76-c46877049618",
   "metadata": {},
   "outputs": [],
   "source": []
  },
  {
   "cell_type": "code",
   "execution_count": 102,
   "id": "5c1cea9a-dacb-4c36-9e87-c4a8145976f7",
   "metadata": {},
   "outputs": [],
   "source": [
    "## list is hetrogenous..u can store anything..."
   ]
  },
  {
   "cell_type": "code",
   "execution_count": 103,
   "id": "8bea78b2-e7fa-440e-857f-a7f9a95000ba",
   "metadata": {},
   "outputs": [],
   "source": [
    "ab = [ \"mohsin\",\"abhishke\",10,20,30,40+5j,True,False,\"milk\",\"water\",\"banana\"]\n",
    "## store are string, and integer , boolean value..."
   ]
  },
  {
   "cell_type": "code",
   "execution_count": 104,
   "id": "10e5310b-95e2-45ea-9c7e-e178c91fa5a0",
   "metadata": {},
   "outputs": [
    {
     "data": {
      "text/plain": [
       "['mohsin',\n",
       " 'abhishke',\n",
       " 10,\n",
       " 20,\n",
       " 30,\n",
       " (40+5j),\n",
       " True,\n",
       " False,\n",
       " 'milk',\n",
       " 'water',\n",
       " 'banana']"
      ]
     },
     "execution_count": 104,
     "metadata": {},
     "output_type": "execute_result"
    }
   ],
   "source": [
    "ab"
   ]
  },
  {
   "cell_type": "code",
   "execution_count": null,
   "id": "a5d39f3e-2b25-446c-b579-7b920a783236",
   "metadata": {},
   "outputs": [],
   "source": []
  },
  {
   "cell_type": "code",
   "execution_count": 105,
   "id": "30f5b5c4-2014-447f-b2e9-ad12bbc5c77d",
   "metadata": {},
   "outputs": [],
   "source": [
    "## slicing and extracting a list...\n"
   ]
  },
  {
   "cell_type": "code",
   "execution_count": 106,
   "id": "0beba8fb-e1a4-4dc8-a507-c236d4f3c540",
   "metadata": {},
   "outputs": [
    {
     "data": {
      "text/plain": [
       "['mohsin',\n",
       " 'abhishke',\n",
       " 10,\n",
       " 20,\n",
       " 30,\n",
       " (40+5j),\n",
       " True,\n",
       " False,\n",
       " 'milk',\n",
       " 'water',\n",
       " 'banana']"
      ]
     },
     "execution_count": 106,
     "metadata": {},
     "output_type": "execute_result"
    }
   ],
   "source": [
    "ab"
   ]
  },
  {
   "cell_type": "code",
   "execution_count": 109,
   "id": "a0dea7bb-d4f0-4087-b4f9-6e022605ce11",
   "metadata": {},
   "outputs": [
    {
     "data": {
      "text/plain": [
       "['mohsin',\n",
       " 'abhishke',\n",
       " 10,\n",
       " 20,\n",
       " 30,\n",
       " (40+5j),\n",
       " True,\n",
       " False,\n",
       " 'milk',\n",
       " 'water',\n",
       " 'banana']"
      ]
     },
     "execution_count": 109,
     "metadata": {},
     "output_type": "execute_result"
    }
   ],
   "source": [
    "ab[0::]  \n",
    "## access a index by slicing....."
   ]
  },
  {
   "cell_type": "code",
   "execution_count": 111,
   "id": "2cddeafd-46b0-4122-a33d-c2fd2a8c2711",
   "metadata": {},
   "outputs": [
    {
     "data": {
      "text/plain": [
       "'banana'"
      ]
     },
     "execution_count": 111,
     "metadata": {},
     "output_type": "execute_result"
    }
   ],
   "source": [
    "ab[-1] \n",
    "## access by slicing ... index access by negative follow to right to left ... -1,-2,-3,-4..."
   ]
  },
  {
   "cell_type": "code",
   "execution_count": 110,
   "id": "4b9a05a6-db6f-48dd-b414-b232939fcd00",
   "metadata": {},
   "outputs": [
    {
     "data": {
      "text/plain": [
       "'water'"
      ]
     },
     "execution_count": 110,
     "metadata": {},
     "output_type": "execute_result"
    }
   ],
   "source": [
    "ab[-2]"
   ]
  },
  {
   "cell_type": "code",
   "execution_count": 120,
   "id": "44f8606c-7ceb-433e-b35d-caa64b38e7d7",
   "metadata": {},
   "outputs": [
    {
     "data": {
      "text/plain": [
       "['banana',\n",
       " 'water',\n",
       " 'milk',\n",
       " False,\n",
       " True,\n",
       " (40+5j),\n",
       " 30,\n",
       " 20,\n",
       " 10,\n",
       " 'abhishke',\n",
       " 'mohsin']"
      ]
     },
     "execution_count": 120,
     "metadata": {},
     "output_type": "execute_result"
    }
   ],
   "source": [
    "ab[::-1]\n",
    "## u can access a list right to left...."
   ]
  },
  {
   "cell_type": "code",
   "execution_count": 122,
   "id": "6e526ab0-6ca5-48ce-b407-d369f7f6742f",
   "metadata": {},
   "outputs": [
    {
     "data": {
      "text/plain": [
       "['banana', 'milk', True, 30, 10, 'mohsin']"
      ]
     },
     "execution_count": 122,
     "metadata": {},
     "output_type": "execute_result"
    }
   ],
   "source": [
    "ab[::-2]\n",
    "## this is using print first index and skip a second index...using by step..."
   ]
  },
  {
   "cell_type": "code",
   "execution_count": 124,
   "id": "3084fd34-a056-4a14-8acb-f75e9b8f8436",
   "metadata": {},
   "outputs": [
    {
     "data": {
      "text/plain": [
       "['banana', False, 30, 'abhishke']"
      ]
     },
     "execution_count": 124,
     "metadata": {},
     "output_type": "execute_result"
    }
   ],
   "source": [
    "ab[::-3]\n",
    "## this is using print first index skip third index..."
   ]
  },
  {
   "cell_type": "code",
   "execution_count": 125,
   "id": "e854e3ff-97e7-467b-949a-9dfdf2f690e2",
   "metadata": {},
   "outputs": [],
   "source": [
    "## repetation operator.."
   ]
  },
  {
   "cell_type": "code",
   "execution_count": 132,
   "id": "b0282655-9e3a-4544-a155-a80fbf0d205c",
   "metadata": {},
   "outputs": [
    {
     "data": {
      "text/plain": [
       "'abababab'"
      ]
     },
     "execution_count": 132,
     "metadata": {},
     "output_type": "execute_result"
    }
   ],
   "source": [
    "\"ab\"*4\n",
    "## this is repetation operator its means repeat a index many time given by u..."
   ]
  },
  {
   "cell_type": "code",
   "execution_count": 136,
   "id": "84dc5a92-e6e1-485d-a9f6-300f4b8ead9d",
   "metadata": {},
   "outputs": [
    {
     "data": {
      "text/plain": [
       "\"'10 10' '10 10' '10 10' '10 10' '10 10' '10 10' '10 10' '10 10' '10 10' '10 10' \""
      ]
     },
     "execution_count": 136,
     "metadata": {},
     "output_type": "execute_result"
    }
   ],
   "source": [
    "\"'10 10' \"*10\n",
    "## repetation with pairs..."
   ]
  },
  {
   "cell_type": "code",
   "execution_count": 138,
   "id": "10daab76-360e-4dab-9818-2570c5fa0fcb",
   "metadata": {},
   "outputs": [
    {
     "data": {
      "text/plain": [
       "'10101010101010101010'"
      ]
     },
     "execution_count": 138,
     "metadata": {},
     "output_type": "execute_result"
    }
   ],
   "source": [
    "\"10\"*10\n",
    "## repetation by single index.."
   ]
  },
  {
   "cell_type": "code",
   "execution_count": 140,
   "id": "88c7dc8c-9cf7-4530-af64-0ed82fafa22a",
   "metadata": {},
   "outputs": [
    {
     "data": {
      "text/plain": [
       "'10 10 10 10 10 10 10 10 10 10 '"
      ]
     },
     "execution_count": 140,
     "metadata": {},
     "output_type": "execute_result"
    }
   ],
   "source": [
    "\"10 \"*10\n",
    "## repetation by single index with space..."
   ]
  },
  {
   "cell_type": "code",
   "execution_count": 159,
   "id": "370d250a-14bf-4f34-9894-75cea1439cbc",
   "metadata": {},
   "outputs": [
    {
     "name": "stdout",
     "output_type": "stream",
     "text": [
      " i am study data analyst course\n",
      "  i am study data analyst course\n",
      "  i am study data analyst course\n",
      "  i am study data analyst course\n",
      "  i am study data analyst course\n",
      " \n"
     ]
    }
   ],
   "source": [
    "a =\" i am study data analyst course\\n \"\n",
    "print(a*5)\n",
    "## using \\n create a new line with repetation....\n"
   ]
  },
  {
   "cell_type": "code",
   "execution_count": 161,
   "id": "4455265f-59b8-450f-90f6-5132ba1e2be8",
   "metadata": {},
   "outputs": [
    {
     "name": "stdout",
     "output_type": "stream",
     "text": [
      "['abhishek', 'abhishek', 'abhishek', 'abhishek', 'abhishek']\n"
     ]
    }
   ],
   "source": [
    "my_name = [\"abhishek\"]\n",
    "print(my_name*5)"
   ]
  },
  {
   "cell_type": "code",
   "execution_count": 175,
   "id": "7fa8b177-c7a8-4cdc-ab0d-edf579ad4652",
   "metadata": {},
   "outputs": [
    {
     "name": "stdout",
     "output_type": "stream",
     "text": [
      "i am a student of pwskills\n",
      "i am a student of pwskills\n",
      "\n",
      " i learning a data analyst\n",
      " i learning a data analyst\n",
      "\n",
      " i learned a pyhton\n",
      "  i learned a pyhton\n",
      "  i learned a pyhton\n",
      "  i learned a pyhton\n",
      "  i learned a pyhton\n",
      " \n",
      " u have completed module 1\n",
      " u have completed module 1\n",
      "\n"
     ]
    }
   ],
   "source": [
    "ab = \"i am a student of pwskills\\n\"\n",
    "bc = \" i learning a data analyst\\n\"\n",
    "cb = \" i learned a pyhton\\n \"\n",
    "dc = \" u have completed module 1\\n\"\n",
    "print(ab*2)\n",
    "print(bc*2)\n",
    "print(cb*5)\n",
    "print(dc*2)"
   ]
  },
  {
   "cell_type": "code",
   "execution_count": null,
   "id": "54df1727-3ffe-48ff-9bed-5f1fc9bd010e",
   "metadata": {},
   "outputs": [],
   "source": []
  },
  {
   "cell_type": "code",
   "execution_count": null,
   "id": "4bb91572-5b39-426c-8e8b-f5a3777398c9",
   "metadata": {},
   "outputs": [],
   "source": []
  },
  {
   "cell_type": "code",
   "execution_count": 146,
   "id": "7e83df58-55a8-4644-84f1-75e821999925",
   "metadata": {},
   "outputs": [],
   "source": [
    "## list in list..."
   ]
  },
  {
   "cell_type": "code",
   "execution_count": 149,
   "id": "b8240092-abea-4b8c-9192-26abafbb223a",
   "metadata": {},
   "outputs": [],
   "source": [
    "ab = [\"abhishek\",\"moshin\",[1,2,3,4],\"data\"]\n",
    "## list are store another list in same variable..."
   ]
  },
  {
   "cell_type": "code",
   "execution_count": 150,
   "id": "e2d3e814-0d4f-44ce-b191-772c6c030632",
   "metadata": {},
   "outputs": [
    {
     "data": {
      "text/plain": [
       "['abhishek', 'moshin', [1, 2, 3, 4], 'data']"
      ]
     },
     "execution_count": 150,
     "metadata": {},
     "output_type": "execute_result"
    }
   ],
   "source": [
    "ab\n"
   ]
  },
  {
   "cell_type": "code",
   "execution_count": 155,
   "id": "8c6ff7b1-09b2-4e41-8160-622da20dcfaf",
   "metadata": {},
   "outputs": [],
   "source": [
    "ab = [\"pwskills\",[\"data anlyst\"],\"course\",[\"data science\"]]   ## list in list..\n"
   ]
  },
  {
   "cell_type": "code",
   "execution_count": 156,
   "id": "d1bffd69-ba23-4848-be20-97602700401b",
   "metadata": {},
   "outputs": [
    {
     "data": {
      "text/plain": [
       "['pwskills', ['data anlyst'], 'course', ['data science']]"
      ]
     },
     "execution_count": 156,
     "metadata": {},
     "output_type": "execute_result"
    }
   ],
   "source": [
    "ab"
   ]
  },
  {
   "cell_type": "code",
   "execution_count": null,
   "id": "3ec3d0df-fbae-4ccb-9b6a-87183e8383d6",
   "metadata": {},
   "outputs": [],
   "source": []
  },
  {
   "cell_type": "code",
   "execution_count": 157,
   "id": "96660d0f-75fa-4b16-9df8-aacc6c430d06",
   "metadata": {},
   "outputs": [],
   "source": [
    "## concatenation of list.."
   ]
  },
  {
   "cell_type": "code",
   "execution_count": 166,
   "id": "ff552ed9-6850-409b-91c6-33719f451b00",
   "metadata": {},
   "outputs": [],
   "source": [
    "ab = [\"milk\",\"bread\",\"jam\",\"penut butter\"]\n",
    "bc = [\"orange\",\"mango\",\"banana\",\"apple\"]\n",
    "## concatenation is adding elements in list ..."
   ]
  },
  {
   "cell_type": "code",
   "execution_count": 167,
   "id": "fd106d0d-b548-4e13-b340-6c1ee2562a59",
   "metadata": {},
   "outputs": [],
   "source": [
    "ad = ab+bc"
   ]
  },
  {
   "cell_type": "code",
   "execution_count": 168,
   "id": "db5394ec-a4a4-4b2c-96e2-0b1cfd4b195f",
   "metadata": {},
   "outputs": [
    {
     "data": {
      "text/plain": [
       "['milk', 'bread', 'jam', 'penut butter', 'orange', 'mango', 'banana', 'apple']"
      ]
     },
     "execution_count": 168,
     "metadata": {},
     "output_type": "execute_result"
    }
   ],
   "source": [
    "ad\n"
   ]
  },
  {
   "cell_type": "code",
   "execution_count": 169,
   "id": "9837d9b7-8968-4991-8c42-67166308708c",
   "metadata": {},
   "outputs": [],
   "source": [
    "a = [10,20,30,40,50,\"pw\",\"skills\",\"data\",\"science\"]\n",
    "b = [2.3,4.5,True,False,\"power bi\",\"ai\"]"
   ]
  },
  {
   "cell_type": "code",
   "execution_count": 170,
   "id": "74e3e14a-91a4-4b3c-b719-ca235f85e503",
   "metadata": {},
   "outputs": [],
   "source": [
    "ab = a+b"
   ]
  },
  {
   "cell_type": "code",
   "execution_count": 171,
   "id": "d00e5906-dc8d-4a29-9cfe-799255d335cb",
   "metadata": {},
   "outputs": [
    {
     "data": {
      "text/plain": [
       "[10,\n",
       " 20,\n",
       " 30,\n",
       " 40,\n",
       " 50,\n",
       " 'pw',\n",
       " 'skills',\n",
       " 'data',\n",
       " 'science',\n",
       " 2.3,\n",
       " 4.5,\n",
       " True,\n",
       " False,\n",
       " 'power bi',\n",
       " 'ai']"
      ]
     },
     "execution_count": 171,
     "metadata": {},
     "output_type": "execute_result"
    }
   ],
   "source": [
    "ab"
   ]
  },
  {
   "cell_type": "code",
   "execution_count": null,
   "id": "bf0e69c2-c1f0-408b-9323-c905781f2f96",
   "metadata": {},
   "outputs": [],
   "source": []
  },
  {
   "cell_type": "code",
   "execution_count": 172,
   "id": "b0401b94-d872-4da9-9706-4cd2e55a76ac",
   "metadata": {},
   "outputs": [],
   "source": [
    "## deep copy and shallow copy..."
   ]
  },
  {
   "cell_type": "markdown",
   "id": "245fbf8b-eb4d-4a85-819b-5d33219c3f1c",
   "metadata": {},
   "source": [
    "## shallow copy"
   ]
  },
  {
   "cell_type": "markdown",
   "id": "9403d16b-dd9f-4a89-b535-ce8251be2b73",
   "metadata": {},
   "source": [
    "#### in shallow copy a copy of the original object is stored only the reference address is finally copied..\n",
    "    if u can change or modification in list 1 they can also reflect/change in list 2....>>>\n",
    "    shallow copy value will change with in other list...."
   ]
  },
  {
   "cell_type": "code",
   "execution_count": null,
   "id": "a079381c-e050-48c3-acd9-d03816536c18",
   "metadata": {},
   "outputs": [],
   "source": []
  },
  {
   "cell_type": "code",
   "execution_count": 176,
   "id": "639bb53b-2000-485e-8eee-bbf2637fd610",
   "metadata": {},
   "outputs": [],
   "source": [
    "list1 = [1,2,3]\n",
    "list2 = [\"a\",\"b\",\"c\"]\n"
   ]
  },
  {
   "cell_type": "code",
   "execution_count": 177,
   "id": "27717d31-41c1-4fdc-a781-3393fa529b22",
   "metadata": {},
   "outputs": [
    {
     "data": {
      "text/plain": [
       "[1, 2, 3]"
      ]
     },
     "execution_count": 177,
     "metadata": {},
     "output_type": "execute_result"
    }
   ],
   "source": [
    "list1"
   ]
  },
  {
   "cell_type": "code",
   "execution_count": 178,
   "id": "e16d32eb-5db1-4352-9077-777680c04a3f",
   "metadata": {},
   "outputs": [
    {
     "data": {
      "text/plain": [
       "['a', 'b', 'c']"
      ]
     },
     "execution_count": 178,
     "metadata": {},
     "output_type": "execute_result"
    }
   ],
   "source": [
    "list2"
   ]
  },
  {
   "cell_type": "code",
   "execution_count": 180,
   "id": "dd07d7ae-4e4a-4131-bed4-0b3b73f44ff9",
   "metadata": {},
   "outputs": [],
   "source": [
    "list1 = list2"
   ]
  },
  {
   "cell_type": "code",
   "execution_count": 181,
   "id": "6c41182c-7689-4306-b22e-91f0c4a27a0d",
   "metadata": {},
   "outputs": [],
   "source": [
    "list1[0] = \"ab\""
   ]
  },
  {
   "cell_type": "code",
   "execution_count": 182,
   "id": "6a49ad9f-1820-481d-a49e-6d6aa595838a",
   "metadata": {},
   "outputs": [
    {
     "data": {
      "text/plain": [
       "['ab', 'b', 'c']"
      ]
     },
     "execution_count": 182,
     "metadata": {},
     "output_type": "execute_result"
    }
   ],
   "source": [
    "list1\n",
    "## this is beauty of shallow copy if u change anything in list1 in index they can also refelcted in list2....\n",
    "## "
   ]
  },
  {
   "cell_type": "code",
   "execution_count": 183,
   "id": "e30709b6-0c8c-42c2-a98e-16d748e3f09c",
   "metadata": {},
   "outputs": [
    {
     "data": {
      "text/plain": [
       "['ab', 'b', 'c']"
      ]
     },
     "execution_count": 183,
     "metadata": {},
     "output_type": "execute_result"
    }
   ],
   "source": [
    "list2"
   ]
  },
  {
   "cell_type": "code",
   "execution_count": 192,
   "id": "476c10c7-d09a-4b91-af38-285219979f74",
   "metadata": {},
   "outputs": [],
   "source": [
    "ab = [\"pwskills\",\"data science\" ,\"abhishek\",\"mohsin\",\"sanjeev\"]\n",
    "bc = [\"power bi\",\"ai\",\"data structure\",\"laptop\"]"
   ]
  },
  {
   "cell_type": "code",
   "execution_count": 193,
   "id": "2faecfbc-6c12-4e39-8a13-5cd782255851",
   "metadata": {},
   "outputs": [
    {
     "data": {
      "text/plain": [
       "['pwskills', 'data science', 'abhishek', 'mohsin', 'sanjeev']"
      ]
     },
     "execution_count": 193,
     "metadata": {},
     "output_type": "execute_result"
    }
   ],
   "source": [
    "ab"
   ]
  },
  {
   "cell_type": "code",
   "execution_count": 194,
   "id": "a587fc41-e35d-444b-aad6-79db07c40d63",
   "metadata": {},
   "outputs": [
    {
     "data": {
      "text/plain": [
       "['power bi', 'ai', 'data structure', 'laptop']"
      ]
     },
     "execution_count": 194,
     "metadata": {},
     "output_type": "execute_result"
    }
   ],
   "source": [
    "bc"
   ]
  },
  {
   "cell_type": "code",
   "execution_count": 195,
   "id": "70d96532-c680-49ff-836b-3d5b47730b48",
   "metadata": {},
   "outputs": [],
   "source": [
    "ab[0] = \"coding ninja\"\n",
    "##ab=bc\n",
    "## if u dont give a equal ab to bc shollow copy are didnt work"
   ]
  },
  {
   "cell_type": "code",
   "execution_count": 190,
   "id": "7c80828a-a156-4d47-a0c4-d8a39c71a455",
   "metadata": {},
   "outputs": [
    {
     "data": {
      "text/plain": [
       "['coding ninja', 'ai', 'data structure', 'laptop']"
      ]
     },
     "execution_count": 190,
     "metadata": {},
     "output_type": "execute_result"
    }
   ],
   "source": [
    "ab"
   ]
  },
  {
   "cell_type": "code",
   "execution_count": 197,
   "id": "71d2c18b-fb5c-461e-9f91-7dafbff8e9d6",
   "metadata": {},
   "outputs": [
    {
     "data": {
      "text/plain": [
       "['power bi', 'ai', 'data structure', 'laptop']"
      ]
     },
     "execution_count": 197,
     "metadata": {},
     "output_type": "execute_result"
    }
   ],
   "source": [
    "bc\n",
    "## see it they are didn't reflect in second list... because they are didn't give a commond to list1(ab) equals to list2(bc)"
   ]
  },
  {
   "cell_type": "code",
   "execution_count": 198,
   "id": "8510f9ee-4c77-48ac-98b0-f5d55687e868",
   "metadata": {},
   "outputs": [
    {
     "data": {
      "text/plain": [
       "['coding ninja', 'data science', 'abhishek', 'mohsin', 'sanjeev']"
      ]
     },
     "execution_count": 198,
     "metadata": {},
     "output_type": "execute_result"
    }
   ],
   "source": []
  },
  {
   "cell_type": "code",
   "execution_count": 199,
   "id": "fac34963-9d4d-48ad-b1fe-54ed03b38a9b",
   "metadata": {},
   "outputs": [],
   "source": [
    "ab = [\"pwskills\",\"data science\" ,\"abhishek\",\"mohsin\",\"sanjeev\"]\n",
    "bc = [\"power bi\",\"ai\",\"data structure\",\"laptop\"]"
   ]
  },
  {
   "cell_type": "code",
   "execution_count": 200,
   "id": "f68afeb3-5e05-4892-9493-b581073a493c",
   "metadata": {},
   "outputs": [
    {
     "data": {
      "text/plain": [
       "['pwskills', 'data science', 'abhishek', 'mohsin', 'sanjeev']"
      ]
     },
     "execution_count": 200,
     "metadata": {},
     "output_type": "execute_result"
    }
   ],
   "source": [
    "ab"
   ]
  },
  {
   "cell_type": "code",
   "execution_count": 201,
   "id": "1f353f3a-8ddb-4e62-9ba7-f1f2f9e5973d",
   "metadata": {},
   "outputs": [
    {
     "data": {
      "text/plain": [
       "['power bi', 'ai', 'data structure', 'laptop']"
      ]
     },
     "execution_count": 201,
     "metadata": {},
     "output_type": "execute_result"
    }
   ],
   "source": [
    "bc"
   ]
  },
  {
   "cell_type": "code",
   "execution_count": 202,
   "id": "6577bc71-aa12-41ae-a365-b1507a1203dd",
   "metadata": {},
   "outputs": [],
   "source": [
    "ab=bc"
   ]
  },
  {
   "cell_type": "code",
   "execution_count": 203,
   "id": "bb8a9655-38f5-486d-9230-709b196a973b",
   "metadata": {},
   "outputs": [],
   "source": [
    "ab[0] =\"coding nonja\""
   ]
  },
  {
   "cell_type": "code",
   "execution_count": 204,
   "id": "0b0ef33f-75c3-4edd-920a-4f03f9731ba9",
   "metadata": {},
   "outputs": [
    {
     "data": {
      "text/plain": [
       "['coding nonja', 'ai', 'data structure', 'laptop']"
      ]
     },
     "execution_count": 204,
     "metadata": {},
     "output_type": "execute_result"
    }
   ],
   "source": [
    "ab"
   ]
  },
  {
   "cell_type": "code",
   "execution_count": 206,
   "id": "5f8fbfb2-ff9a-4e8b-a954-c94f90bb548f",
   "metadata": {},
   "outputs": [
    {
     "data": {
      "text/plain": [
       "['coding nonja', 'ai', 'data structure', 'laptop']"
      ]
     },
     "execution_count": 206,
     "metadata": {},
     "output_type": "execute_result"
    }
   ],
   "source": [
    "bc\n",
    "## see they are reflect list1 and list are both...."
   ]
  },
  {
   "cell_type": "code",
   "execution_count": 207,
   "id": "afee3d54-eb13-4a59-b745-3280949776f6",
   "metadata": {},
   "outputs": [],
   "source": [
    "bc[0] = \"pwskills\""
   ]
  },
  {
   "cell_type": "code",
   "execution_count": 208,
   "id": "bb760874-e29e-4850-9735-9723cedaa4fd",
   "metadata": {},
   "outputs": [
    {
     "data": {
      "text/plain": [
       "['pwskills', 'ai', 'data structure', 'laptop']"
      ]
     },
     "execution_count": 208,
     "metadata": {},
     "output_type": "execute_result"
    }
   ],
   "source": [
    "ab"
   ]
  },
  {
   "cell_type": "code",
   "execution_count": 209,
   "id": "32d962eb-62b2-4d3c-ad55-2b3f85c436b6",
   "metadata": {},
   "outputs": [
    {
     "data": {
      "text/plain": [
       "['pwskills', 'ai', 'data structure', 'laptop']"
      ]
     },
     "execution_count": 209,
     "metadata": {},
     "output_type": "execute_result"
    }
   ],
   "source": [
    "bc"
   ]
  },
  {
   "cell_type": "code",
   "execution_count": 210,
   "id": "3e0fe6be-6b4f-4aba-8fe4-c7da8a02806e",
   "metadata": {},
   "outputs": [],
   "source": [
    "ab = [\"pwskills\",\"data science\" ,\"abhishek\",\"mohsin\",\"sanjeev\"]\n",
    "bc = [\"power bi\",\"ai\",\"data structure\",\"laptop\"]"
   ]
  },
  {
   "cell_type": "code",
   "execution_count": 215,
   "id": "4921fcab-0da9-4506-8fc4-93ef41050f8e",
   "metadata": {},
   "outputs": [],
   "source": [
    "bc=ab\n",
    "## u can access a equal to  list2 in list1...."
   ]
  },
  {
   "cell_type": "code",
   "execution_count": 212,
   "id": "5478c093-f8d8-4e60-9c3f-d420d6f9c003",
   "metadata": {},
   "outputs": [
    {
     "data": {
      "text/plain": [
       "['pwskills', 'data science', 'abhishek', 'mohsin', 'sanjeev']"
      ]
     },
     "execution_count": 212,
     "metadata": {},
     "output_type": "execute_result"
    }
   ],
   "source": [
    "bc"
   ]
  },
  {
   "cell_type": "code",
   "execution_count": 213,
   "id": "b749d1e3-de13-414b-844d-052b21a58193",
   "metadata": {},
   "outputs": [
    {
     "data": {
      "text/plain": [
       "['pwskills', 'data science', 'abhishek', 'mohsin', 'sanjeev']"
      ]
     },
     "execution_count": 213,
     "metadata": {},
     "output_type": "execute_result"
    }
   ],
   "source": [
    "ab"
   ]
  },
  {
   "cell_type": "code",
   "execution_count": 219,
   "id": "424b86d3-52be-4ddd-ba1d-a49a5fdad20b",
   "metadata": {},
   "outputs": [],
   "source": [
    "ab[1] =\"data anlyst\"\n",
    "### ab is pointing same memory location if either change in list(ab) the change will reflect both of variable...."
   ]
  },
  {
   "cell_type": "code",
   "execution_count": 217,
   "id": "db0959d5-3c73-4b1c-8438-9c5faca5f61a",
   "metadata": {},
   "outputs": [
    {
     "data": {
      "text/plain": [
       "['pwskills', 'data anlyst', 'abhishek', 'mohsin', 'sanjeev']"
      ]
     },
     "execution_count": 217,
     "metadata": {},
     "output_type": "execute_result"
    }
   ],
   "source": [
    "ab"
   ]
  },
  {
   "cell_type": "code",
   "execution_count": 218,
   "id": "44b9bb8a-09be-4b6b-b576-a34da94abefc",
   "metadata": {},
   "outputs": [
    {
     "data": {
      "text/plain": [
       "['pwskills', 'data anlyst', 'abhishek', 'mohsin', 'sanjeev']"
      ]
     },
     "execution_count": 218,
     "metadata": {},
     "output_type": "execute_result"
    }
   ],
   "source": [
    "bc"
   ]
  },
  {
   "cell_type": "code",
   "execution_count": null,
   "id": "41db92f9-98bc-4a92-a50d-085464a7e1e4",
   "metadata": {},
   "outputs": [],
   "source": []
  },
  {
   "cell_type": "markdown",
   "id": "c7f2c67f-a126-47c9-97a9-0aeac54917cc",
   "metadata": {},
   "source": [
    "### Deep copy"
   ]
  },
  {
   "cell_type": "markdown",
   "id": "116dcfb2-a7ab-4715-bc78-4c8d55be4687",
   "metadata": {},
   "source": [
    "#### Deep copy the copy of original object and repetetive copies both are stored...\n",
    "    deep copy = .copy()\n",
    "    will not change the value in another list...\n",
    "    when you are use .copy() its mean deep copy....\n",
    "    if you make change in any list or b if do not any impact on other list....\n"
   ]
  },
  {
   "cell_type": "code",
   "execution_count": 220,
   "id": "5c6b01f4-1a2f-447f-891a-b67b74b461a4",
   "metadata": {},
   "outputs": [],
   "source": [
    "grocery_list = [\"banana\",\"potato\",\"tomato\"]\n",
    "grocery_list2 = [\"mango\",\"apple\",\"ladyfinger\"]"
   ]
  },
  {
   "cell_type": "code",
   "execution_count": 221,
   "id": "83db3da1-a880-4096-a19f-afd2b283bb3c",
   "metadata": {},
   "outputs": [
    {
     "data": {
      "text/plain": [
       "['banana', 'potato', 'tomato']"
      ]
     },
     "execution_count": 221,
     "metadata": {},
     "output_type": "execute_result"
    }
   ],
   "source": [
    "grocery_list"
   ]
  },
  {
   "cell_type": "code",
   "execution_count": 222,
   "id": "fe98798f-8ec4-4c1a-9aaf-2acda495b9b9",
   "metadata": {},
   "outputs": [
    {
     "data": {
      "text/plain": [
       "['mango', 'apple', 'ladyfinger']"
      ]
     },
     "execution_count": 222,
     "metadata": {},
     "output_type": "execute_result"
    }
   ],
   "source": [
    "grocery_list2"
   ]
  },
  {
   "cell_type": "code",
   "execution_count": 223,
   "id": "d0478477-f19d-405b-bab5-6671d3001edf",
   "metadata": {},
   "outputs": [],
   "source": [
    "grocery_list = grocery_list2.copy()\n",
    "## this is usage of deep copy.."
   ]
  },
  {
   "cell_type": "code",
   "execution_count": 227,
   "id": "37fc0925-1e83-4daf-932b-448b50e3de13",
   "metadata": {},
   "outputs": [],
   "source": [
    "grocery_list[0] = \"carrot\"\n",
    "## if u can changing a grocerylist but do not any reflect in grocerylist2....."
   ]
  },
  {
   "cell_type": "code",
   "execution_count": 225,
   "id": "34854eab-5ba2-490a-8270-052cf02368b7",
   "metadata": {},
   "outputs": [
    {
     "data": {
      "text/plain": [
       "['carrot', 'apple', 'ladyfinger']"
      ]
     },
     "execution_count": 225,
     "metadata": {},
     "output_type": "execute_result"
    }
   ],
   "source": [
    "grocery_list"
   ]
  },
  {
   "cell_type": "code",
   "execution_count": 226,
   "id": "c3af6384-7753-4d32-b453-c362ac6166bd",
   "metadata": {},
   "outputs": [
    {
     "data": {
      "text/plain": [
       "['mango', 'apple', 'ladyfinger']"
      ]
     },
     "execution_count": 226,
     "metadata": {},
     "output_type": "execute_result"
    }
   ],
   "source": [
    "grocery_list2"
   ]
  },
  {
   "cell_type": "code",
   "execution_count": 228,
   "id": "f4e1f21d-508b-449c-80e1-7b29bbf60a31",
   "metadata": {},
   "outputs": [],
   "source": [
    "ab = [1000,2000,3000,4000]\n",
    "bc = [100,200,300,400]"
   ]
  },
  {
   "cell_type": "code",
   "execution_count": 229,
   "id": "b676ff84-2c79-4b42-a401-461fc3ca1a5a",
   "metadata": {},
   "outputs": [
    {
     "data": {
      "text/plain": [
       "[1000, 2000, 3000, 4000]"
      ]
     },
     "execution_count": 229,
     "metadata": {},
     "output_type": "execute_result"
    }
   ],
   "source": [
    "ab"
   ]
  },
  {
   "cell_type": "code",
   "execution_count": 230,
   "id": "a50e6d57-7633-4150-a430-2465faca687c",
   "metadata": {},
   "outputs": [
    {
     "data": {
      "text/plain": [
       "[100, 200, 300, 400]"
      ]
     },
     "execution_count": 230,
     "metadata": {},
     "output_type": "execute_result"
    }
   ],
   "source": [
    "bc"
   ]
  },
  {
   "cell_type": "code",
   "execution_count": 231,
   "id": "c6e9b341-4847-4ec0-946d-6a80c5c25186",
   "metadata": {},
   "outputs": [],
   "source": [
    "bc= ab.copy()"
   ]
  },
  {
   "cell_type": "code",
   "execution_count": 232,
   "id": "09faf11d-b6c4-480d-bb05-3aa9609c6539",
   "metadata": {},
   "outputs": [],
   "source": [
    "bc[0] = 505"
   ]
  },
  {
   "cell_type": "code",
   "execution_count": 233,
   "id": "43581e54-ad13-4976-9266-b31da1e13cfd",
   "metadata": {},
   "outputs": [
    {
     "data": {
      "text/plain": [
       "[1000, 2000, 3000, 4000]"
      ]
     },
     "execution_count": 233,
     "metadata": {},
     "output_type": "execute_result"
    }
   ],
   "source": [
    "ab\n",
    "## they are print a old index without any changes..."
   ]
  },
  {
   "cell_type": "code",
   "execution_count": 235,
   "id": "a2a0f25b-550f-43ef-94c9-536978af2ef7",
   "metadata": {},
   "outputs": [
    {
     "data": {
      "text/plain": [
       "[505, 2000, 3000, 4000]"
      ]
     },
     "execution_count": 235,
     "metadata": {},
     "output_type": "execute_result"
    }
   ],
   "source": [
    "bc\n",
    "## they are reflect this index only....."
   ]
  },
  {
   "cell_type": "code",
   "execution_count": null,
   "id": "724019f4-df87-4b5a-bf03-6113c23bce8a",
   "metadata": {},
   "outputs": [],
   "source": []
  },
  {
   "cell_type": "markdown",
   "id": "bf549b99-a5aa-4a33-916c-52197aa9d150",
   "metadata": {},
   "source": [
    "### Membership operator  ( IN or NOT IN )\n"
   ]
  },
  {
   "cell_type": "markdown",
   "id": "65e4a886-acf9-42a1-9461-faadc8bb98aa",
   "metadata": {},
   "source": [
    "#### Membership operator in python checks whether a given value is a member of sequnce such as string,list,tuples ..\n",
    "    there are two primary type:\n",
    "    IN (return true if specified value is found within a sequence)\n",
    "    NOT IN (return true specified value is not found within a sequence)\n",
    "    "
   ]
  },
  {
   "cell_type": "code",
   "execution_count": 238,
   "id": "5565b80c-dede-43c9-9c0c-6855b3a6c356",
   "metadata": {},
   "outputs": [],
   "source": [
    "my_list = [\"apple\",\"banana\",\"ladyfinger\"]\n"
   ]
  },
  {
   "cell_type": "code",
   "execution_count": 239,
   "id": "5bf58b36-c2d8-41d4-a03a-5aea866fbf9b",
   "metadata": {},
   "outputs": [
    {
     "data": {
      "text/plain": [
       "['apple', 'banana', 'ladyfinger']"
      ]
     },
     "execution_count": 239,
     "metadata": {},
     "output_type": "execute_result"
    }
   ],
   "source": [
    "my_list"
   ]
  },
  {
   "cell_type": "code",
   "execution_count": 242,
   "id": "30e58643-de28-44ad-a680-e0ed50310d25",
   "metadata": {},
   "outputs": [
    {
     "data": {
      "text/plain": [
       "True"
      ]
     },
     "execution_count": 242,
     "metadata": {},
     "output_type": "execute_result"
    }
   ],
   "source": [
    "\"apple\" in my_list\n",
    "## this is in a list so this is true...using by in...>>"
   ]
  },
  {
   "cell_type": "code",
   "execution_count": 248,
   "id": "ba949c0e-02a2-4a52-9f74-e7fe6e26f75f",
   "metadata": {},
   "outputs": [
    {
     "data": {
      "text/plain": [
       "False"
      ]
     },
     "execution_count": 248,
     "metadata": {},
     "output_type": "execute_result"
    }
   ],
   "source": [
    "\"mango\" in my_list\n",
    "## showing a false because they are already in a my_list...."
   ]
  },
  {
   "cell_type": "code",
   "execution_count": 249,
   "id": "d86bb90f-dc3c-4bf9-aeaf-e90913c216e7",
   "metadata": {},
   "outputs": [
    {
     "data": {
      "text/plain": [
       "True"
      ]
     },
     "execution_count": 249,
     "metadata": {},
     "output_type": "execute_result"
    }
   ],
   "source": [
    "\"banana\" in my_list"
   ]
  },
  {
   "cell_type": "code",
   "execution_count": 250,
   "id": "4a930692-82ab-45c0-b2cf-9e74ce069cb2",
   "metadata": {},
   "outputs": [
    {
     "data": {
      "text/plain": [
       "False"
      ]
     },
     "execution_count": 250,
     "metadata": {},
     "output_type": "execute_result"
    }
   ],
   "source": [
    "\"carrot\" in my_list"
   ]
  },
  {
   "cell_type": "code",
   "execution_count": 251,
   "id": "27fa21e5-940a-4b75-b04b-925fe0f5db2b",
   "metadata": {},
   "outputs": [
    {
     "data": {
      "text/plain": [
       "True"
      ]
     },
     "execution_count": 251,
     "metadata": {},
     "output_type": "execute_result"
    }
   ],
   "source": [
    "\"ladyfinger\" in my_list"
   ]
  },
  {
   "cell_type": "code",
   "execution_count": 254,
   "id": "b8715133-0794-46e0-9123-f8ebc1fc9dcf",
   "metadata": {},
   "outputs": [],
   "source": [
    "## NOT IN"
   ]
  },
  {
   "cell_type": "code",
   "execution_count": 255,
   "id": "83e852d3-518b-450d-94c4-244e2677b0b1",
   "metadata": {},
   "outputs": [],
   "source": [
    "my_list2 = [ \"brown bread\",\"bread\",\"penut bread\",\"milk bread\",\"coconut bread\"]\n",
    "## this list i will show not in operator...."
   ]
  },
  {
   "cell_type": "code",
   "execution_count": 253,
   "id": "46c0e8aa-86b0-4a0e-8928-1137d30b99f5",
   "metadata": {},
   "outputs": [
    {
     "data": {
      "text/plain": [
       "['brown bread', 'bread', 'penut bread', 'milk bread', 'coconut bread']"
      ]
     },
     "execution_count": 253,
     "metadata": {},
     "output_type": "execute_result"
    }
   ],
   "source": [
    "my_list2"
   ]
  },
  {
   "cell_type": "code",
   "execution_count": 259,
   "id": "149517e8-8b9e-424d-8f95-15e66e1b5118",
   "metadata": {},
   "outputs": [
    {
     "data": {
      "text/plain": [
       "False"
      ]
     },
     "execution_count": 259,
     "metadata": {},
     "output_type": "execute_result"
    }
   ],
   "source": [
    "\"brown bread\" not in my_list2\n",
    "## they are showing false because brown bread already in list..../\n"
   ]
  },
  {
   "cell_type": "code",
   "execution_count": 260,
   "id": "0a39675c-1d27-4ed6-a5a8-c1177ebf6123",
   "metadata": {},
   "outputs": [
    {
     "data": {
      "text/plain": [
       "True"
      ]
     },
     "execution_count": 260,
     "metadata": {},
     "output_type": "execute_result"
    }
   ],
   "source": [
    "\"apple\" not in my_list2\n",
    "### they are showing true because they are not in list..."
   ]
  },
  {
   "cell_type": "code",
   "execution_count": 261,
   "id": "75847883-9251-4f10-b7a0-d9591e800c23",
   "metadata": {},
   "outputs": [
    {
     "data": {
      "text/plain": [
       "False"
      ]
     },
     "execution_count": 261,
     "metadata": {},
     "output_type": "execute_result"
    }
   ],
   "source": [
    "\"penut bread\" not in my_list2"
   ]
  },
  {
   "cell_type": "code",
   "execution_count": 263,
   "id": "15cdc560-174e-4c69-a99f-6155f3c0cc5a",
   "metadata": {},
   "outputs": [
    {
     "data": {
      "text/plain": [
       "True"
      ]
     },
     "execution_count": 263,
     "metadata": {},
     "output_type": "execute_result"
    }
   ],
   "source": [
    "\"milk breaddd\" not in my_list2"
   ]
  },
  {
   "cell_type": "code",
   "execution_count": 264,
   "id": "db3e377d-b17a-405a-b5e8-b18ad1167e1e",
   "metadata": {},
   "outputs": [
    {
     "data": {
      "text/plain": [
       "False"
      ]
     },
     "execution_count": 264,
     "metadata": {},
     "output_type": "execute_result"
    }
   ],
   "source": [
    "\"milk bread\" not in my_list2"
   ]
  },
  {
   "cell_type": "code",
   "execution_count": null,
   "id": "b54ffff4-be2c-42c4-996a-fde98b8bdd84",
   "metadata": {},
   "outputs": [],
   "source": []
  },
  {
   "cell_type": "markdown",
   "id": "3f3763f6-2891-4c02-b783-fa88310749d9",
   "metadata": {},
   "source": [
    "### List comprehension"
   ]
  },
  {
   "cell_type": "markdown",
   "id": "cf63773a-99e0-415d-90d6-9074d8533638",
   "metadata": {},
   "source": [
    "#### List comprehension is an easy to read ,compact, and elegant way to creating a list from any existing iterable object....\n",
    "    its a generally a single line of code...\n",
    "    this is list comprehension one line code and endclosed by []....."
   ]
  },
  {
   "cell_type": "code",
   "execution_count": 266,
   "id": "8fd50f4e-9657-4896-aa8a-2fa4e66266ea",
   "metadata": {},
   "outputs": [],
   "source": [
    "## example of list comprehension\n"
   ]
  },
  {
   "cell_type": "code",
   "execution_count": 274,
   "id": "e4f448ca-894b-46ba-a7f3-bb3ee978041a",
   "metadata": {},
   "outputs": [],
   "source": [
    "prices = [10,20,30,40,50,60,70]\n",
    "double_price= []\n",
    "for i in price:\n",
    "    double_price.append(i*2)"
   ]
  },
  {
   "cell_type": "code",
   "execution_count": 275,
   "id": "82bd8d73-e707-424d-b065-5cf03b91fb6f",
   "metadata": {},
   "outputs": [
    {
     "data": {
      "text/plain": [
       "[20, 40, 60, 80, 100, 120, 140]"
      ]
     },
     "execution_count": 275,
     "metadata": {},
     "output_type": "execute_result"
    }
   ],
   "source": [
    "double_price"
   ]
  },
  {
   "cell_type": "code",
   "execution_count": 277,
   "id": "4761efdc-9b9b-44d2-ac00-49f73d03afb7",
   "metadata": {},
   "outputs": [
    {
     "data": {
      "text/plain": [
       "[20, 40, 60, 80, 100, 120, 140]"
      ]
     },
     "execution_count": 277,
     "metadata": {},
     "output_type": "execute_result"
    }
   ],
   "source": [
    "## if i use list comprehension on same list\n",
    "[price*2 for price in prices]\n",
    "## this is list comprehension one line code and endclosed by []....."
   ]
  },
  {
   "cell_type": "code",
   "execution_count": 281,
   "id": "5153efe8-424c-4630-b306-45bfa4c65649",
   "metadata": {},
   "outputs": [],
   "source": [
    "ranks = [100,200,300,400]\n",
    "top_rank = []\n",
    "for i in rank:\n",
    "    top_rank.append(i*2)\n",
    "### normal code     "
   ]
  },
  {
   "cell_type": "code",
   "execution_count": 282,
   "id": "29a63b10-eb0e-4051-9215-d9b6e1bfd995",
   "metadata": {},
   "outputs": [
    {
     "data": {
      "text/plain": [
       "[200, 400, 600, 800]"
      ]
     },
     "execution_count": 282,
     "metadata": {},
     "output_type": "execute_result"
    }
   ],
   "source": [
    "top_rank"
   ]
  },
  {
   "cell_type": "code",
   "execution_count": 284,
   "id": "6f08382b-45f4-44ed-9aca-fdadce4699cf",
   "metadata": {},
   "outputs": [
    {
     "data": {
      "text/plain": [
       "[200, 400, 600, 800]"
      ]
     },
     "execution_count": 284,
     "metadata": {},
     "output_type": "execute_result"
    }
   ],
   "source": [
    "## list comprehension// one line code.....\n",
    "[rank*2 for rank in ranks]"
   ]
  },
  {
   "cell_type": "code",
   "execution_count": null,
   "id": "51d8ac13-e0ab-4a02-8fbd-e0b8e2be9359",
   "metadata": {},
   "outputs": [],
   "source": []
  },
  {
   "cell_type": "markdown",
   "id": "72db8db0-a00e-40c2-abc2-88715d2fbb15",
   "metadata": {},
   "source": [
    "### Function of list.."
   ]
  },
  {
   "cell_type": "markdown",
   "id": "49cd1fc8-348e-4bcf-a124-534fd628c0ae",
   "metadata": {},
   "source": [
    "#### (1).append() # use to add an element at the end place in any list.\n",
    "    (2).insert() # use to insert an element at a particular place in the list.\n",
    "    (3).extend() # it will helps to extend a list by another list.\n",
    "    (4).remove() # use to remove any particular element of list by giving argument in the parenthesis.\n",
    "    (5).del() # use to delete the complete list.\n",
    "    (6).clear # use to clear the list and make it empty list.\n",
    "    (7).pop() # also help to delete the last element if paraenthesis is blank , if parenthesis have argument ,it will delete   that particular element.\n",
    "    (8).index() # helps to know the index of an element >> it will always provide the first occurence of element in list...\n",
    "    (9).sorted() # helps to sort the list in alphabetically , if all in the same uppercase or lowercase , otherwise it will prefer first uppercase..\n",
    "    (10).sort() # same as it is dorted function.\n",
    "    (11).count() # helps to use count the number of any specific element in the list.\n",
    "    (12).len() # helps to find out of complete length of list.."
   ]
  },
  {
   "cell_type": "code",
   "execution_count": null,
   "id": "983d2fb2-c836-4f6b-8609-85eb07b5f5a5",
   "metadata": {},
   "outputs": [],
   "source": []
  },
  {
   "cell_type": "code",
   "execution_count": null,
   "id": "f6a71b92-e54e-4c1f-83c6-56038dcdef9d",
   "metadata": {},
   "outputs": [],
   "source": []
  },
  {
   "cell_type": "markdown",
   "id": "7ea8466d-5e75-4f2a-9b90-82c0ee3e14c0",
   "metadata": {},
   "source": [
    "### Question(3) Describe how to access, modify , and delete elements in list with example..?"
   ]
  },
  {
   "cell_type": "markdown",
   "id": "ad6f0092-aa24-490c-8972-38da7ae6c6cb",
   "metadata": {},
   "source": [
    "#### Ans = List is a data structure in python that is a mutable or changeable, ordered sequence of elements. Each elements\n",
    "    or value that is inside of a list is called an item...\n",
    "\n",
    "    (1)access in a list\n",
    "    (2)modify in a list\n",
    "    (3)delete in a list"
   ]
  },
  {
   "cell_type": "markdown",
   "id": "62d992a9-4d97-4772-8dd8-f17a95fb4eb3",
   "metadata": {},
   "source": [
    "### Access in a list...\n"
   ]
  },
  {
   "cell_type": "code",
   "execution_count": 4,
   "id": "c122ef1a-41ee-4837-b6ff-33e8df65b9de",
   "metadata": {},
   "outputs": [],
   "source": [
    "my_list = [\"abhishek\",\"mohsin\",\"sanjeev\",100,200,400]\n"
   ]
  },
  {
   "cell_type": "code",
   "execution_count": 5,
   "id": "6c5a3e8a-bd48-4030-85b3-cf6a3f395bdf",
   "metadata": {},
   "outputs": [
    {
     "data": {
      "text/plain": [
       "['abhishek', 'mohsin', 'sanjeev', 100, 200, 400]"
      ]
     },
     "execution_count": 5,
     "metadata": {},
     "output_type": "execute_result"
    }
   ],
   "source": [
    "my_list"
   ]
  },
  {
   "cell_type": "code",
   "execution_count": 7,
   "id": "c1dc743f-664c-431f-a6a9-25bee0f6519c",
   "metadata": {},
   "outputs": [
    {
     "data": {
      "text/plain": [
       "'abhishek'"
      ]
     },
     "execution_count": 7,
     "metadata": {},
     "output_type": "execute_result"
    }
   ],
   "source": [
    "my_list[0]\n",
    "## access a single index..."
   ]
  },
  {
   "cell_type": "code",
   "execution_count": 8,
   "id": "d92e7211-b6cc-4d29-b0e0-de599b12ff9e",
   "metadata": {},
   "outputs": [
    {
     "data": {
      "text/plain": [
       "'sanjeev'"
      ]
     },
     "execution_count": 8,
     "metadata": {},
     "output_type": "execute_result"
    }
   ],
   "source": [
    "my_list[2]"
   ]
  },
  {
   "cell_type": "code",
   "execution_count": 10,
   "id": "4f58ffde-6fbb-47d4-891b-d2cfce7d2705",
   "metadata": {},
   "outputs": [
    {
     "data": {
      "text/plain": [
       "400"
      ]
     },
     "execution_count": 10,
     "metadata": {},
     "output_type": "execute_result"
    }
   ],
   "source": [
    "my_list[-1]\n",
    "## access a index in negative..."
   ]
  },
  {
   "cell_type": "code",
   "execution_count": 19,
   "id": "6c8c5778-add9-4fe4-bbfb-0dd6992891bb",
   "metadata": {},
   "outputs": [
    {
     "ename": "IndexError",
     "evalue": "list index out of range",
     "output_type": "error",
     "traceback": [
      "\u001b[0;31m---------------------------------------------------------------------------\u001b[0m",
      "\u001b[0;31mIndexError\u001b[0m                                Traceback (most recent call last)",
      "Cell \u001b[0;32mIn[19], line 1\u001b[0m\n\u001b[0;32m----> 1\u001b[0m \u001b[43mmy_list\u001b[49m\u001b[43m[\u001b[49m\u001b[38;5;241;43m10\u001b[39;49m\u001b[43m]\u001b[49m\n\u001b[1;32m      2\u001b[0m \u001b[38;5;66;03m## acces in my list they are showing error because index is not in list..\u001b[39;00m\n",
      "\u001b[0;31mIndexError\u001b[0m: list index out of range"
     ]
    }
   ],
   "source": [
    "my_list[10]\n",
    "## acces in my list they are showing error because index is not in list.."
   ]
  },
  {
   "cell_type": "code",
   "execution_count": 20,
   "id": "cfa298e0-7722-4edf-a6a8-03d12d6172ce",
   "metadata": {},
   "outputs": [],
   "source": [
    "## if u want to access a list in how much length....?>>>>>"
   ]
  },
  {
   "cell_type": "code",
   "execution_count": 22,
   "id": "83a9d7b7-5641-4494-ba1c-6470b8d669d6",
   "metadata": {},
   "outputs": [
    {
     "data": {
      "text/plain": [
       "['abhishek', 'mohsin', 'sanjeev', 100, 200, 400]"
      ]
     },
     "execution_count": 22,
     "metadata": {},
     "output_type": "execute_result"
    }
   ],
   "source": [
    "my_list"
   ]
  },
  {
   "cell_type": "code",
   "execution_count": 23,
   "id": "e604eb26-6f72-491b-8f87-c95c51a0df9c",
   "metadata": {},
   "outputs": [
    {
     "data": {
      "text/plain": [
       "6"
      ]
     },
     "execution_count": 23,
     "metadata": {},
     "output_type": "execute_result"
    }
   ],
   "source": [
    "len(my_list)"
   ]
  },
  {
   "cell_type": "code",
   "execution_count": 24,
   "id": "8cedd1d5-64a0-4a0a-933d-407614f30efb",
   "metadata": {},
   "outputs": [],
   "source": [
    "## if u want to access a list to count a index in mylist... "
   ]
  },
  {
   "cell_type": "code",
   "execution_count": 25,
   "id": "00541037-be8b-45fc-9ee8-ba8b2b2ddaef",
   "metadata": {},
   "outputs": [],
   "source": [
    "my_list1 = [\"milk\",\"milk\",\"apple\",\"apple\",\"apple\",\"banana\",\"mango\"]"
   ]
  },
  {
   "cell_type": "code",
   "execution_count": 26,
   "id": "9c1e4709-8033-4b62-a98f-34f29cb106f3",
   "metadata": {},
   "outputs": [
    {
     "data": {
      "text/plain": [
       "['milk', 'milk', 'apple', 'apple', 'apple', 'banana', 'mango']"
      ]
     },
     "execution_count": 26,
     "metadata": {},
     "output_type": "execute_result"
    }
   ],
   "source": [
    "my_list1"
   ]
  },
  {
   "cell_type": "code",
   "execution_count": 28,
   "id": "1b42b8ce-51c3-4c13-8c48-a404888b4157",
   "metadata": {},
   "outputs": [
    {
     "data": {
      "text/plain": [
       "2"
      ]
     },
     "execution_count": 28,
     "metadata": {},
     "output_type": "execute_result"
    }
   ],
   "source": [
    "my_list1.count(\"milk\")\n",
    "## this is count how many same index in a list...."
   ]
  },
  {
   "cell_type": "code",
   "execution_count": 29,
   "id": "b1b207cb-525e-43f1-bffd-79cba043edf5",
   "metadata": {},
   "outputs": [
    {
     "data": {
      "text/plain": [
       "3"
      ]
     },
     "execution_count": 29,
     "metadata": {},
     "output_type": "execute_result"
    }
   ],
   "source": [
    "my_list1.count(\"apple\")"
   ]
  },
  {
   "cell_type": "code",
   "execution_count": 30,
   "id": "a1d26fff-2478-4d42-b236-84ec8efaf0f1",
   "metadata": {},
   "outputs": [],
   "source": [
    "## access a  index in list...."
   ]
  },
  {
   "cell_type": "code",
   "execution_count": 31,
   "id": "5f274e1a-3205-4909-890b-5478669c9078",
   "metadata": {},
   "outputs": [
    {
     "data": {
      "text/plain": [
       "['milk', 'milk', 'apple', 'apple', 'apple', 'banana', 'mango']"
      ]
     },
     "execution_count": 31,
     "metadata": {},
     "output_type": "execute_result"
    }
   ],
   "source": [
    "my_list1"
   ]
  },
  {
   "cell_type": "code",
   "execution_count": 33,
   "id": "f14dde41-18a7-4f26-ba97-c49733b381ee",
   "metadata": {},
   "outputs": [
    {
     "data": {
      "text/plain": [
       "0"
      ]
     },
     "execution_count": 33,
     "metadata": {},
     "output_type": "execute_result"
    }
   ],
   "source": [
    "my_list1.index(\"milk\")\n",
    "## access a list which position in index in list..."
   ]
  },
  {
   "cell_type": "code",
   "execution_count": 35,
   "id": "37e48e96-d224-4db2-9fb5-2f2ce1ae2a93",
   "metadata": {},
   "outputs": [
    {
     "data": {
      "text/plain": [
       "6"
      ]
     },
     "execution_count": 35,
     "metadata": {},
     "output_type": "execute_result"
    }
   ],
   "source": [
    "my_list1.index(\"mango\")"
   ]
  },
  {
   "cell_type": "code",
   "execution_count": null,
   "id": "be4dbf61-1ec2-4ec7-8641-35106c6fcaef",
   "metadata": {},
   "outputs": [],
   "source": []
  },
  {
   "cell_type": "markdown",
   "id": "b8962a4c-d226-48bc-ae3d-ce213d8228ca",
   "metadata": {},
   "source": [
    "### Modify in list"
   ]
  },
  {
   "cell_type": "code",
   "execution_count": 37,
   "id": "6ec9b38e-be6a-45c4-a7b0-7a13c9822295",
   "metadata": {},
   "outputs": [
    {
     "data": {
      "text/plain": [
       "['abhishek', 'mohsin', 'sanjeev', 100, 200, 400]"
      ]
     },
     "execution_count": 37,
     "metadata": {},
     "output_type": "execute_result"
    }
   ],
   "source": [
    "my_list"
   ]
  },
  {
   "cell_type": "code",
   "execution_count": 38,
   "id": "ef58daae-73ed-481e-b04a-7130340692ee",
   "metadata": {},
   "outputs": [],
   "source": [
    "## if u want to modify a list adding a some value...\n",
    "my_list.append(\"swati\")"
   ]
  },
  {
   "cell_type": "code",
   "execution_count": 39,
   "id": "6bec96f8-a8c1-42a8-b41b-97add481d0b9",
   "metadata": {},
   "outputs": [
    {
     "data": {
      "text/plain": [
       "['abhishek', 'mohsin', 'sanjeev', 100, 200, 400, 'swati']"
      ]
     },
     "execution_count": 39,
     "metadata": {},
     "output_type": "execute_result"
    }
   ],
   "source": [
    "my_list"
   ]
  },
  {
   "cell_type": "code",
   "execution_count": 42,
   "id": "e0c0d397-ea38-4f5a-aada-8ab3b8acf858",
   "metadata": {},
   "outputs": [],
   "source": [
    "my_list.append(\"bheema\")\n",
    "## .append is adding a value in last index in list.\n"
   ]
  },
  {
   "cell_type": "code",
   "execution_count": 43,
   "id": "853e9261-1d87-4aa5-845d-fbcc7b0f7d4d",
   "metadata": {},
   "outputs": [
    {
     "data": {
      "text/plain": [
       "['abhishek', 'mohsin', 'sanjeev', 100, 200, 400, 'swati', 'bheema', 'bheema']"
      ]
     },
     "execution_count": 43,
     "metadata": {},
     "output_type": "execute_result"
    }
   ],
   "source": [
    "my_list"
   ]
  },
  {
   "cell_type": "code",
   "execution_count": 44,
   "id": "3229f7f0-25a7-4303-838c-54b99307899f",
   "metadata": {},
   "outputs": [],
   "source": [
    "## .insert adding a value a specific index..."
   ]
  },
  {
   "cell_type": "code",
   "execution_count": 45,
   "id": "a7ca9ffc-ee12-4fba-b825-3c2b81987f75",
   "metadata": {},
   "outputs": [
    {
     "data": {
      "text/plain": [
       "['abhishek', 'mohsin', 'sanjeev', 100, 200, 400, 'swati', 'bheema', 'bheema']"
      ]
     },
     "execution_count": 45,
     "metadata": {},
     "output_type": "execute_result"
    }
   ],
   "source": [
    "my_list"
   ]
  },
  {
   "cell_type": "code",
   "execution_count": 49,
   "id": "9b31a875-a571-480b-98eb-f5d678d522dc",
   "metadata": {},
   "outputs": [],
   "source": [
    "my_list.insert(2,\"rashika\")"
   ]
  },
  {
   "cell_type": "code",
   "execution_count": 50,
   "id": "440e6175-f1de-4d96-9258-c27aa50209e9",
   "metadata": {},
   "outputs": [
    {
     "data": {
      "text/plain": [
       "['abhishek',\n",
       " 'mohsin',\n",
       " 'rashika',\n",
       " 'rashika',\n",
       " 'sanjeev',\n",
       " 100,\n",
       " 200,\n",
       " 400,\n",
       " 'swati',\n",
       " 'bheema',\n",
       " 'bheema']"
      ]
     },
     "execution_count": 50,
     "metadata": {},
     "output_type": "execute_result"
    }
   ],
   "source": [
    "my_list"
   ]
  },
  {
   "cell_type": "code",
   "execution_count": 51,
   "id": "881c4df7-b008-4dae-a95b-0163c5447341",
   "metadata": {},
   "outputs": [],
   "source": [
    "my_list.insert(3,\"adil bhai\")"
   ]
  },
  {
   "cell_type": "code",
   "execution_count": 52,
   "id": "26e0b012-00cb-4771-afb5-0ad7c1cfedda",
   "metadata": {},
   "outputs": [
    {
     "data": {
      "text/plain": [
       "['abhishek',\n",
       " 'mohsin',\n",
       " 'rashika',\n",
       " 'adil bhai',\n",
       " 'rashika',\n",
       " 'sanjeev',\n",
       " 100,\n",
       " 200,\n",
       " 400,\n",
       " 'swati',\n",
       " 'bheema',\n",
       " 'bheema']"
      ]
     },
     "execution_count": 52,
     "metadata": {},
     "output_type": "execute_result"
    }
   ],
   "source": [
    "my_list"
   ]
  },
  {
   "cell_type": "code",
   "execution_count": 53,
   "id": "1a172c4f-0617-459d-875d-77f699dade4a",
   "metadata": {},
   "outputs": [],
   "source": [
    "## .extend() if want to modify a list u have adding list two list to combine a one list..."
   ]
  },
  {
   "cell_type": "code",
   "execution_count": 55,
   "id": "a7c0acb9-316f-4a8a-b595-46d7a01ee1dc",
   "metadata": {},
   "outputs": [
    {
     "data": {
      "text/plain": [
       "['abhishek',\n",
       " 'mohsin',\n",
       " 'rashika',\n",
       " 'adil bhai',\n",
       " 'rashika',\n",
       " 'sanjeev',\n",
       " 100,\n",
       " 200,\n",
       " 400,\n",
       " 'swati',\n",
       " 'bheema',\n",
       " 'bheema']"
      ]
     },
     "execution_count": 55,
     "metadata": {},
     "output_type": "execute_result"
    }
   ],
   "source": [
    "my_list"
   ]
  },
  {
   "cell_type": "code",
   "execution_count": 56,
   "id": "a5dc6ffc-bfde-404d-9f0b-5628390b03fe",
   "metadata": {},
   "outputs": [
    {
     "data": {
      "text/plain": [
       "['milk', 'milk', 'apple', 'apple', 'apple', 'banana', 'mango']"
      ]
     },
     "execution_count": 56,
     "metadata": {},
     "output_type": "execute_result"
    }
   ],
   "source": [
    "my_list1"
   ]
  },
  {
   "cell_type": "code",
   "execution_count": 58,
   "id": "4097fc54-d166-49d6-be4f-d3667007f933",
   "metadata": {},
   "outputs": [],
   "source": [
    "my_list.extend(my_list1)\n",
    "## .extend is combine a list....\n"
   ]
  },
  {
   "cell_type": "code",
   "execution_count": 59,
   "id": "749ba934-daa4-46f4-b32d-381b6715c692",
   "metadata": {},
   "outputs": [
    {
     "data": {
      "text/plain": [
       "['abhishek',\n",
       " 'mohsin',\n",
       " 'rashika',\n",
       " 'adil bhai',\n",
       " 'rashika',\n",
       " 'sanjeev',\n",
       " 100,\n",
       " 200,\n",
       " 400,\n",
       " 'swati',\n",
       " 'bheema',\n",
       " 'bheema',\n",
       " 'milk',\n",
       " 'milk',\n",
       " 'apple',\n",
       " 'apple',\n",
       " 'apple',\n",
       " 'banana',\n",
       " 'mango',\n",
       " 'milk',\n",
       " 'milk',\n",
       " 'apple',\n",
       " 'apple',\n",
       " 'apple',\n",
       " 'banana',\n",
       " 'mango']"
      ]
     },
     "execution_count": 59,
     "metadata": {},
     "output_type": "execute_result"
    }
   ],
   "source": [
    "my_list"
   ]
  },
  {
   "cell_type": "code",
   "execution_count": null,
   "id": "d9b09090-b751-4ff9-8728-ee8c499278f9",
   "metadata": {},
   "outputs": [],
   "source": []
  },
  {
   "cell_type": "markdown",
   "id": "a2c5c0fc-8b80-4cc0-af90-272dee2a7010",
   "metadata": {},
   "source": [
    "### Delete a elements..."
   ]
  },
  {
   "cell_type": "code",
   "execution_count": 62,
   "id": "1e6c61fa-5675-41e4-ad60-feef2d61d83e",
   "metadata": {},
   "outputs": [
    {
     "data": {
      "text/plain": [
       "['milk', 'milk', 'apple', 'apple', 'apple', 'banana', 'mango']"
      ]
     },
     "execution_count": 62,
     "metadata": {},
     "output_type": "execute_result"
    }
   ],
   "source": [
    "my_list1"
   ]
  },
  {
   "cell_type": "code",
   "execution_count": 63,
   "id": "adb0fab9-30f7-4026-99f7-13bfdd29c370",
   "metadata": {},
   "outputs": [],
   "source": [
    "## if u want a clear a list...(delete a all index in list)\n",
    "my_list1.clear()"
   ]
  },
  {
   "cell_type": "code",
   "execution_count": 65,
   "id": "7bbe3e1c-0ff2-462e-9aca-638e91e66beb",
   "metadata": {},
   "outputs": [
    {
     "data": {
      "text/plain": [
       "[]"
      ]
     },
     "execution_count": 65,
     "metadata": {},
     "output_type": "execute_result"
    }
   ],
   "source": [
    "my_list1\n",
    "## if u clear a list show a empty list...."
   ]
  },
  {
   "cell_type": "code",
   "execution_count": 66,
   "id": "3c8e5659-bd63-45e3-827c-cddf35614df4",
   "metadata": {},
   "outputs": [],
   "source": [
    "## if u want delete a list \n",
    "del my_list1"
   ]
  },
  {
   "cell_type": "code",
   "execution_count": 68,
   "id": "6890dbc7-3e7c-44d4-9965-4ae6b5ffa42b",
   "metadata": {},
   "outputs": [
    {
     "ename": "NameError",
     "evalue": "name 'my_list1' is not defined",
     "output_type": "error",
     "traceback": [
      "\u001b[0;31m---------------------------------------------------------------------------\u001b[0m",
      "\u001b[0;31mNameError\u001b[0m                                 Traceback (most recent call last)",
      "Cell \u001b[0;32mIn[68], line 1\u001b[0m\n\u001b[0;32m----> 1\u001b[0m \u001b[43mmy_list1\u001b[49m\n\u001b[1;32m      2\u001b[0m \u001b[38;5;66;03m## if u delete a list they are showing a error not deined name.....\u001b[39;00m\n",
      "\u001b[0;31mNameError\u001b[0m: name 'my_list1' is not defined"
     ]
    }
   ],
   "source": [
    "my_list1\n",
    "## if u delete a list they are showing a error not deined name....."
   ]
  },
  {
   "cell_type": "code",
   "execution_count": null,
   "id": "ae884540-88e1-40bb-ab6b-f82528821202",
   "metadata": {},
   "outputs": [],
   "source": []
  },
  {
   "cell_type": "code",
   "execution_count": 82,
   "id": "c0948824-5309-4588-b321-a642294c0ff9",
   "metadata": {},
   "outputs": [],
   "source": [
    "## if want to delete a specific index in list so use .remove>>>>\n",
    "my_list1 = [\"milk\",\"mango\",\"brown bread\",\"milk bread\"]"
   ]
  },
  {
   "cell_type": "code",
   "execution_count": 83,
   "id": "48bd6a3c-3f9b-4fcf-9624-284777f9b9cb",
   "metadata": {},
   "outputs": [
    {
     "data": {
      "text/plain": [
       "['milk', 'mango', 'brown bread', 'milk bread']"
      ]
     },
     "execution_count": 83,
     "metadata": {},
     "output_type": "execute_result"
    }
   ],
   "source": [
    "my_list1"
   ]
  },
  {
   "cell_type": "code",
   "execution_count": 84,
   "id": "247fe0bf-d300-4a7f-8595-a227a6e92d82",
   "metadata": {},
   "outputs": [],
   "source": [
    "my_list1.remove(\"mango\")"
   ]
  },
  {
   "cell_type": "code",
   "execution_count": 85,
   "id": "e018a90f-fc17-4d70-8289-c632fde0f014",
   "metadata": {},
   "outputs": [
    {
     "data": {
      "text/plain": [
       "['milk', 'brown bread', 'milk bread']"
      ]
     },
     "execution_count": 85,
     "metadata": {},
     "output_type": "execute_result"
    }
   ],
   "source": [
    "my_list1"
   ]
  },
  {
   "cell_type": "code",
   "execution_count": 86,
   "id": "06ca15b7-5e57-43a9-9b89-2b65350f2988",
   "metadata": {},
   "outputs": [],
   "source": [
    "my_list1.remove(\"milk\")"
   ]
  },
  {
   "cell_type": "code",
   "execution_count": 88,
   "id": "5e37c2f3-89ca-4817-9b71-a68fc58b6170",
   "metadata": {},
   "outputs": [
    {
     "data": {
      "text/plain": [
       "['brown bread', 'milk bread']"
      ]
     },
     "execution_count": 88,
     "metadata": {},
     "output_type": "execute_result"
    }
   ],
   "source": [
    "my_list1\n",
    "## if u want delete a specific index in list.."
   ]
  },
  {
   "cell_type": "code",
   "execution_count": null,
   "id": "624fbdff-df8d-47ae-8068-dced890c60ed",
   "metadata": {},
   "outputs": [],
   "source": []
  },
  {
   "cell_type": "code",
   "execution_count": 89,
   "id": "9492167f-2645-4cd5-9f7f-bb976066d512",
   "metadata": {},
   "outputs": [],
   "source": [
    "## .pop also help to delete the last element if paraenthesis is blank , if parenthesis have argument ,it will delete that particular element."
   ]
  },
  {
   "cell_type": "code",
   "execution_count": 90,
   "id": "d7a5bb0b-8751-4fc5-9195-b693c3911425",
   "metadata": {},
   "outputs": [],
   "source": [
    "my_list2 = [\"pwskills\",\"data sc\",\"data str\",\"power bi\"]"
   ]
  },
  {
   "cell_type": "code",
   "execution_count": 91,
   "id": "c2bd69d4-70f9-42d7-a2c7-57cfb2ab76ec",
   "metadata": {},
   "outputs": [
    {
     "data": {
      "text/plain": [
       "['pwskills', 'data sc', 'data str', 'power bi']"
      ]
     },
     "execution_count": 91,
     "metadata": {},
     "output_type": "execute_result"
    }
   ],
   "source": [
    "my_list2"
   ]
  },
  {
   "cell_type": "code",
   "execution_count": 92,
   "id": "6d7696d4-747d-4a66-9908-974276b7c212",
   "metadata": {},
   "outputs": [
    {
     "data": {
      "text/plain": [
       "'power bi'"
      ]
     },
     "execution_count": 92,
     "metadata": {},
     "output_type": "execute_result"
    }
   ],
   "source": [
    "my_list2.pop()\n",
    "## .pop is deleted a last index in the list.."
   ]
  },
  {
   "cell_type": "code",
   "execution_count": 93,
   "id": "1cead052-bd7e-47c3-a5ba-884cf5db2057",
   "metadata": {},
   "outputs": [
    {
     "data": {
      "text/plain": [
       "['pwskills', 'data sc', 'data str']"
      ]
     },
     "execution_count": 93,
     "metadata": {},
     "output_type": "execute_result"
    }
   ],
   "source": [
    "my_list2"
   ]
  },
  {
   "cell_type": "code",
   "execution_count": 94,
   "id": "52aad0ce-3794-42dc-b921-a470df35a8e3",
   "metadata": {},
   "outputs": [
    {
     "data": {
      "text/plain": [
       "'data str'"
      ]
     },
     "execution_count": 94,
     "metadata": {},
     "output_type": "execute_result"
    }
   ],
   "source": [
    "my_list2.pop()"
   ]
  },
  {
   "cell_type": "code",
   "execution_count": 95,
   "id": "62e36545-3ab5-4353-b018-c27a5685c100",
   "metadata": {},
   "outputs": [
    {
     "data": {
      "text/plain": [
       "['pwskills', 'data sc']"
      ]
     },
     "execution_count": 95,
     "metadata": {},
     "output_type": "execute_result"
    }
   ],
   "source": [
    "my_list2"
   ]
  },
  {
   "cell_type": "code",
   "execution_count": null,
   "id": "360ed820-b336-4e9c-87e0-6e4fa3b24327",
   "metadata": {},
   "outputs": [],
   "source": []
  },
  {
   "cell_type": "code",
   "execution_count": null,
   "id": "ce8d33b2-a672-4e9c-989b-12101442456f",
   "metadata": {},
   "outputs": [],
   "source": []
  },
  {
   "cell_type": "markdown",
   "id": "6a4d0af9-47cc-48a5-83d2-26528c6a2c97",
   "metadata": {},
   "source": [
    "### Question(4) Compare and contrast tuples and lists with examples. ??"
   ]
  },
  {
   "cell_type": "markdown",
   "id": "3c2cdcd9-4ef9-49bc-bae1-6e58e103cfe6",
   "metadata": {},
   "source": [
    "#### Ans = TUPLES =:\n",
    "    In python tuple is built in data type that allows you to create immutable sequnce of value..\n",
    "    ordered = maintain the order of the data insertion.\n",
    "    Unchangeable= tuples are immutable and we can't modifiy items.\n",
    "    Hetrogenous= Tuples can contains data of types.\n",
    "    Contains duplicate= Allows dulpicates data.\n",
    "\n",
    "    LIST =:\n",
    "    A list is a data structure in Python that is a mutable, or changeable, ordered sequence of elements...\n",
    "    Unlike strings, lists are mutable. This means we can change an item in a list by accessing it directly as part of the\n",
    "    assignment statement...."
   ]
  },
  {
   "cell_type": "markdown",
   "id": "c84251bf-b121-460b-9aee-05682b906638",
   "metadata": {},
   "source": [
    "### compare a list and tuple==\n",
    "    LIST=\n",
    "    (1)list are mutable.\n",
    "    (2)the implication of iterations is time-consuming.\n",
    "    (3)the list is better for performing operations,such as insertion and deletion..\n",
    "    (4)List consume more memory..\n",
    "    (5)List have several buit-in method..\n",
    "    (6)unexcepted changes and error are more likely to occur..\n",
    "\n",
    "    TUPLES=\n",
    "    (1)Tuples are immutable..\n",
    "    (2)the implication of iteration is comparatively faster..\n",
    "    (3)A tuple data type is appropriate for accessing the elements..\n",
    "    (4)Tuple a consume less memory compare to list..\n",
    "    (5)Tuple not have many buit-in methods.\n",
    "    (6)Because tuples dont change they are far less and error-prone.."
   ]
  },
  {
   "cell_type": "code",
   "execution_count": null,
   "id": "cac51ecb-23e7-40fb-b6b1-cb33113b4c11",
   "metadata": {},
   "outputs": [],
   "source": []
  },
  {
   "cell_type": "markdown",
   "id": "57407ba4-9710-4aaf-9fe3-7f6b0b417220",
   "metadata": {},
   "source": [
    "### Examples of Tuples.."
   ]
  },
  {
   "cell_type": "code",
   "execution_count": null,
   "id": "598a2007-3cb9-4599-b8f5-2dc4e3987383",
   "metadata": {},
   "outputs": [],
   "source": [
    "## tuples are ordered collection of elements , hetrogenous >>>>>"
   ]
  },
  {
   "cell_type": "code",
   "execution_count": 103,
   "id": "431adf52-c1d1-486e-b222-f711ba9411a1",
   "metadata": {},
   "outputs": [
    {
     "data": {
      "text/plain": [
       "tuple"
      ]
     },
     "execution_count": 103,
     "metadata": {},
     "output_type": "execute_result"
    }
   ],
   "source": [
    "tu = ()\n",
    "type(tu)"
   ]
  },
  {
   "cell_type": "code",
   "execution_count": 104,
   "id": "951e60ed-721e-4210-8a42-d8ba6d9272d9",
   "metadata": {},
   "outputs": [
    {
     "data": {
      "text/plain": [
       "(1, 2, 3, 33, 33, 33, 'pwskills', 'power bi', 'ai', 'mango')"
      ]
     },
     "execution_count": 104,
     "metadata": {},
     "output_type": "execute_result"
    }
   ],
   "source": [
    "t = (1,2,3,33,33,33,\"pwskills\",\"power bi\",\"ai\",\"mango\")\n",
    "t"
   ]
  },
  {
   "cell_type": "code",
   "execution_count": 105,
   "id": "439960c0-0fbb-41a1-aeaf-fbb0011afc52",
   "metadata": {},
   "outputs": [
    {
     "data": {
      "text/plain": [
       "tuple"
      ]
     },
     "execution_count": 105,
     "metadata": {},
     "output_type": "execute_result"
    }
   ],
   "source": [
    "type(t)"
   ]
  },
  {
   "cell_type": "code",
   "execution_count": 106,
   "id": "2e1d1b1f-d03b-4413-894e-0d9bff872384",
   "metadata": {},
   "outputs": [
    {
     "data": {
      "text/plain": [
       "1"
      ]
     },
     "execution_count": 106,
     "metadata": {},
     "output_type": "execute_result"
    }
   ],
   "source": [
    "t[0]"
   ]
  },
  {
   "cell_type": "code",
   "execution_count": 107,
   "id": "41d6a04e-3bed-4b95-b670-f8db17fbcf63",
   "metadata": {},
   "outputs": [
    {
     "data": {
      "text/plain": [
       "'ai'"
      ]
     },
     "execution_count": 107,
     "metadata": {},
     "output_type": "execute_result"
    }
   ],
   "source": [
    "t[8]"
   ]
  },
  {
   "cell_type": "code",
   "execution_count": 108,
   "id": "e116c0d8-2981-4604-95ff-a7f7ab52e4ce",
   "metadata": {},
   "outputs": [
    {
     "data": {
      "text/plain": [
       "'pwskills'"
      ]
     },
     "execution_count": 108,
     "metadata": {},
     "output_type": "execute_result"
    }
   ],
   "source": [
    "t[6]"
   ]
  },
  {
   "cell_type": "code",
   "execution_count": 109,
   "id": "132f6f0e-053c-4ad9-b8b8-fac91eb567ba",
   "metadata": {},
   "outputs": [],
   "source": [
    "## if u want to change a index value in tuple..."
   ]
  },
  {
   "cell_type": "code",
   "execution_count": 111,
   "id": "fe43204b-b76d-42d4-aac0-b2bf7707774d",
   "metadata": {},
   "outputs": [
    {
     "ename": "TypeError",
     "evalue": "'tuple' object does not support item assignment",
     "output_type": "error",
     "traceback": [
      "\u001b[0;31m---------------------------------------------------------------------------\u001b[0m",
      "\u001b[0;31mTypeError\u001b[0m                                 Traceback (most recent call last)",
      "Cell \u001b[0;32mIn[111], line 1\u001b[0m\n\u001b[0;32m----> 1\u001b[0m \u001b[43mt\u001b[49m\u001b[43m[\u001b[49m\u001b[38;5;241;43m0\u001b[39;49m\u001b[43m]\u001b[49m \u001b[38;5;241m=\u001b[39m \u001b[38;5;124m\"\u001b[39m\u001b[38;5;124majay\u001b[39m\u001b[38;5;124m\"\u001b[39m\n\u001b[1;32m      2\u001b[0m \u001b[38;5;66;03m## tuple can't change the index value....\u001b[39;00m\n",
      "\u001b[0;31mTypeError\u001b[0m: 'tuple' object does not support item assignment"
     ]
    }
   ],
   "source": [
    "t[0] = \"ajay\"\n",
    "## tuple can't change the index value...."
   ]
  },
  {
   "cell_type": "code",
   "execution_count": 112,
   "id": "ec40833c-c017-45e1-a1b1-d328adb8e1b2",
   "metadata": {},
   "outputs": [
    {
     "ename": "TypeError",
     "evalue": "'tuple' object does not support item assignment",
     "output_type": "error",
     "traceback": [
      "\u001b[0;31m---------------------------------------------------------------------------\u001b[0m",
      "\u001b[0;31mTypeError\u001b[0m                                 Traceback (most recent call last)",
      "Cell \u001b[0;32mIn[112], line 1\u001b[0m\n\u001b[0;32m----> 1\u001b[0m \u001b[43mt\u001b[49m\u001b[43m[\u001b[49m\u001b[38;5;241;43m3\u001b[39;49m\u001b[43m]\u001b[49m \u001b[38;5;241m=\u001b[39m \u001b[38;5;124m\"\u001b[39m\u001b[38;5;124mbanana\u001b[39m\u001b[38;5;124m\"\u001b[39m\n",
      "\u001b[0;31mTypeError\u001b[0m: 'tuple' object does not support item assignment"
     ]
    }
   ],
   "source": [
    "t[3] = \"banana\"\n",
    "## use tuples as a data structure where you dont want tp modify the data"
   ]
  },
  {
   "cell_type": "code",
   "execution_count": 2,
   "id": "0c9b17cf-9076-439d-80fc-5dd2e41b5336",
   "metadata": {},
   "outputs": [
    {
     "ename": "NameError",
     "evalue": "name 't1' is not defined",
     "output_type": "error",
     "traceback": [
      "\u001b[0;31m---------------------------------------------------------------------------\u001b[0m",
      "\u001b[0;31mNameError\u001b[0m                                 Traceback (most recent call last)",
      "Cell \u001b[0;32mIn[2], line 1\u001b[0m\n\u001b[0;32m----> 1\u001b[0m \u001b[43mt1\u001b[49m\n",
      "\u001b[0;31mNameError\u001b[0m: name 't1' is not defined"
     ]
    }
   ],
   "source": []
  },
  {
   "cell_type": "code",
   "execution_count": 18,
   "id": "abf3cd70-12c6-45ac-b61a-46ec52938091",
   "metadata": {},
   "outputs": [],
   "source": [
    "t1 = (\"banana\",\"mango\",\"dragon fruit\",\"watermelon\",\"mango\",\"banana\")"
   ]
  },
  {
   "cell_type": "code",
   "execution_count": 5,
   "id": "252a00a9-56e7-4361-abd5-851d410d8bdc",
   "metadata": {},
   "outputs": [
    {
     "ename": "AttributeError",
     "evalue": "'tuple' object has no attribute 'append'",
     "output_type": "error",
     "traceback": [
      "\u001b[0;31m---------------------------------------------------------------------------\u001b[0m",
      "\u001b[0;31mAttributeError\u001b[0m                            Traceback (most recent call last)",
      "Cell \u001b[0;32mIn[5], line 1\u001b[0m\n\u001b[0;32m----> 1\u001b[0m \u001b[43mt1\u001b[49m\u001b[38;5;241;43m.\u001b[39;49m\u001b[43mappend\u001b[49m(\u001b[38;5;124m\"\u001b[39m\u001b[38;5;124mmilk\u001b[39m\u001b[38;5;124m\"\u001b[39m)\n\u001b[1;32m      2\u001b[0m \u001b[38;5;66;03m## tuple are do not allow add any index value use by function..\u001b[39;00m\n",
      "\u001b[0;31mAttributeError\u001b[0m: 'tuple' object has no attribute 'append'"
     ]
    }
   ],
   "source": [
    "t1.append(\"milk\")\n",
    "## tuple are do not allow add any index value use by function.."
   ]
  },
  {
   "cell_type": "code",
   "execution_count": 19,
   "id": "369c4dbb-92bd-482c-afe7-ae6d3442b3e5",
   "metadata": {},
   "outputs": [
    {
     "data": {
      "text/plain": [
       "('banana', 'mango', 'dragon fruit', 'watermelon', 'mango', 'banana')"
      ]
     },
     "execution_count": 19,
     "metadata": {},
     "output_type": "execute_result"
    }
   ],
   "source": [
    "t1"
   ]
  },
  {
   "cell_type": "code",
   "execution_count": 9,
   "id": "8c0ce09b-cde3-4d9d-a2f7-2ba1141e02ee",
   "metadata": {},
   "outputs": [
    {
     "ename": "AttributeError",
     "evalue": "'tuple' object has no attribute 'remove'",
     "output_type": "error",
     "traceback": [
      "\u001b[0;31m---------------------------------------------------------------------------\u001b[0m",
      "\u001b[0;31mAttributeError\u001b[0m                            Traceback (most recent call last)",
      "Cell \u001b[0;32mIn[9], line 1\u001b[0m\n\u001b[0;32m----> 1\u001b[0m \u001b[43mt1\u001b[49m\u001b[38;5;241;43m.\u001b[39;49m\u001b[43mremove\u001b[49m(\u001b[38;5;124m\"\u001b[39m\u001b[38;5;124mmango\u001b[39m\u001b[38;5;124m\"\u001b[39m)\n\u001b[1;32m      2\u001b[0m \u001b[38;5;66;03m## tuple has been do not allow remove any specific index in tuple..\u001b[39;00m\n",
      "\u001b[0;31mAttributeError\u001b[0m: 'tuple' object has no attribute 'remove'"
     ]
    }
   ],
   "source": [
    "t1.remove(\"mango\")\n",
    "## tuple has been do not allow remove any specific index in tuple.."
   ]
  },
  {
   "cell_type": "code",
   "execution_count": 20,
   "id": "edaf5260-a041-40e3-a2c5-b6078ebdb758",
   "metadata": {},
   "outputs": [
    {
     "data": {
      "text/plain": [
       "('banana', 'mango', 'dragon fruit', 'watermelon', 'mango', 'banana')"
      ]
     },
     "execution_count": 20,
     "metadata": {},
     "output_type": "execute_result"
    }
   ],
   "source": [
    "t1"
   ]
  },
  {
   "cell_type": "code",
   "execution_count": 21,
   "id": "b0b245b2-2fa6-451b-80fd-1682c1a1ae37",
   "metadata": {},
   "outputs": [
    {
     "data": {
      "text/plain": [
       "2"
      ]
     },
     "execution_count": 21,
     "metadata": {},
     "output_type": "execute_result"
    }
   ],
   "source": [
    "t1.count(\"mango\")\n",
    "## tuple has been minimum built-in function if u want to know how many common index in tuple..."
   ]
  },
  {
   "cell_type": "code",
   "execution_count": 22,
   "id": "438a3074-df73-4831-89b0-b1ac1f35d79e",
   "metadata": {},
   "outputs": [
    {
     "data": {
      "text/plain": [
       "2"
      ]
     },
     "execution_count": 22,
     "metadata": {},
     "output_type": "execute_result"
    }
   ],
   "source": [
    "t1.count(\"banana\")"
   ]
  },
  {
   "cell_type": "code",
   "execution_count": 23,
   "id": "173c33a3-e71c-4898-936a-4d9d9fedaf3c",
   "metadata": {},
   "outputs": [
    {
     "data": {
      "text/plain": [
       "1"
      ]
     },
     "execution_count": 23,
     "metadata": {},
     "output_type": "execute_result"
    }
   ],
   "source": [
    "t1.count(\"watermelon\")"
   ]
  },
  {
   "cell_type": "code",
   "execution_count": null,
   "id": "a60276d3-8db6-4658-a87b-cada83c0a3ad",
   "metadata": {},
   "outputs": [],
   "source": []
  },
  {
   "cell_type": "code",
   "execution_count": 25,
   "id": "fb81bb4d-51d6-4423-9734-c21ab1069fd9",
   "metadata": {},
   "outputs": [
    {
     "data": {
      "text/plain": [
       "('banana', 'mango', 'dragon fruit', 'watermelon', 'mango', 'banana')"
      ]
     },
     "execution_count": 25,
     "metadata": {},
     "output_type": "execute_result"
    }
   ],
   "source": [
    "t1\n",
    "## if u find out length....\n",
    "## use len function.."
   ]
  },
  {
   "cell_type": "code",
   "execution_count": 26,
   "id": "48800f2d-7d9e-4557-a6f1-8de7b7b88a82",
   "metadata": {},
   "outputs": [
    {
     "data": {
      "text/plain": [
       "6"
      ]
     },
     "execution_count": 26,
     "metadata": {},
     "output_type": "execute_result"
    }
   ],
   "source": [
    "len(t1)"
   ]
  },
  {
   "cell_type": "code",
   "execution_count": null,
   "id": "362a7e3e-3b63-4dd5-bddc-f8671890c070",
   "metadata": {},
   "outputs": [],
   "source": []
  },
  {
   "cell_type": "code",
   "execution_count": 27,
   "id": "046d6157-5a08-4a4b-953b-f9ddaa92495e",
   "metadata": {},
   "outputs": [],
   "source": [
    "## one more built-in function in tuple \n",
    "## max , min"
   ]
  },
  {
   "cell_type": "code",
   "execution_count": 28,
   "id": "9157445f-83d6-4ba8-975b-8ade7c36e79d",
   "metadata": {},
   "outputs": [],
   "source": [
    "t = (100,200,300,400,500,600,1000)"
   ]
  },
  {
   "cell_type": "code",
   "execution_count": 30,
   "id": "b959fb83-395f-41b4-8fb3-d2e3d7657a19",
   "metadata": {},
   "outputs": [
    {
     "data": {
      "text/plain": [
       "1000"
      ]
     },
     "execution_count": 30,
     "metadata": {},
     "output_type": "execute_result"
    }
   ],
   "source": [
    "max(t)\n",
    "## if u used to find maximum number in tuple..."
   ]
  },
  {
   "cell_type": "code",
   "execution_count": 33,
   "id": "8881bb11-ef4d-45d2-9c4c-1053a8505d4b",
   "metadata": {},
   "outputs": [
    {
     "data": {
      "text/plain": [
       "100"
      ]
     },
     "execution_count": 33,
     "metadata": {},
     "output_type": "execute_result"
    }
   ],
   "source": [
    "min(t)\n",
    "## if u used to find minimum number in tuple.."
   ]
  },
  {
   "cell_type": "code",
   "execution_count": 38,
   "id": "9bb875cc-a8dd-438f-87e0-4775b7dbf794",
   "metadata": {},
   "outputs": [
    {
     "data": {
      "text/plain": [
       "(100, 200, 300, 400, 500, 600, 1000)"
      ]
     },
     "execution_count": 38,
     "metadata": {},
     "output_type": "execute_result"
    }
   ],
   "source": [
    "t"
   ]
  },
  {
   "cell_type": "code",
   "execution_count": 39,
   "id": "193d9b91-a6ac-40e0-a0c2-83a9f6750ddd",
   "metadata": {},
   "outputs": [],
   "source": [
    "## if u want to delete a variable one last built-in function in tuple..."
   ]
  },
  {
   "cell_type": "code",
   "execution_count": 40,
   "id": "7ac73a98-6114-4aef-9da6-9aa8ffe764de",
   "metadata": {},
   "outputs": [
    {
     "data": {
      "text/plain": [
       "(100, 200, 300, 400, 500, 600, 1000)"
      ]
     },
     "execution_count": 40,
     "metadata": {},
     "output_type": "execute_result"
    }
   ],
   "source": [
    "t"
   ]
  },
  {
   "cell_type": "code",
   "execution_count": 43,
   "id": "f2954fa0-30a5-4dac-a2bf-e2f2ae607dd1",
   "metadata": {},
   "outputs": [
    {
     "ename": "NameError",
     "evalue": "name 't' is not defined",
     "output_type": "error",
     "traceback": [
      "\u001b[0;31m---------------------------------------------------------------------------\u001b[0m",
      "\u001b[0;31mNameError\u001b[0m                                 Traceback (most recent call last)",
      "Cell \u001b[0;32mIn[43], line 1\u001b[0m\n\u001b[0;32m----> 1\u001b[0m \u001b[38;5;28;01mdel\u001b[39;00m t\n\u001b[1;32m      2\u001b[0m \u001b[38;5;66;03m## if used a del function than execute a clear all data in tuples....\u001b[39;00m\n",
      "\u001b[0;31mNameError\u001b[0m: name 't' is not defined"
     ]
    }
   ],
   "source": [
    "del t\n",
    "## if used a del function than execute a clear all data in tuples...."
   ]
  },
  {
   "cell_type": "code",
   "execution_count": 42,
   "id": "b3ff5463-2c18-4c86-a1ac-11213440fc64",
   "metadata": {},
   "outputs": [
    {
     "ename": "NameError",
     "evalue": "name 't' is not defined",
     "output_type": "error",
     "traceback": [
      "\u001b[0;31m---------------------------------------------------------------------------\u001b[0m",
      "\u001b[0;31mNameError\u001b[0m                                 Traceback (most recent call last)",
      "Cell \u001b[0;32mIn[42], line 1\u001b[0m\n\u001b[0;32m----> 1\u001b[0m \u001b[43mt\u001b[49m\n",
      "\u001b[0;31mNameError\u001b[0m: name 't' is not defined"
     ]
    }
   ],
   "source": [
    "t"
   ]
  },
  {
   "cell_type": "markdown",
   "id": "af1826ff-9900-4747-9b0a-988f41da2ae9",
   "metadata": {},
   "source": [
    "### Example in list.."
   ]
  },
  {
   "cell_type": "code",
   "execution_count": 34,
   "id": "2a29b600-d5cb-4d2e-bab9-c613c2fed9f7",
   "metadata": {},
   "outputs": [],
   "source": [
    "my_list = []"
   ]
  },
  {
   "cell_type": "code",
   "execution_count": 35,
   "id": "e43b06f1-b953-4b58-ac5c-182b558924bc",
   "metadata": {},
   "outputs": [
    {
     "data": {
      "text/plain": [
       "list"
      ]
     },
     "execution_count": 35,
     "metadata": {},
     "output_type": "execute_result"
    }
   ],
   "source": [
    "type(my_list)"
   ]
  },
  {
   "cell_type": "code",
   "execution_count": 36,
   "id": "fbb46522-d149-423a-b035-c22eb732fc76",
   "metadata": {},
   "outputs": [],
   "source": [
    "my_list = [\"abhishek\",\"mohsin\",\"sanjeev\",\"bheema\",\"adil bhai\",\"milk\",\"banana\"]"
   ]
  },
  {
   "cell_type": "code",
   "execution_count": 37,
   "id": "c28b2527-837c-4460-9418-5eecdebdeaaf",
   "metadata": {},
   "outputs": [
    {
     "data": {
      "text/plain": [
       "['abhishek', 'mohsin', 'sanjeev', 'bheema', 'adil bhai', 'milk', 'banana']"
      ]
     },
     "execution_count": 37,
     "metadata": {},
     "output_type": "execute_result"
    }
   ],
   "source": [
    "my_list\n"
   ]
  },
  {
   "cell_type": "raw",
   "id": "d7ef4762-19e6-45cb-9788-8c5402d57ddc",
   "metadata": {},
   "source": [
    "## list have many built-in function..\n",
    ".append()\n",
    ".remove()\n",
    ".clear()\n",
    ".extend()\n",
    ".pop()\n",
    ".del\n",
    ".sort()\n",
    ".upper()\n",
    ".lower()\n",
    ".swapcase()"
   ]
  },
  {
   "cell_type": "code",
   "execution_count": 45,
   "id": "31e65efd-c7c0-47c9-9297-185ee5245f01",
   "metadata": {},
   "outputs": [
    {
     "data": {
      "text/plain": [
       "['abhishek', 'mohsin', 'sanjeev', 'bheema', 'adil bhai', 'milk', 'banana']"
      ]
     },
     "execution_count": 45,
     "metadata": {},
     "output_type": "execute_result"
    }
   ],
   "source": [
    "my_list"
   ]
  },
  {
   "cell_type": "code",
   "execution_count": 47,
   "id": "9ae62c01-2b0e-4bc4-bcab-8f016a4a93ec",
   "metadata": {},
   "outputs": [
    {
     "data": {
      "text/plain": [
       "'abhishek'"
      ]
     },
     "execution_count": 47,
     "metadata": {},
     "output_type": "execute_result"
    }
   ],
   "source": [
    "my_list[0]\n",
    "## if u want to access a particular index...."
   ]
  },
  {
   "cell_type": "code",
   "execution_count": 48,
   "id": "2d3fa553-7f0e-42d0-86aa-e82961d57f69",
   "metadata": {},
   "outputs": [
    {
     "data": {
      "text/plain": [
       "'mohsin'"
      ]
     },
     "execution_count": 48,
     "metadata": {},
     "output_type": "execute_result"
    }
   ],
   "source": [
    "my_list[1]"
   ]
  },
  {
   "cell_type": "code",
   "execution_count": 51,
   "id": "78658211-843f-417e-be75-b049eb7058f1",
   "metadata": {},
   "outputs": [
    {
     "ename": "IndexError",
     "evalue": "list assignment index out of range",
     "output_type": "error",
     "traceback": [
      "\u001b[0;31m---------------------------------------------------------------------------\u001b[0m",
      "\u001b[0;31mIndexError\u001b[0m                                Traceback (most recent call last)",
      "Cell \u001b[0;32mIn[67], line 1\u001b[0m\n\u001b[0;32m----> 1\u001b[0m \u001b[43mmy_list\u001b[49m\u001b[43m[\u001b[49m\u001b[38;5;241;43m0\u001b[39;49m\u001b[43m]\u001b[49m \u001b[38;5;241m=\u001b[39m \u001b[38;5;124m\"\u001b[39m\u001b[38;5;124mjordan bhai\u001b[39m\u001b[38;5;124m\"\u001b[39m\n\u001b[1;32m      2\u001b[0m \u001b[38;5;66;03m## list are allow to change a any index in list....because list is mutable.>>>>\u001b[39;00m\n",
      "\u001b[0;31mIndexError\u001b[0m: list assignment index out of range"
     ]
    }
   ],
   "source": [
    "my_list[0] = \"jordan bhai\"\n",
    "## list are allow to change a any index in list....because list is mutable"
   ]
  },
  {
   "cell_type": "code",
   "execution_count": 52,
   "id": "289fb5d3-c0a9-4ed0-8e1c-29c01b14b89f",
   "metadata": {},
   "outputs": [
    {
     "data": {
      "text/plain": [
       "['jordan bhai', 'mohsin', 'sanjeev', 'bheema', 'adil bhai', 'milk', 'banana']"
      ]
     },
     "execution_count": 52,
     "metadata": {},
     "output_type": "execute_result"
    }
   ],
   "source": [
    "my_list"
   ]
  },
  {
   "cell_type": "code",
   "execution_count": 55,
   "id": "500d8db7-24ff-45e6-8391-abe9e893a2d1",
   "metadata": {},
   "outputs": [],
   "source": [
    "my_list.append(\"abhishek\")\n",
    "### if u want to add specific index in list than use .append()>>>>>>"
   ]
  },
  {
   "cell_type": "code",
   "execution_count": 56,
   "id": "cd2db556-bf59-4e5c-a73e-6046f7b54ab9",
   "metadata": {},
   "outputs": [
    {
     "data": {
      "text/plain": [
       "['jordan bhai',\n",
       " 'mohsin',\n",
       " 'sanjeev',\n",
       " 'bheema',\n",
       " 'adil bhai',\n",
       " 'milk',\n",
       " 'banana',\n",
       " 'abhishek',\n",
       " 'abhishek']"
      ]
     },
     "execution_count": 56,
     "metadata": {},
     "output_type": "execute_result"
    }
   ],
   "source": [
    "my_list\n"
   ]
  },
  {
   "cell_type": "code",
   "execution_count": 57,
   "id": "7830fa7c-f317-4911-b565-0c7fd1c96697",
   "metadata": {},
   "outputs": [
    {
     "data": {
      "text/plain": [
       "['jordan bhai',\n",
       " 'mohsin',\n",
       " 'sanjeev',\n",
       " 'bheema',\n",
       " 'adil bhai',\n",
       " 'milk',\n",
       " 'banana',\n",
       " 'abhishek',\n",
       " 'abhishek']"
      ]
     },
     "execution_count": 57,
     "metadata": {},
     "output_type": "execute_result"
    }
   ],
   "source": [
    "my_list"
   ]
  },
  {
   "cell_type": "code",
   "execution_count": 62,
   "id": "e206ef2b-f1cd-468d-ba0e-5178beeae43f",
   "metadata": {},
   "outputs": [],
   "source": [
    "my_list.remove(\"milk\")\n",
    "## if u want to remove specific index in list....."
   ]
  },
  {
   "cell_type": "code",
   "execution_count": 63,
   "id": "ddddf2ac-7438-4226-8e5b-3405bc8c5b93",
   "metadata": {},
   "outputs": [
    {
     "data": {
      "text/plain": [
       "['mohsin', 'sanjeev', 'bheema', 'adil bhai', 'banana', 'abhishek', 'abhishek']"
      ]
     },
     "execution_count": 63,
     "metadata": {},
     "output_type": "execute_result"
    }
   ],
   "source": [
    "my_list"
   ]
  },
  {
   "cell_type": "code",
   "execution_count": 64,
   "id": "d6b41604-92bf-461e-bcf6-6649a3bdbfe8",
   "metadata": {},
   "outputs": [],
   "source": [
    "## if u want to clear a list..\n",
    "my_list.clear()"
   ]
  },
  {
   "cell_type": "code",
   "execution_count": 66,
   "id": "9e9a76af-2688-444b-b70c-5be457fdc462",
   "metadata": {},
   "outputs": [
    {
     "data": {
      "text/plain": [
       "[]"
      ]
     },
     "execution_count": 66,
     "metadata": {},
     "output_type": "execute_result"
    }
   ],
   "source": [
    "my_list\n",
    "### if u have clear list than show it empty list..."
   ]
  },
  {
   "cell_type": "code",
   "execution_count": 69,
   "id": "4830541a-dc00-4d76-939f-599104c67b75",
   "metadata": {},
   "outputs": [],
   "source": [
    "my_list = [\"banana\",\"pwskills\",12,22,33,22,232.34,2322.232,23+5j,True,False]\n",
    "## list is mutable and hetrogenous u can store anything in list......"
   ]
  },
  {
   "cell_type": "code",
   "execution_count": 70,
   "id": "d9ce895b-0493-4dfa-bf3d-5f7aa12cf339",
   "metadata": {},
   "outputs": [
    {
     "data": {
      "text/plain": [
       "['banana', 'pwskills', 12, 22, 33, 22, 232.34, 2322.232, (23+5j), True, False]"
      ]
     },
     "execution_count": 70,
     "metadata": {},
     "output_type": "execute_result"
    }
   ],
   "source": [
    "my_list"
   ]
  },
  {
   "cell_type": "code",
   "execution_count": null,
   "id": "07d711b4-004a-4d9d-a476-4e2a49cf8c96",
   "metadata": {},
   "outputs": [],
   "source": []
  },
  {
   "cell_type": "markdown",
   "id": "6a649571-85dd-41ba-9605-774b2c34db5c",
   "metadata": {},
   "source": [
    "### Question(5) Describe the key feature of sets and provide examples of their sets..??"
   ]
  },
  {
   "cell_type": "markdown",
   "id": "eec045c4-7244-4a54-89eb-e61ac662e5e9",
   "metadata": {},
   "source": [
    "#### Ans= sets is unordered collection of unique elements Sets are used to store multiple items in a single variable. \n",
    "    Set is one of 4 built-in data types in Python used to store collections of data, the other 3 are List, Tuple, and       Dictionary,\n",
    "    all with different qualities and usage. A set is a collection which is unordered, unchangeable, and unindexed...\n",
    "    ** set are mutable data structure..\n",
    "    ** but do not  access any index because set are unordered form that's why can't access a index.\n",
    "    ** set never dulpicate a elements..\n",
    "    ** but we can manipulate a set use by the function of set..\n",
    "    ** set are hetrogenous...\n",
    "    ** set are unhashable data structure...\n",
    "    ** syntax of set {}.....\n",
    "    ** set operation..."
   ]
  },
  {
   "cell_type": "code",
   "execution_count": 74,
   "id": "db3fa382-817e-4a33-b66b-0d25866f0ca2",
   "metadata": {},
   "outputs": [],
   "source": [
    "set1 = {\"abhishek\",\"mohsin\",\"sanjeev\",12,12,12,13,14,15,33.5,33.5,44.5,True,False}"
   ]
  },
  {
   "cell_type": "code",
   "execution_count": 76,
   "id": "f3816d43-fa5f-44b1-8183-d0ebdde9fa6c",
   "metadata": {},
   "outputs": [
    {
     "data": {
      "text/plain": [
       "{12, 13, 14, 15, 33.5, 44.5, False, True, 'abhishek', 'mohsin', 'sanjeev'}"
      ]
     },
     "execution_count": 76,
     "metadata": {},
     "output_type": "execute_result"
    }
   ],
   "source": [
    "set1\n",
    "## set is unorder collection and didn't allow duplicate item in sets and indexing will not work...."
   ]
  },
  {
   "cell_type": "code",
   "execution_count": null,
   "id": "fe71ce59-16f7-48b5-a00c-c5fb376a3f99",
   "metadata": {},
   "outputs": [],
   "source": []
  },
  {
   "cell_type": "code",
   "execution_count": 77,
   "id": "7346518b-2161-4b8f-acdd-557cd8a0b9f9",
   "metadata": {},
   "outputs": [],
   "source": [
    "## if u have convert a list in a sets..\n",
    "s = [ 10,10,10,10,20,30,40,50,50,50,\"pwskills\",\"pwskills\",\"abhishke\"]"
   ]
  },
  {
   "cell_type": "code",
   "execution_count": 78,
   "id": "ec6070e5-6858-4e48-b98a-afd62462aa01",
   "metadata": {},
   "outputs": [
    {
     "data": {
      "text/plain": [
       "[10, 10, 10, 10, 20, 30, 40, 50, 50, 50, 'pwskills', 'pwskills', 'abhishke']"
      ]
     },
     "execution_count": 78,
     "metadata": {},
     "output_type": "execute_result"
    }
   ],
   "source": [
    "s"
   ]
  },
  {
   "cell_type": "code",
   "execution_count": 79,
   "id": "559c79cb-8348-446e-977a-f892b81b4a60",
   "metadata": {},
   "outputs": [
    {
     "data": {
      "text/plain": [
       "list"
      ]
     },
     "execution_count": 79,
     "metadata": {},
     "output_type": "execute_result"
    }
   ],
   "source": [
    "type(s)"
   ]
  },
  {
   "cell_type": "code",
   "execution_count": 81,
   "id": "850c71c8-844c-43b0-a987-f925f564aa2b",
   "metadata": {},
   "outputs": [
    {
     "data": {
      "text/plain": [
       "{10, 20, 30, 40, 50, 'abhishke', 'pwskills'}"
      ]
     },
     "execution_count": 81,
     "metadata": {},
     "output_type": "execute_result"
    }
   ],
   "source": [
    "set(s)\n",
    "## this is beauty of set convert list in sets...if didn't allow to duplicate item..."
   ]
  },
  {
   "cell_type": "code",
   "execution_count": 84,
   "id": "65f08eca-2ed9-4c2a-913f-8dd7b0d7c8d3",
   "metadata": {},
   "outputs": [],
   "source": [
    "s = list(s)\n",
    "## if u have again convert into list..."
   ]
  },
  {
   "cell_type": "code",
   "execution_count": 83,
   "id": "624e5550-2173-4e4f-aafc-a85220be25ed",
   "metadata": {},
   "outputs": [
    {
     "data": {
      "text/plain": [
       "[10, 10, 10, 10, 20, 30, 40, 50, 50, 50, 'pwskills', 'pwskills', 'abhishke']"
      ]
     },
     "execution_count": 83,
     "metadata": {},
     "output_type": "execute_result"
    }
   ],
   "source": [
    "s"
   ]
  },
  {
   "cell_type": "code",
   "execution_count": null,
   "id": "450dc134-7eae-4718-8963-823e31c2f04f",
   "metadata": {},
   "outputs": [],
   "source": []
  },
  {
   "cell_type": "code",
   "execution_count": 85,
   "id": "53e1a9a6-041f-45b3-b321-f04a67f51602",
   "metadata": {},
   "outputs": [],
   "source": [
    "s = {10,20,30,40}\n",
    "## set is mutable but can't acces a any index..."
   ]
  },
  {
   "cell_type": "code",
   "execution_count": 86,
   "id": "7b36411b-304f-4de5-9c4e-65caff39e7ed",
   "metadata": {},
   "outputs": [
    {
     "data": {
      "text/plain": [
       "{10, 20, 30, 40}"
      ]
     },
     "execution_count": 86,
     "metadata": {},
     "output_type": "execute_result"
    }
   ],
   "source": [
    "s"
   ]
  },
  {
   "cell_type": "code",
   "execution_count": 88,
   "id": "8ef6c2aa-0f60-4e5f-903c-82322888ab7e",
   "metadata": {},
   "outputs": [
    {
     "ename": "TypeError",
     "evalue": "'set' object is not subscriptable",
     "output_type": "error",
     "traceback": [
      "\u001b[0;31m---------------------------------------------------------------------------\u001b[0m",
      "\u001b[0;31mTypeError\u001b[0m                                 Traceback (most recent call last)",
      "Cell \u001b[0;32mIn[88], line 1\u001b[0m\n\u001b[0;32m----> 1\u001b[0m \u001b[43ms\u001b[49m\u001b[43m[\u001b[49m\u001b[38;5;241;43m0\u001b[39;49m\u001b[43m]\u001b[49m\n\u001b[1;32m      2\u001b[0m \u001b[38;5;66;03m## can't access any index because set is unodered collection..\u001b[39;00m\n",
      "\u001b[0;31mTypeError\u001b[0m: 'set' object is not subscriptable"
     ]
    }
   ],
   "source": [
    "s[0]\n",
    "## can't access any index because set is unodered collection.."
   ]
  },
  {
   "cell_type": "code",
   "execution_count": null,
   "id": "9980f644-5f7f-477b-a20d-b8f92f0bb9cb",
   "metadata": {},
   "outputs": [],
   "source": []
  },
  {
   "cell_type": "code",
   "execution_count": 89,
   "id": "fa8a1a66-75dd-4142-8acb-dd0b338b691e",
   "metadata": {},
   "outputs": [
    {
     "ename": "TypeError",
     "evalue": "unhashable type: 'set'",
     "output_type": "error",
     "traceback": [
      "\u001b[0;31m---------------------------------------------------------------------------\u001b[0m",
      "\u001b[0;31mTypeError\u001b[0m                                 Traceback (most recent call last)",
      "Cell \u001b[0;32mIn[89], line 2\u001b[0m\n\u001b[1;32m      1\u001b[0m \u001b[38;5;66;03m## set are unhashable data structure...\u001b[39;00m\n\u001b[0;32m----> 2\u001b[0m s \u001b[38;5;241m=\u001b[39m { \u001b[38;5;124m\"\u001b[39m\u001b[38;5;124mpwskills\u001b[39m\u001b[38;5;124m\"\u001b[39m,\u001b[38;5;124m\"\u001b[39m\u001b[38;5;124mmango\u001b[39m\u001b[38;5;124m\"\u001b[39m,{\u001b[38;5;241m10\u001b[39m,\u001b[38;5;241m20\u001b[39m,\u001b[38;5;241m30\u001b[39m}}\n",
      "\u001b[0;31mTypeError\u001b[0m: unhashable type: 'set'"
     ]
    }
   ],
   "source": [
    "## set are unhashable data structure...\n",
    "s = { \"pwskills\",\"mango\",{10,20,30}}"
   ]
  },
  {
   "cell_type": "code",
   "execution_count": 90,
   "id": "73ec1d32-b9eb-45ee-8185-79d37c1739df",
   "metadata": {},
   "outputs": [],
   "source": [
    "## this is unhasable data  unhashable objects do not have hash values such as list, dict, set, etc...\n",
    "s = {\"pwskills\",\"data science\",\"power bi\",(10,20,30,40)}"
   ]
  },
  {
   "cell_type": "code",
   "execution_count": 92,
   "id": "2ceda15b-ac2b-4905-9d01-cfbe5f602c81",
   "metadata": {},
   "outputs": [
    {
     "data": {
      "text/plain": [
       "{(10, 20, 30, 40), 'data science', 'power bi', 'pwskills'}"
      ]
     },
     "execution_count": 92,
     "metadata": {},
     "output_type": "execute_result"
    }
   ],
   "source": [
    "s\n",
    "## this is execute because tuple is immutable..."
   ]
  },
  {
   "cell_type": "code",
   "execution_count": 93,
   "id": "70f9cd66-728c-4b73-b45b-d659eaed3051",
   "metadata": {},
   "outputs": [],
   "source": [
    "## set are hetrogenous data structure...\n",
    "s = {10,20,30,\"pwskills\",\"banana\",\"apple\",\"bread\",\"milk\",\"ajay\"}"
   ]
  },
  {
   "cell_type": "code",
   "execution_count": 95,
   "id": "2ebc1e7d-1845-464e-9b42-75c6f02ead8a",
   "metadata": {},
   "outputs": [
    {
     "data": {
      "text/plain": [
       "{10, 20, 30, 'ajay', 'apple', 'banana', 'bread', 'milk', 'pwskills'}"
      ]
     },
     "execution_count": 95,
     "metadata": {},
     "output_type": "execute_result"
    }
   ],
   "source": [
    "s\n",
    "## set is hetrogenous data that's why we can store any thing...."
   ]
  },
  {
   "cell_type": "code",
   "execution_count": 96,
   "id": "40a4ea0e-a35c-46b5-9f3e-0815a45b7867",
   "metadata": {},
   "outputs": [],
   "source": [
    "## syntax of set...\n"
   ]
  },
  {
   "cell_type": "code",
   "execution_count": 98,
   "id": "4bfdc3f1-8b1c-4d66-afa1-8193aa29d694",
   "metadata": {},
   "outputs": [
    {
     "data": {
      "text/plain": [
       "dict"
      ]
     },
     "execution_count": 98,
     "metadata": {},
     "output_type": "execute_result"
    }
   ],
   "source": [
    "s = {}\n",
    "type(s)\n",
    "## this is showing dict because empty.. if u can put a value in curly bracket than the type of sets..."
   ]
  },
  {
   "cell_type": "code",
   "execution_count": 99,
   "id": "a10b1c2a-0a23-4a90-8ae4-bb332689f8f6",
   "metadata": {},
   "outputs": [
    {
     "data": {
      "text/plain": [
       "set"
      ]
     },
     "execution_count": 99,
     "metadata": {},
     "output_type": "execute_result"
    }
   ],
   "source": [
    "s = {1}\n",
    "type(s)"
   ]
  },
  {
   "cell_type": "code",
   "execution_count": null,
   "id": "8ae493b3-73b1-447a-9b8a-7416ca7b5fe4",
   "metadata": {},
   "outputs": [],
   "source": []
  },
  {
   "cell_type": "code",
   "execution_count": 100,
   "id": "286e891d-8bee-44bb-894a-a664094be787",
   "metadata": {},
   "outputs": [],
   "source": [
    "## if u want to add a value of sets.."
   ]
  },
  {
   "cell_type": "code",
   "execution_count": 102,
   "id": "2296b499-3681-4bc0-ab27-774e9b60f851",
   "metadata": {},
   "outputs": [],
   "source": [
    "s = {10,20,30,40,\"abhishek\",\"mohsin\",\"sanjeev\"}"
   ]
  },
  {
   "cell_type": "code",
   "execution_count": 103,
   "id": "f1c84cb3-8569-4995-9d87-7ccfe956d699",
   "metadata": {},
   "outputs": [
    {
     "data": {
      "text/plain": [
       "{10, 20, 30, 40, 'abhishek', 'mohsin', 'sanjeev'}"
      ]
     },
     "execution_count": 103,
     "metadata": {},
     "output_type": "execute_result"
    }
   ],
   "source": [
    "s"
   ]
  },
  {
   "cell_type": "code",
   "execution_count": 106,
   "id": "dfd85a49-b48f-4b1f-ab4a-99a95481d7ec",
   "metadata": {},
   "outputs": [],
   "source": [
    "s.add(1000)\n",
    "## do not compulsary that it will add to last in sets."
   ]
  },
  {
   "cell_type": "code",
   "execution_count": 107,
   "id": "dbebbd9f-e439-485a-bdb8-6db87f6d64a0",
   "metadata": {},
   "outputs": [
    {
     "data": {
      "text/plain": [
       "{10, 1000, 20, 30, 40, 'abhishek', 'mohsin', 'sanjeev'}"
      ]
     },
     "execution_count": 107,
     "metadata": {},
     "output_type": "execute_result"
    }
   ],
   "source": [
    "s"
   ]
  },
  {
   "cell_type": "code",
   "execution_count": null,
   "id": "f83403d6-c181-4042-a49a-93680c31d026",
   "metadata": {},
   "outputs": [],
   "source": []
  },
  {
   "cell_type": "code",
   "execution_count": 111,
   "id": "170fcaf2-4bb2-4597-b707-cc7bf2825aca",
   "metadata": {},
   "outputs": [
    {
     "data": {
      "text/plain": [
       "20"
      ]
     },
     "execution_count": 111,
     "metadata": {},
     "output_type": "execute_result"
    }
   ],
   "source": [
    "## if u want remove any index..\n",
    "s.pop()"
   ]
  },
  {
   "cell_type": "code",
   "execution_count": 112,
   "id": "828aeb9c-6054-4c69-9eee-f5a1f267e130",
   "metadata": {},
   "outputs": [
    {
     "data": {
      "text/plain": [
       "{1000, 30, 40, 'abhishek', 'mohsin', 'sanjeev'}"
      ]
     },
     "execution_count": 112,
     "metadata": {},
     "output_type": "execute_result"
    }
   ],
   "source": [
    "s"
   ]
  },
  {
   "cell_type": "code",
   "execution_count": 115,
   "id": "e6009793-1adc-4574-8425-7dc5c8978baa",
   "metadata": {},
   "outputs": [
    {
     "data": {
      "text/plain": [
       "40"
      ]
     },
     "execution_count": 115,
     "metadata": {},
     "output_type": "execute_result"
    }
   ],
   "source": [
    "s.pop()\n",
    "## pop its not compulsary that it will be remove last indec in sets ... they are choose a randomally index..."
   ]
  },
  {
   "cell_type": "code",
   "execution_count": 114,
   "id": "d66f8e55-d825-4b64-9ac5-c57963791aa2",
   "metadata": {},
   "outputs": [
    {
     "data": {
      "text/plain": [
       "{1000, 30, 40, 'mohsin', 'sanjeev'}"
      ]
     },
     "execution_count": 114,
     "metadata": {},
     "output_type": "execute_result"
    }
   ],
   "source": [
    "s"
   ]
  },
  {
   "cell_type": "code",
   "execution_count": 116,
   "id": "abcf038f-d8b1-4e0a-94ef-8df1df55885f",
   "metadata": {},
   "outputs": [],
   "source": [
    "## if u want to remove a specific number of index...\n",
    "s.remove(1000)"
   ]
  },
  {
   "cell_type": "code",
   "execution_count": 117,
   "id": "3e9ffc0d-7734-4cbd-8fc0-90b285c8057d",
   "metadata": {},
   "outputs": [
    {
     "data": {
      "text/plain": [
       "{30, 'mohsin', 'sanjeev'}"
      ]
     },
     "execution_count": 117,
     "metadata": {},
     "output_type": "execute_result"
    }
   ],
   "source": [
    "s"
   ]
  },
  {
   "cell_type": "code",
   "execution_count": 118,
   "id": "2cdc9552-dad5-491a-9187-568d222a795e",
   "metadata": {},
   "outputs": [],
   "source": [
    "## if u want to update a iterates...\n",
    "s.update([1000,\"abhishek\"])"
   ]
  },
  {
   "cell_type": "code",
   "execution_count": 119,
   "id": "6eeadac2-631d-4eb7-97b3-78fe0fb9ffb7",
   "metadata": {},
   "outputs": [
    {
     "data": {
      "text/plain": [
       "{1000, 30, 'abhishek', 'mohsin', 'sanjeev'}"
      ]
     },
     "execution_count": 119,
     "metadata": {},
     "output_type": "execute_result"
    }
   ],
   "source": [
    "s\n",
    "## i can update string and integer both..."
   ]
  },
  {
   "cell_type": "code",
   "execution_count": null,
   "id": "a86349cc-9d4b-4a2b-a493-e01ed837b3e0",
   "metadata": {},
   "outputs": [],
   "source": []
  },
  {
   "cell_type": "markdown",
   "id": "687e3abe-21d4-4ab4-bbb1-f88977de0cd1",
   "metadata": {},
   "source": [
    "### Set operation..\n",
    "#### (1) union  = syntax of union (|)        \n",
    "    (2) intersection.  =syntax of intersection (&)\n",
    "    (3) diffrence.  = syntax of diffrence (-)\n",
    "    (4) symmetric diffrence = syntax of symmetric diffrence (^)"
   ]
  },
  {
   "cell_type": "code",
   "execution_count": 122,
   "id": "c6c1ac07-00f3-4bb6-b63c-4f6545d85de0",
   "metadata": {},
   "outputs": [],
   "source": [
    "## union == union is combine elements from two sets including duplicates..\n",
    "## intersection == only common elements between sets..\n",
    "## diffrence == return the elements that is present in first sets not in second set..\n",
    "## symmetric diffrence == Return element that are present in either of sets but not in...."
   ]
  },
  {
   "cell_type": "code",
   "execution_count": null,
   "id": "3237efb2-94b8-4631-9189-75168b19a504",
   "metadata": {},
   "outputs": [],
   "source": []
  },
  {
   "cell_type": "code",
   "execution_count": 123,
   "id": "a5db2f22-eb8d-4990-800a-62950f2ae9d3",
   "metadata": {},
   "outputs": [],
   "source": [
    "set1 = {\"coding\",\"photograpy\",\"books\"}\n",
    "set2 = {\"coding\",\"power bi\",\"book2\"}"
   ]
  },
  {
   "cell_type": "code",
   "execution_count": 124,
   "id": "4afd1164-c1c8-4346-8b0d-5f20017f4f4e",
   "metadata": {},
   "outputs": [
    {
     "data": {
      "text/plain": [
       "{'books', 'coding', 'photograpy'}"
      ]
     },
     "execution_count": 124,
     "metadata": {},
     "output_type": "execute_result"
    }
   ],
   "source": [
    "set1"
   ]
  },
  {
   "cell_type": "code",
   "execution_count": 125,
   "id": "e22c1504-063c-4986-9fbd-1993cf95f860",
   "metadata": {},
   "outputs": [
    {
     "data": {
      "text/plain": [
       "{'book2', 'coding', 'power bi'}"
      ]
     },
     "execution_count": 125,
     "metadata": {},
     "output_type": "execute_result"
    }
   ],
   "source": [
    "set2\n"
   ]
  },
  {
   "cell_type": "code",
   "execution_count": 126,
   "id": "b30a7651-1b2e-4277-8029-1130383f058b",
   "metadata": {},
   "outputs": [
    {
     "data": {
      "text/plain": [
       "{'book2', 'books', 'coding', 'photograpy', 'power bi'}"
      ]
     },
     "execution_count": 126,
     "metadata": {},
     "output_type": "execute_result"
    }
   ],
   "source": [
    "## union of sets ==union is combine elements from two sets including duplicates..\n",
    "set1|set2"
   ]
  },
  {
   "cell_type": "code",
   "execution_count": 127,
   "id": "d87fed0f-8ad0-4bc4-857f-ed821ec7a2a2",
   "metadata": {},
   "outputs": [
    {
     "data": {
      "text/plain": [
       "{'coding'}"
      ]
     },
     "execution_count": 127,
     "metadata": {},
     "output_type": "execute_result"
    }
   ],
   "source": [
    "## intersection of set ==  only common elements between sets..\n",
    "set1&set2"
   ]
  },
  {
   "cell_type": "code",
   "execution_count": 128,
   "id": "9611d68c-4669-4fda-8e03-9e1a7018226c",
   "metadata": {},
   "outputs": [
    {
     "data": {
      "text/plain": [
       "{'books', 'photograpy'}"
      ]
     },
     "execution_count": 128,
     "metadata": {},
     "output_type": "execute_result"
    }
   ],
   "source": [
    "## diffrence of set..  == return the elements that is present in first sets not in second set..\n",
    "set1-set2"
   ]
  },
  {
   "cell_type": "code",
   "execution_count": 129,
   "id": "6e4875c0-0dbf-4eee-b4f5-d7b911764bcb",
   "metadata": {},
   "outputs": [
    {
     "data": {
      "text/plain": [
       "{'book2', 'books', 'photograpy', 'power bi'}"
      ]
     },
     "execution_count": 129,
     "metadata": {},
     "output_type": "execute_result"
    }
   ],
   "source": [
    "## symmetric diffrence == Return element that are present in either of sets but not in... \n",
    "set1^set2"
   ]
  },
  {
   "cell_type": "markdown",
   "id": "fcf1e759-c57d-41bb-b1a3-630798fe55a5",
   "metadata": {},
   "source": [
    "#### FROZEN SETS =:\n",
    "    Frozen set is immutable version of set cannot be added or removed any new elements...."
   ]
  },
  {
   "cell_type": "code",
   "execution_count": 2,
   "id": "31aaa846-d69b-44b3-a999-087ba8953a65",
   "metadata": {},
   "outputs": [],
   "source": [
    "mylist = frozenset([100,200,300,400])"
   ]
  },
  {
   "cell_type": "code",
   "execution_count": 3,
   "id": "6ffe5c8f-a3e9-4d4b-8357-12bc44a8be0e",
   "metadata": {},
   "outputs": [
    {
     "data": {
      "text/plain": [
       "frozenset({100, 200, 300, 400})"
      ]
     },
     "execution_count": 3,
     "metadata": {},
     "output_type": "execute_result"
    }
   ],
   "source": [
    "mylist"
   ]
  },
  {
   "cell_type": "code",
   "execution_count": 5,
   "id": "2c8643a1-a475-49ad-9ddc-819925f7d53e",
   "metadata": {},
   "outputs": [
    {
     "ename": "AttributeError",
     "evalue": "'frozenset' object has no attribute 'add'",
     "output_type": "error",
     "traceback": [
      "\u001b[0;31m---------------------------------------------------------------------------\u001b[0m",
      "\u001b[0;31mAttributeError\u001b[0m                            Traceback (most recent call last)",
      "Cell \u001b[0;32mIn[5], line 1\u001b[0m\n\u001b[0;32m----> 1\u001b[0m \u001b[43mmylist\u001b[49m\u001b[38;5;241;43m.\u001b[39;49m\u001b[43madd\u001b[49m(\u001b[38;5;241m100\u001b[39m) \n",
      "\u001b[0;31mAttributeError\u001b[0m: 'frozenset' object has no attribute 'add'"
     ]
    }
   ],
   "source": [
    "mylist.add(100) "
   ]
  },
  {
   "cell_type": "code",
   "execution_count": 6,
   "id": "e9840ce8-eb8a-4999-8192-6f1902b8497e",
   "metadata": {},
   "outputs": [],
   "source": [
    "### error  because frozen set its cant be changed ....and this is usage case in a office  and govt. sector also ..."
   ]
  },
  {
   "cell_type": "markdown",
   "id": "5357cc6e-aed6-47c6-b757-0adb7d4e9043",
   "metadata": {},
   "source": [
    "#### That's all about of key feature and examples of sets and frozen sets...."
   ]
  },
  {
   "cell_type": "code",
   "execution_count": null,
   "id": "b15640bf-5720-4a82-9b43-4a604ef6eb6a",
   "metadata": {},
   "outputs": [],
   "source": []
  },
  {
   "cell_type": "markdown",
   "id": "06e79df8-f64b-4cc5-87c5-dcb4d836c20b",
   "metadata": {},
   "source": [
    "### Question(6) Discuss the use cases of tuples and sets in python programming..??"
   ]
  },
  {
   "cell_type": "markdown",
   "id": "4105daf6-deba-4be3-9763-6d94164d4efe",
   "metadata": {},
   "source": [
    "#### Ans = use cases of tuples and sets..\n",
    "    TUPLES =: Tuples are used to store multiple items in a single variable. Tuple is one of 4 built-in data types in Python used to store collections of data, the other 3 are List, Set, and Dictionary, all with different qualities and usage.\n",
    "\n",
    "    tuples are immutable.\n",
    "    tuples are hetrogenous we can store any thing in tuples.\n",
    "    tuples are ordered collection elements..\n",
    "    tuples are membership operator..\n",
    "\n",
    "\n",
    "    SETS =: A common use of sets in Python is computing standard math operations such as union, intersection, difference, and symmetric difference...\n",
    "    Sets are unordered and unique collection of elements.\n",
    "    Sets doesn't allow duplicate elements..\n",
    "    Sets unordered >>> indexing will not work..\n",
    "    Sets are unhasable type data structure..\n",
    "    sets operations.."
   ]
  },
  {
   "cell_type": "markdown",
   "id": "8f086743-553a-4f29-9c3c-11e40cad7708",
   "metadata": {},
   "source": [
    "### SETS"
   ]
  },
  {
   "cell_type": "code",
   "execution_count": 12,
   "id": "e7b1cfc3-3c97-4fb0-9b34-4757183dd139",
   "metadata": {},
   "outputs": [],
   "source": [
    "## SETS\n",
    "ab = {\"abhishek\"}"
   ]
  },
  {
   "cell_type": "code",
   "execution_count": 13,
   "id": "17f8f2b6-f53f-48e0-9cb2-e8dd28daeb70",
   "metadata": {},
   "outputs": [
    {
     "data": {
      "text/plain": [
       "{'abhishek'}"
      ]
     },
     "execution_count": 13,
     "metadata": {},
     "output_type": "execute_result"
    }
   ],
   "source": [
    "ab"
   ]
  },
  {
   "cell_type": "code",
   "execution_count": 14,
   "id": "45f34832-336f-4c50-8640-70529b0a7485",
   "metadata": {},
   "outputs": [
    {
     "data": {
      "text/plain": [
       "set"
      ]
     },
     "execution_count": 14,
     "metadata": {},
     "output_type": "execute_result"
    }
   ],
   "source": [
    "type(ab)"
   ]
  },
  {
   "cell_type": "code",
   "execution_count": null,
   "id": "7dba3e0d-8921-46d3-92bb-136a0dd9bb7e",
   "metadata": {},
   "outputs": [],
   "source": []
  },
  {
   "cell_type": "code",
   "execution_count": 15,
   "id": "a64a0656-25d1-49b0-9b12-36b8668d6420",
   "metadata": {},
   "outputs": [
    {
     "data": {
      "text/plain": [
       "{'abhi', 'ai', 'power bi', 'pwskills', 'skills'}"
      ]
     },
     "execution_count": 15,
     "metadata": {},
     "output_type": "execute_result"
    }
   ],
   "source": [
    "s = { \"abhi\",\"pwskills\",\"skills\",\"power bi\",\"ai\"}\n",
    "s"
   ]
  },
  {
   "cell_type": "code",
   "execution_count": 19,
   "id": "9d69c5cd-a965-4976-bcd7-148647d66751",
   "metadata": {},
   "outputs": [
    {
     "ename": "TypeError",
     "evalue": "'set' object is not subscriptable",
     "output_type": "error",
     "traceback": [
      "\u001b[0;31m---------------------------------------------------------------------------\u001b[0m",
      "\u001b[0;31mTypeError\u001b[0m                                 Traceback (most recent call last)",
      "Cell \u001b[0;32mIn[19], line 2\u001b[0m\n\u001b[1;32m      1\u001b[0m \u001b[38;5;66;03m# if i access the index in sets show errror..\u001b[39;00m\n\u001b[0;32m----> 2\u001b[0m \u001b[43ms\u001b[49m\u001b[43m[\u001b[49m\u001b[38;5;241;43m0\u001b[39;49m\u001b[43m]\u001b[49m\n",
      "\u001b[0;31mTypeError\u001b[0m: 'set' object is not subscriptable"
     ]
    }
   ],
   "source": [
    "# if i access the index in sets show errror..\n",
    "s[0]"
   ]
  },
  {
   "cell_type": "code",
   "execution_count": 21,
   "id": "ae99b1c8-4c60-48b2-881e-e186cfb40b39",
   "metadata": {},
   "outputs": [
    {
     "ename": "SyntaxError",
     "evalue": "unterminated string literal (detected at line 1) (1377209548.py, line 1)",
     "output_type": "error",
     "traceback": [
      "\u001b[0;36m  Cell \u001b[0;32mIn[21], line 1\u001b[0;36m\u001b[0m\n\u001b[0;31m    s[0] = \"course\u001b[0m\n\u001b[0m           ^\u001b[0m\n\u001b[0;31mSyntaxError\u001b[0m\u001b[0;31m:\u001b[0m unterminated string literal (detected at line 1)\n"
     ]
    }
   ],
   "source": [
    "s[0] = \"course\n",
    "## sets are immutable and do not  change the value of sets.."
   ]
  },
  {
   "cell_type": "code",
   "execution_count": 25,
   "id": "f510084d-ef8b-454e-a895-48fb3fd4a3d6",
   "metadata": {},
   "outputs": [
    {
     "data": {
      "text/plain": [
       "{'abhi', 'ai', 'power bi', 'pwskills', 'skills'}"
      ]
     },
     "execution_count": 25,
     "metadata": {},
     "output_type": "execute_result"
    }
   ],
   "source": [
    "s\n",
    "## sets are convert into list and convert into list to sets..."
   ]
  },
  {
   "cell_type": "code",
   "execution_count": 26,
   "id": "461cb0a2-5e4f-452e-b5a5-a841bb97bc46",
   "metadata": {},
   "outputs": [],
   "source": [
    "s = list(s)"
   ]
  },
  {
   "cell_type": "code",
   "execution_count": 27,
   "id": "4feb6814-eb71-46d8-8c24-dbeed6841b75",
   "metadata": {},
   "outputs": [
    {
     "data": {
      "text/plain": [
       "['skills', 'power bi', 'pwskills', 'abhi', 'ai']"
      ]
     },
     "execution_count": 27,
     "metadata": {},
     "output_type": "execute_result"
    }
   ],
   "source": [
    "s"
   ]
  },
  {
   "cell_type": "code",
   "execution_count": 29,
   "id": "e8d954a1-8a77-4903-adc2-8bf71d82e125",
   "metadata": {},
   "outputs": [
    {
     "data": {
      "text/plain": [
       "list"
      ]
     },
     "execution_count": 29,
     "metadata": {},
     "output_type": "execute_result"
    }
   ],
   "source": [
    "type(s)\n",
    "## converted into list...\n"
   ]
  },
  {
   "cell_type": "code",
   "execution_count": 32,
   "id": "d2068dbe-352b-40ee-81d3-3bc3acf82a6b",
   "metadata": {},
   "outputs": [],
   "source": [
    "s = set(s)\n",
    "## again converted into a sets..."
   ]
  },
  {
   "cell_type": "code",
   "execution_count": 33,
   "id": "b03cc5be-0fde-49cb-80da-b2024cda4c5b",
   "metadata": {},
   "outputs": [
    {
     "data": {
      "text/plain": [
       "{'abhi', 'ai', 'power bi', 'pwskills', 'skills'}"
      ]
     },
     "execution_count": 33,
     "metadata": {},
     "output_type": "execute_result"
    }
   ],
   "source": [
    "s"
   ]
  },
  {
   "cell_type": "code",
   "execution_count": 34,
   "id": "eb8c3df8-aeee-433e-a66b-149fd56f3bb8",
   "metadata": {},
   "outputs": [
    {
     "data": {
      "text/plain": [
       "set"
      ]
     },
     "execution_count": 34,
     "metadata": {},
     "output_type": "execute_result"
    }
   ],
   "source": [
    "type(s)\n"
   ]
  },
  {
   "cell_type": "code",
   "execution_count": 36,
   "id": "9bcf646b-420c-45aa-a628-baeef2fa9fd8",
   "metadata": {},
   "outputs": [],
   "source": [
    "## sets are unhashable...\n",
    "## unhashable type it is mutable list set..\n",
    "\n"
   ]
  },
  {
   "cell_type": "code",
   "execution_count": 37,
   "id": "fcf375ac-cad2-4ef0-8d97-5f0bc1bdf2ae",
   "metadata": {},
   "outputs": [
    {
     "ename": "TypeError",
     "evalue": "unhashable type: 'set'",
     "output_type": "error",
     "traceback": [
      "\u001b[0;31m---------------------------------------------------------------------------\u001b[0m",
      "\u001b[0;31mTypeError\u001b[0m                                 Traceback (most recent call last)",
      "Cell \u001b[0;32mIn[37], line 1\u001b[0m\n\u001b[0;32m----> 1\u001b[0m a \u001b[38;5;241m=\u001b[39m {\u001b[38;5;124m\"\u001b[39m\u001b[38;5;124mabhi\u001b[39m\u001b[38;5;124m\"\u001b[39m,\u001b[38;5;124m\"\u001b[39m\u001b[38;5;124mmohsin\u001b[39m\u001b[38;5;124m\"\u001b[39m,\u001b[38;5;124m\"\u001b[39m\u001b[38;5;124msanjeev\u001b[39m\u001b[38;5;124m\"\u001b[39m,{\u001b[38;5;124m\"\u001b[39m\u001b[38;5;124madil bhai\u001b[39m\u001b[38;5;124m\"\u001b[39m},\u001b[38;5;241m100\u001b[39m,\u001b[38;5;241m200\u001b[39m}\n",
      "\u001b[0;31mTypeError\u001b[0m: unhashable type: 'set'"
     ]
    }
   ],
   "source": [
    "a = {\"abhi\",\"mohsin\",\"sanjeev\",{\"adil bhai\"},100,200}"
   ]
  },
  {
   "cell_type": "code",
   "execution_count": 38,
   "id": "c7855d29-c590-48be-8efd-e2fdfd5128c9",
   "metadata": {},
   "outputs": [],
   "source": [
    "a = {\"abhi\",\"mohsin\",\"sanjeev\",(\"adil bhai\"),100,200} \n",
    "## its no error because tuple is immutable...."
   ]
  },
  {
   "cell_type": "code",
   "execution_count": 39,
   "id": "dfd91e62-2249-41ab-841b-01cae57065be",
   "metadata": {},
   "outputs": [
    {
     "data": {
      "text/plain": [
       "{100, 200, 'abhi', 'adil bhai', 'mohsin', 'sanjeev'}"
      ]
     },
     "execution_count": 39,
     "metadata": {},
     "output_type": "execute_result"
    }
   ],
   "source": [
    "a"
   ]
  },
  {
   "cell_type": "code",
   "execution_count": 40,
   "id": "e6d56f0a-5bf8-4310-946b-06b6ed948914",
   "metadata": {},
   "outputs": [
    {
     "name": "stdout",
     "output_type": "stream",
     "text": [
      "sanjeev\n",
      "100\n",
      "adil bhai\n",
      "200\n",
      "mohsin\n",
      "abhi\n"
     ]
    }
   ],
   "source": [
    "## if i can run in loop form...\n",
    "for i in a:\n",
    "    print(i)"
   ]
  },
  {
   "cell_type": "code",
   "execution_count": 43,
   "id": "f7cf8869-d1a9-48a6-8aff-b580eb914048",
   "metadata": {},
   "outputs": [],
   "source": [
    "## use caases in built-in of sets..."
   ]
  },
  {
   "cell_type": "code",
   "execution_count": 44,
   "id": "1dcbe3ae-0887-4c0f-af9d-993420836598",
   "metadata": {},
   "outputs": [
    {
     "data": {
      "text/plain": [
       "{100, 200, 'abhi', 'adil bhai', 'mohsin', 'sanjeev'}"
      ]
     },
     "execution_count": 44,
     "metadata": {},
     "output_type": "execute_result"
    }
   ],
   "source": [
    "a"
   ]
  },
  {
   "cell_type": "code",
   "execution_count": 47,
   "id": "03cb5890-88d0-4a56-aa60-cf0836ac280b",
   "metadata": {},
   "outputs": [],
   "source": [
    "a.add(1000)\n",
    "# do not compulsary that it will add to last of set.."
   ]
  },
  {
   "cell_type": "code",
   "execution_count": 53,
   "id": "f1a3b0a2-6457-47d6-b88e-2297e0a86ac1",
   "metadata": {},
   "outputs": [
    {
     "data": {
      "text/plain": [
       "{100, 1000, 200, 'adil bhai', 'mohsin', 'sanjeev'}"
      ]
     },
     "execution_count": 53,
     "metadata": {},
     "output_type": "execute_result"
    }
   ],
   "source": [
    "a\n"
   ]
  },
  {
   "cell_type": "code",
   "execution_count": 56,
   "id": "6926539b-d7c7-4fa4-b3b8-2a870f51a2e3",
   "metadata": {},
   "outputs": [],
   "source": [
    "a.remove(\"adil bhai\")\n",
    "## if u can remove specific index in elements..."
   ]
  },
  {
   "cell_type": "code",
   "execution_count": 57,
   "id": "0bb929c5-b855-4f19-bd76-a9e79e2d5277",
   "metadata": {},
   "outputs": [
    {
     "data": {
      "text/plain": [
       "{100, 1000, 200, 'mohsin', 'sanjeev'}"
      ]
     },
     "execution_count": 57,
     "metadata": {},
     "output_type": "execute_result"
    }
   ],
   "source": [
    "a"
   ]
  },
  {
   "cell_type": "code",
   "execution_count": 58,
   "id": "921d820c-4c86-45e7-be55-f233c8cf6376",
   "metadata": {},
   "outputs": [
    {
     "data": {
      "text/plain": [
       "'sanjeev'"
      ]
     },
     "execution_count": 58,
     "metadata": {},
     "output_type": "execute_result"
    }
   ],
   "source": [
    "a.pop()\n",
    "## pop are also use case  of delete a index but that it will not a delete a last index in sets.."
   ]
  },
  {
   "cell_type": "code",
   "execution_count": 59,
   "id": "48cf4972-561e-4cec-a0f3-4f85d02c2bbe",
   "metadata": {},
   "outputs": [
    {
     "data": {
      "text/plain": [
       "{100, 1000, 200, 'mohsin'}"
      ]
     },
     "execution_count": 59,
     "metadata": {},
     "output_type": "execute_result"
    }
   ],
   "source": [
    "a"
   ]
  },
  {
   "cell_type": "code",
   "execution_count": 60,
   "id": "3dfc0bea-b926-4476-9f69-9adbc1aaa15c",
   "metadata": {},
   "outputs": [],
   "source": [
    "a.update(\"abhishek\")\n",
    "## this built-in function are update a index in element but they are updated in sequence form if you not use in syntax of tuple..."
   ]
  },
  {
   "cell_type": "code",
   "execution_count": 61,
   "id": "ae2c2b82-2166-4dd2-a06a-f9f47a3a1eaa",
   "metadata": {},
   "outputs": [
    {
     "data": {
      "text/plain": [
       "{100, 1000, 200, 'a', 'b', 'e', 'h', 'i', 'k', 'mohsin', 's'}"
      ]
     },
     "execution_count": 61,
     "metadata": {},
     "output_type": "execute_result"
    }
   ],
   "source": [
    "a"
   ]
  },
  {
   "cell_type": "code",
   "execution_count": 62,
   "id": "bb6fd158-ec33-431e-ab9f-6666a5896cfe",
   "metadata": {},
   "outputs": [],
   "source": [
    "a.update([\"abhishek\"])\n",
    "## this is using of syntax of tuple in update built-in function they are update proper way....."
   ]
  },
  {
   "cell_type": "code",
   "execution_count": 63,
   "id": "60a6695b-75de-4526-8f3f-c8514707ef00",
   "metadata": {},
   "outputs": [
    {
     "data": {
      "text/plain": [
       "{100, 1000, 200, 'a', 'abhishek', 'b', 'e', 'h', 'i', 'k', 'mohsin', 's'}"
      ]
     },
     "execution_count": 63,
     "metadata": {},
     "output_type": "execute_result"
    }
   ],
   "source": [
    "a"
   ]
  },
  {
   "cell_type": "code",
   "execution_count": 65,
   "id": "48a7157c-cee1-46b5-9323-8a96b3f197fa",
   "metadata": {},
   "outputs": [],
   "source": [
    "a.clear()\n",
    "## if u want to remove all index in sets..\n"
   ]
  },
  {
   "cell_type": "code",
   "execution_count": 68,
   "id": "3077bc84-befd-43ed-8cfd-0a450eaa2319",
   "metadata": {},
   "outputs": [
    {
     "data": {
      "text/plain": [
       "set()"
      ]
     },
     "execution_count": 68,
     "metadata": {},
     "output_type": "execute_result"
    }
   ],
   "source": [
    "a\n",
    "## if u clear than show are empty sets..."
   ]
  },
  {
   "cell_type": "code",
   "execution_count": 69,
   "id": "40e9e688-1ecb-4088-95c5-deebefe30428",
   "metadata": {},
   "outputs": [],
   "source": [
    "## Discard is new function it is same at remove ... ((diffrence into remove and discard)) .... discard are didnt showing in\n",
    "## error give value to do not into in variable...\n",
    "\n",
    "## error will not be thrown unlikely remove if the elements is not present..."
   ]
  },
  {
   "cell_type": "code",
   "execution_count": 70,
   "id": "dc615bdb-207e-43a7-9895-aced7d16656c",
   "metadata": {},
   "outputs": [],
   "source": [
    "a = {\"abhi\",\"mohsin\",\"sanjeev\",(\"adil bhai\"),100,200}"
   ]
  },
  {
   "cell_type": "code",
   "execution_count": 71,
   "id": "f93fb934-cc97-4081-9413-2904c2aeda46",
   "metadata": {},
   "outputs": [
    {
     "data": {
      "text/plain": [
       "{100, 200, 'abhi', 'adil bhai', 'mohsin', 'sanjeev'}"
      ]
     },
     "execution_count": 71,
     "metadata": {},
     "output_type": "execute_result"
    }
   ],
   "source": [
    "a"
   ]
  },
  {
   "cell_type": "code",
   "execution_count": 73,
   "id": "4dbdbb59-0aa4-4124-9eef-79ad165d5fdb",
   "metadata": {},
   "outputs": [],
   "source": [
    "a.discard(100)\n",
    "## discard is as it is same function of remove..."
   ]
  },
  {
   "cell_type": "code",
   "execution_count": 74,
   "id": "564bf320-8658-4329-bf72-b1ca64c8e2ac",
   "metadata": {},
   "outputs": [
    {
     "data": {
      "text/plain": [
       "{200, 'abhi', 'adil bhai', 'mohsin', 'sanjeev'}"
      ]
     },
     "execution_count": 74,
     "metadata": {},
     "output_type": "execute_result"
    }
   ],
   "source": [
    "a"
   ]
  },
  {
   "cell_type": "code",
   "execution_count": 75,
   "id": "513d8a98-82b3-42e2-aba4-d8efde44bea6",
   "metadata": {},
   "outputs": [],
   "source": [
    "a.discard(1000)\n",
    "## Discard are didn't show in error give value to do not into in variable...."
   ]
  },
  {
   "cell_type": "code",
   "execution_count": 76,
   "id": "9d673e33-12bf-42ad-8fa0-7c416ef96fc7",
   "metadata": {},
   "outputs": [
    {
     "data": {
      "text/plain": [
       "{200, 'abhi', 'adil bhai', 'mohsin', 'sanjeev'}"
      ]
     },
     "execution_count": 76,
     "metadata": {},
     "output_type": "execute_result"
    }
   ],
   "source": [
    "a"
   ]
  },
  {
   "cell_type": "code",
   "execution_count": null,
   "id": "1ad58323-5425-4be5-9494-ebc00584160c",
   "metadata": {},
   "outputs": [],
   "source": []
  },
  {
   "cell_type": "markdown",
   "id": "927a530c-a889-4f0a-a3d6-368ce89cbcce",
   "metadata": {},
   "source": [
    "#### FROZEN SET\n",
    "    except that frozensets are immutable, which implies that once generated, \n",
    "    elements from the frozenset cannot be added or removed....\n"
   ]
  },
  {
   "cell_type": "code",
   "execution_count": 79,
   "id": "6216e56d-cf7c-4814-ba32-bb964a3fcc71",
   "metadata": {},
   "outputs": [],
   "source": [
    "myset = frozenset([10,20,30,40])"
   ]
  },
  {
   "cell_type": "code",
   "execution_count": 80,
   "id": "09f9b784-7570-4839-bff1-65b636f8d34e",
   "metadata": {},
   "outputs": [
    {
     "data": {
      "text/plain": [
       "frozenset({10, 20, 30, 40})"
      ]
     },
     "execution_count": 80,
     "metadata": {},
     "output_type": "execute_result"
    }
   ],
   "source": [
    "myset"
   ]
  },
  {
   "cell_type": "code",
   "execution_count": 82,
   "id": "3d0c0d7f-0873-4431-9923-90d095d4ae18",
   "metadata": {},
   "outputs": [
    {
     "ename": "TypeError",
     "evalue": "'frozenset' object is not subscriptable",
     "output_type": "error",
     "traceback": [
      "\u001b[0;31m---------------------------------------------------------------------------\u001b[0m",
      "\u001b[0;31mTypeError\u001b[0m                                 Traceback (most recent call last)",
      "Cell \u001b[0;32mIn[82], line 1\u001b[0m\n\u001b[0;32m----> 1\u001b[0m \u001b[43mmyset\u001b[49m\u001b[43m[\u001b[49m\u001b[38;5;241;43m0\u001b[39;49m\u001b[43m]\u001b[49m\n\u001b[1;32m      2\u001b[0m \u001b[38;5;66;03m## i can't be access a frozen sets.\u001b[39;00m\n",
      "\u001b[0;31mTypeError\u001b[0m: 'frozenset' object is not subscriptable"
     ]
    }
   ],
   "source": [
    "myset[0]\n",
    "## i can't be access a frozen sets."
   ]
  },
  {
   "cell_type": "code",
   "execution_count": 84,
   "id": "e5b1a72d-9396-45c5-833a-e4f4a44748f2",
   "metadata": {},
   "outputs": [
    {
     "ename": "TypeError",
     "evalue": "'frozenset' object does not support item assignment",
     "output_type": "error",
     "traceback": [
      "\u001b[0;31m---------------------------------------------------------------------------\u001b[0m",
      "\u001b[0;31mTypeError\u001b[0m                                 Traceback (most recent call last)",
      "Cell \u001b[0;32mIn[84], line 1\u001b[0m\n\u001b[0;32m----> 1\u001b[0m \u001b[43mmyset\u001b[49m\u001b[43m[\u001b[49m\u001b[38;5;241;43m0\u001b[39;49m\u001b[43m]\u001b[49m \u001b[38;5;241m=\u001b[39m \u001b[38;5;124m\"\u001b[39m\u001b[38;5;124mabhi\u001b[39m\u001b[38;5;124m\"\u001b[39m\n\u001b[1;32m      2\u001b[0m \u001b[38;5;66;03m## i can't be change any index value in frozen sets...\u001b[39;00m\n",
      "\u001b[0;31mTypeError\u001b[0m: 'frozenset' object does not support item assignment"
     ]
    }
   ],
   "source": [
    "myset[0] = \"abhi\"\n",
    "## i can't be change any index value in frozen sets..."
   ]
  },
  {
   "cell_type": "markdown",
   "id": "e1f0b1fc-f52a-4ba5-9fab-e771a417a2c2",
   "metadata": {},
   "source": [
    "#### SETS OPERATION...\n",
    "    (1) union  = syntax of union (|)        \n",
    "    (2) intersection.  =syntax of intersection (&)\n",
    "    (3) diffrence.  = syntax of diffrence (-)\n",
    "    (4) symmetric diffrence = syntax of symmetric diffrence (^)\n",
    "## union  == combine elements from two sets excluding duplicates...\n",
    "## intersection == only commen elements between sets..\n",
    "## difference == return the elements that is present in first sets and not in second...\n",
    "## symmetric difference == return elements that are present in either of sets but not in common.\n"
   ]
  },
  {
   "cell_type": "code",
   "execution_count": 85,
   "id": "ef77dabb-0e17-4507-8f77-22b67499b6a6",
   "metadata": {},
   "outputs": [],
   "source": [
    "## set of union\n",
    "a = {\"abhi\",\"pw\",\"skills\",}\n",
    "b = {\"abhi\",\"dtat science\",\"data analyst\"}"
   ]
  },
  {
   "cell_type": "code",
   "execution_count": 86,
   "id": "e6dec928-16d8-434d-9dd6-2b686408a04a",
   "metadata": {},
   "outputs": [
    {
     "data": {
      "text/plain": [
       "{'abhi', 'pw', 'skills'}"
      ]
     },
     "execution_count": 86,
     "metadata": {},
     "output_type": "execute_result"
    }
   ],
   "source": [
    "a"
   ]
  },
  {
   "cell_type": "code",
   "execution_count": 87,
   "id": "7b95711d-bdb1-4492-8efe-128bfeb34e30",
   "metadata": {},
   "outputs": [
    {
     "data": {
      "text/plain": [
       "{'abhi', 'data analyst', 'dtat science'}"
      ]
     },
     "execution_count": 87,
     "metadata": {},
     "output_type": "execute_result"
    }
   ],
   "source": [
    "b"
   ]
  },
  {
   "cell_type": "code",
   "execution_count": 88,
   "id": "e93e4d78-b38d-4c35-a441-10ff83f3e95c",
   "metadata": {},
   "outputs": [
    {
     "data": {
      "text/plain": [
       "{'abhi', 'data analyst', 'dtat science', 'pw', 'skills'}"
      ]
     },
     "execution_count": 88,
     "metadata": {},
     "output_type": "execute_result"
    }
   ],
   "source": [
    "## union(|)\n",
    "## combine all elements including common also...\n",
    "a|b"
   ]
  },
  {
   "cell_type": "code",
   "execution_count": 90,
   "id": "f1e8e3ac-bff2-489c-8301-8f29a15286e2",
   "metadata": {},
   "outputs": [
    {
     "data": {
      "text/plain": [
       "{'abhi'}"
      ]
     },
     "execution_count": 90,
     "metadata": {},
     "output_type": "execute_result"
    }
   ],
   "source": [
    "## intersection(&)\n",
    "## intersection find a common index in between set a and set b.\n",
    "a&b"
   ]
  },
  {
   "cell_type": "code",
   "execution_count": 91,
   "id": "a77f81e3-bbcf-47f6-b786-acaacf9791d1",
   "metadata": {},
   "outputs": [
    {
     "data": {
      "text/plain": [
       "{'pw', 'skills'}"
      ]
     },
     "execution_count": 91,
     "metadata": {},
     "output_type": "execute_result"
    }
   ],
   "source": [
    "## diffrence(-)\n",
    "## return the elements that is present in first sets and not in second...\n",
    "a-b"
   ]
  },
  {
   "cell_type": "code",
   "execution_count": 92,
   "id": "bb6bdc3e-546b-44ed-99c7-847dd4b32572",
   "metadata": {},
   "outputs": [
    {
     "data": {
      "text/plain": [
       "{'data analyst', 'dtat science', 'pw', 'skills'}"
      ]
     },
     "execution_count": 92,
     "metadata": {},
     "output_type": "execute_result"
    }
   ],
   "source": [
    "## symmetric diffrence(^)\n",
    "## return elements that are present in either of sets but not in common..\n",
    "a^b"
   ]
  },
  {
   "cell_type": "markdown",
   "id": "3293f127-c095-4152-99b2-b2bf5f9e5ef9",
   "metadata": {},
   "source": [
    "#### all about of uses are sets and frozen sets and set operation and understanding of sets...\n"
   ]
  },
  {
   "cell_type": "markdown",
   "id": "9e21aed6-bb6c-4d28-b860-568c001a6775",
   "metadata": {},
   "source": [
    "### TUPLES"
   ]
  },
  {
   "cell_type": "code",
   "execution_count": 100,
   "id": "dfb9e7a0-4eca-4493-9783-7612e778e5a0",
   "metadata": {},
   "outputs": [],
   "source": [
    "a = (10,20,20,10,\"pw\",\"skills\")"
   ]
  },
  {
   "cell_type": "code",
   "execution_count": 101,
   "id": "aea20ed9-4a17-4260-a8c8-25838e474cbb",
   "metadata": {},
   "outputs": [
    {
     "data": {
      "text/plain": [
       "tuple"
      ]
     },
     "execution_count": 101,
     "metadata": {},
     "output_type": "execute_result"
    }
   ],
   "source": [
    "type(a)"
   ]
  },
  {
   "cell_type": "code",
   "execution_count": 95,
   "id": "61d5d871-859e-4598-ac0d-8f32cbc3b460",
   "metadata": {},
   "outputs": [
    {
     "data": {
      "text/plain": [
       "(10, 20, 20, 10, 'pw', 'skills')"
      ]
     },
     "execution_count": 95,
     "metadata": {},
     "output_type": "execute_result"
    }
   ],
   "source": [
    "a\n",
    "## tuples are allow to duplicates item..."
   ]
  },
  {
   "cell_type": "code",
   "execution_count": 97,
   "id": "8521d7a1-b8e6-44d4-9b1d-cfa68171b128",
   "metadata": {},
   "outputs": [
    {
     "data": {
      "text/plain": [
       "10"
      ]
     },
     "execution_count": 97,
     "metadata": {},
     "output_type": "execute_result"
    }
   ],
   "source": [
    "a[0]\n",
    "## if u can acces a particular index in elements..."
   ]
  },
  {
   "cell_type": "code",
   "execution_count": 99,
   "id": "5b8c819a-c2f3-46f1-a662-7be0e5c3b85b",
   "metadata": {},
   "outputs": [
    {
     "ename": "TypeError",
     "evalue": "'tuple' object does not support item assignment",
     "output_type": "error",
     "traceback": [
      "\u001b[0;31m---------------------------------------------------------------------------\u001b[0m",
      "\u001b[0;31mTypeError\u001b[0m                                 Traceback (most recent call last)",
      "Cell \u001b[0;32mIn[99], line 1\u001b[0m\n\u001b[0;32m----> 1\u001b[0m \u001b[43ma\u001b[49m\u001b[43m[\u001b[49m\u001b[38;5;241;43m0\u001b[39;49m\u001b[43m]\u001b[49m \u001b[38;5;241m=\u001b[39m \u001b[38;5;124m\"\u001b[39m\u001b[38;5;124mabhi\u001b[39m\u001b[38;5;124m\"\u001b[39m\n",
      "\u001b[0;31mTypeError\u001b[0m: 'tuple' object does not support item assignment"
     ]
    }
   ],
   "source": [
    "a[0] = \"abhi\"\n",
    "## but u can't change a index value because tuple are immutable..."
   ]
  },
  {
   "cell_type": "code",
   "execution_count": 102,
   "id": "bd36349b-f3f8-463f-a6a7-24e87b04428c",
   "metadata": {},
   "outputs": [],
   "source": [
    "## use tuples as a data structure where you dont want to modify the data...."
   ]
  },
  {
   "cell_type": "code",
   "execution_count": 105,
   "id": "4c305381-fada-49e8-88fe-d6511f3a6a29",
   "metadata": {},
   "outputs": [],
   "source": [
    "## some tuples built-in function uses..\n",
    "a = (10,10,10,10,20,20,20,\"pw\",\"pw\",\"skills\",\"data str\")"
   ]
  },
  {
   "cell_type": "code",
   "execution_count": 106,
   "id": "b872e447-fae0-4eac-8d10-c4059f009ee8",
   "metadata": {},
   "outputs": [
    {
     "data": {
      "text/plain": [
       "(10, 10, 10, 10, 20, 20, 20, 'pw', 'pw', 'skills', 'data str')"
      ]
     },
     "execution_count": 106,
     "metadata": {},
     "output_type": "execute_result"
    }
   ],
   "source": [
    "a"
   ]
  },
  {
   "cell_type": "code",
   "execution_count": 108,
   "id": "f1494ae5-cf82-41bf-942d-a6325aef7ac0",
   "metadata": {},
   "outputs": [
    {
     "data": {
      "text/plain": [
       "4"
      ]
     },
     "execution_count": 108,
     "metadata": {},
     "output_type": "execute_result"
    }
   ],
   "source": [
    "a.count(10)\n",
    "## count is calculate how many same index in elements...\n"
   ]
  },
  {
   "cell_type": "code",
   "execution_count": 110,
   "id": "80a44c67-0e05-4aab-a269-f2aca8dd2881",
   "metadata": {},
   "outputs": [
    {
     "data": {
      "text/plain": [
       "7"
      ]
     },
     "execution_count": 110,
     "metadata": {},
     "output_type": "execute_result"
    }
   ],
   "source": [
    "a.index(\"pw\")\n",
    "## index in find out of position of index in elements..\n"
   ]
  },
  {
   "cell_type": "code",
   "execution_count": 111,
   "id": "db3ea02f-3cdc-4e70-9ce3-2ccb53ebceb8",
   "metadata": {},
   "outputs": [
    {
     "data": {
      "text/plain": [
       "4"
      ]
     },
     "execution_count": 111,
     "metadata": {},
     "output_type": "execute_result"
    }
   ],
   "source": [
    "a.index(20)"
   ]
  },
  {
   "cell_type": "code",
   "execution_count": 113,
   "id": "90b39556-a62f-4b28-bbfd-3efea541f392",
   "metadata": {},
   "outputs": [
    {
     "ename": "TypeError",
     "evalue": "'>' not supported between instances of 'str' and 'int'",
     "output_type": "error",
     "traceback": [
      "\u001b[0;31m---------------------------------------------------------------------------\u001b[0m",
      "\u001b[0;31mTypeError\u001b[0m                                 Traceback (most recent call last)",
      "Cell \u001b[0;32mIn[113], line 1\u001b[0m\n\u001b[0;32m----> 1\u001b[0m \u001b[38;5;28;43mmax\u001b[39;49m\u001b[43m(\u001b[49m\u001b[43ma\u001b[49m\u001b[43m)\u001b[49m\n",
      "\u001b[0;31mTypeError\u001b[0m: '>' not supported between instances of 'str' and 'int'"
     ]
    }
   ],
   "source": [
    "max(a)\n",
    "## this is not support max and min function in this because this elements are including string and integer also....max and min built-in tuples are working onlu integers..."
   ]
  },
  {
   "cell_type": "code",
   "execution_count": 114,
   "id": "401fca4d-a104-459f-bbcf-f4ad208a6058",
   "metadata": {},
   "outputs": [],
   "source": [
    "a = (100,200,300,400)"
   ]
  },
  {
   "cell_type": "code",
   "execution_count": 116,
   "id": "e50db8b6-eaee-415a-84c5-0f97a5ed291d",
   "metadata": {},
   "outputs": [
    {
     "data": {
      "text/plain": [
       "400"
      ]
     },
     "execution_count": 116,
     "metadata": {},
     "output_type": "execute_result"
    }
   ],
   "source": [
    "max(a)\n",
    "## this is understanding of python..u have give onlu integer value and than give didn't error.."
   ]
  },
  {
   "cell_type": "code",
   "execution_count": 119,
   "id": "aa9bba18-ab3f-418e-8f08-ca0cccba5f6b",
   "metadata": {},
   "outputs": [
    {
     "data": {
      "text/plain": [
       "100"
      ]
     },
     "execution_count": 119,
     "metadata": {},
     "output_type": "execute_result"
    }
   ],
   "source": [
    "min(a)\n",
    "## find a minimum value of elements..\n"
   ]
  },
  {
   "cell_type": "code",
   "execution_count": null,
   "id": "c1c6b653-dfed-4666-aa0c-e90edb2e0e78",
   "metadata": {},
   "outputs": [],
   "source": []
  },
  {
   "cell_type": "code",
   "execution_count": 120,
   "id": "63e02fd1-fdb8-47d2-b12f-d390b717ad88",
   "metadata": {},
   "outputs": [],
   "source": [
    "## multiply by tuples...."
   ]
  },
  {
   "cell_type": "code",
   "execution_count": 3,
   "id": "0c12bf9d-fa1c-42ad-a521-a1c55491b8fd",
   "metadata": {},
   "outputs": [],
   "source": [
    "tuplee = ( \"pwskills\",\"data science\",\"data analyst\",\"cousre\")\n"
   ]
  },
  {
   "cell_type": "code",
   "execution_count": 5,
   "id": "87f61aae-e9d1-45c4-aab0-fe995e92430f",
   "metadata": {},
   "outputs": [
    {
     "name": "stdout",
     "output_type": "stream",
     "text": [
      "('pwskills', 'data science', 'data analyst', 'cousre', 'pwskills', 'data science', 'data analyst', 'cousre')\n"
     ]
    }
   ],
   "source": [
    "print(tuplee*2)"
   ]
  },
  {
   "cell_type": "code",
   "execution_count": 6,
   "id": "cbefc783-03ec-45bc-b0be-06ac7275bf99",
   "metadata": {},
   "outputs": [
    {
     "name": "stdout",
     "output_type": "stream",
     "text": [
      "(100, 200, 300, 400, 500, 100, 200, 300, 400, 500)\n"
     ]
    }
   ],
   "source": [
    "a = (100,200,300,400,500)\n",
    "print(a*2)"
   ]
  },
  {
   "cell_type": "code",
   "execution_count": 8,
   "id": "87642247-d81a-451c-88f4-4bd5d2648ae5",
   "metadata": {},
   "outputs": [
    {
     "data": {
      "text/plain": [
       "('abhi', 'moshin', 'sanjeev', 'adil bhai')"
      ]
     },
     "execution_count": 8,
     "metadata": {},
     "output_type": "execute_result"
    }
   ],
   "source": [
    "## tuples slicing  \n",
    "a = (\"abhi\",\"moshin\",\"sanjeev\",\"adil bhai\")\n",
    "a[0::]\n",
    "## slicing are three steps == : start/end/step "
   ]
  },
  {
   "cell_type": "code",
   "execution_count": 10,
   "id": "af86b923-97c0-424a-9c42-cc7fd949dcef",
   "metadata": {},
   "outputs": [
    {
     "data": {
      "text/plain": [
       "('abhi',)"
      ]
     },
     "execution_count": 10,
     "metadata": {},
     "output_type": "execute_result"
    }
   ],
   "source": [
    "a[0:1:2]\n",
    "## slice is run to in postive way to right to left.."
   ]
  },
  {
   "cell_type": "code",
   "execution_count": 12,
   "id": "36d371d9-0c41-4f15-aab0-a535a5a151e7",
   "metadata": {},
   "outputs": [
    {
     "data": {
      "text/plain": [
       "('adil bhai', 'sanjeev', 'moshin', 'abhi')"
      ]
     },
     "execution_count": 12,
     "metadata": {},
     "output_type": "execute_result"
    }
   ],
   "source": [
    "a[::-1]\n",
    "## if u give negative index than follow a left to right access...."
   ]
  },
  {
   "cell_type": "code",
   "execution_count": 16,
   "id": "7f5b480d-a038-4dd4-b0c3-af574e5b1c87",
   "metadata": {},
   "outputs": [
    {
     "data": {
      "text/plain": [
       "()"
      ]
     },
     "execution_count": 16,
     "metadata": {},
     "output_type": "execute_result"
    }
   ],
   "source": [
    "a[:-1:-2]\n",
    "## they are show in empty tiples because negative are not acces to ends and step...."
   ]
  },
  {
   "cell_type": "code",
   "execution_count": 17,
   "id": "4153c3eb-1353-49f7-82f1-cffbbc90833e",
   "metadata": {},
   "outputs": [],
   "source": [
    "## iterate a tuples..."
   ]
  },
  {
   "cell_type": "code",
   "execution_count": 18,
   "id": "8ca01720-b9b9-4ba4-8c5b-ae15ad87093c",
   "metadata": {},
   "outputs": [],
   "source": [
    "a = (10,20,30,40,50,60,\"pwskills\",\"data str\",\"data analyst\")\n"
   ]
  },
  {
   "cell_type": "code",
   "execution_count": 19,
   "id": "91cbeb86-e1ec-4269-8bb6-cda9791e905c",
   "metadata": {},
   "outputs": [
    {
     "data": {
      "text/plain": [
       "(10, 20, 30, 40, 50, 60, 'pwskills', 'data str', 'data analyst')"
      ]
     },
     "execution_count": 19,
     "metadata": {},
     "output_type": "execute_result"
    }
   ],
   "source": [
    "a"
   ]
  },
  {
   "cell_type": "code",
   "execution_count": 20,
   "id": "140cfc0b-4543-4baa-b657-e9d42e4ed8ef",
   "metadata": {},
   "outputs": [
    {
     "name": "stdout",
     "output_type": "stream",
     "text": [
      "10\n",
      "20\n",
      "30\n",
      "40\n",
      "50\n",
      "60\n",
      "pwskills\n",
      "data str\n",
      "data analyst\n"
     ]
    }
   ],
   "source": [
    "## iterate in tuples....\n",
    "for i in a:\n",
    "    print(i)"
   ]
  },
  {
   "cell_type": "code",
   "execution_count": 21,
   "id": "384eeb25-83e7-4dcf-980d-4f6e9be5de25",
   "metadata": {},
   "outputs": [],
   "source": [
    "## if u want to find type of elements...\n"
   ]
  },
  {
   "cell_type": "code",
   "execution_count": 22,
   "id": "daaff5b7-f836-4ca0-9017-9e73887c8345",
   "metadata": {},
   "outputs": [
    {
     "name": "stdout",
     "output_type": "stream",
     "text": [
      "10 <class 'int'>\n",
      "20 <class 'int'>\n",
      "30 <class 'int'>\n",
      "40 <class 'int'>\n",
      "50 <class 'int'>\n",
      "60 <class 'int'>\n",
      "pwskills <class 'str'>\n",
      "data str <class 'str'>\n",
      "data analyst <class 'str'>\n"
     ]
    }
   ],
   "source": [
    "for i in a:\n",
    "    print(i,type(i))"
   ]
  },
  {
   "cell_type": "code",
   "execution_count": 23,
   "id": "b75fb7ae-3a66-4642-a078-2db6d2620121",
   "metadata": {},
   "outputs": [],
   "source": [
    "## if u want a put this type tuples inside one tuples..\n",
    "a = (10,20,30,40)\n",
    "b = (\"pw\",\"skills\",\"data\",\"str\")"
   ]
  },
  {
   "cell_type": "code",
   "execution_count": 24,
   "id": "6c355018-0e34-4946-bc6e-57a548712e30",
   "metadata": {},
   "outputs": [],
   "source": [
    "c = (a,b)"
   ]
  },
  {
   "cell_type": "code",
   "execution_count": 25,
   "id": "06292c58-419f-403c-b528-193220a6595f",
   "metadata": {},
   "outputs": [
    {
     "data": {
      "text/plain": [
       "((10, 20, 30, 40), ('pw', 'skills', 'data', 'str'))"
      ]
     },
     "execution_count": 25,
     "metadata": {},
     "output_type": "execute_result"
    }
   ],
   "source": [
    "c"
   ]
  },
  {
   "cell_type": "code",
   "execution_count": 26,
   "id": "f87dac7b-931d-4e04-9c58-7d9afa478793",
   "metadata": {},
   "outputs": [
    {
     "data": {
      "text/plain": [
       "tuple"
      ]
     },
     "execution_count": 26,
     "metadata": {},
     "output_type": "execute_result"
    }
   ],
   "source": [
    "type(c)"
   ]
  },
  {
   "cell_type": "code",
   "execution_count": null,
   "id": "6e78396b-7025-40ca-8499-cad89651e978",
   "metadata": {},
   "outputs": [],
   "source": []
  },
  {
   "cell_type": "code",
   "execution_count": 27,
   "id": "fb67900d-1944-4e86-a921-abeb18e73f29",
   "metadata": {},
   "outputs": [],
   "source": [
    "### membership operator in tuples...(( in // not in ))\n",
    "## IN operator \n",
    "## NOT IN operator\n",
    "\n",
    "a = (100, 2000,4000,\"pwskills\",\"data\")"
   ]
  },
  {
   "cell_type": "code",
   "execution_count": 28,
   "id": "76df9745-1d8a-4afd-96aa-150f6b253ce7",
   "metadata": {},
   "outputs": [
    {
     "data": {
      "text/plain": [
       "(100, 2000, 4000, 'pwskills', 'data')"
      ]
     },
     "execution_count": 28,
     "metadata": {},
     "output_type": "execute_result"
    }
   ],
   "source": [
    "a\n"
   ]
  },
  {
   "cell_type": "code",
   "execution_count": 30,
   "id": "10a141d3-9403-458c-84b8-0a77dde5b352",
   "metadata": {},
   "outputs": [
    {
     "data": {
      "text/plain": [
       "True"
      ]
     },
     "execution_count": 30,
     "metadata": {},
     "output_type": "execute_result"
    }
   ],
   "source": [
    "100 in a\n",
    "## if value are in tuple they give true another wise false...\n"
   ]
  },
  {
   "cell_type": "code",
   "execution_count": 32,
   "id": "8b04f9ef-a3a4-4d4c-add9-6d6487ff3e56",
   "metadata": {},
   "outputs": [
    {
     "data": {
      "text/plain": [
       "True"
      ]
     },
     "execution_count": 32,
     "metadata": {},
     "output_type": "execute_result"
    }
   ],
   "source": [
    "\"pwskills\" in a"
   ]
  },
  {
   "cell_type": "code",
   "execution_count": 33,
   "id": "ceaa5c8a-9b36-48f6-8efe-a3992c0b9202",
   "metadata": {},
   "outputs": [
    {
     "data": {
      "text/plain": [
       "True"
      ]
     },
     "execution_count": 33,
     "metadata": {},
     "output_type": "execute_result"
    }
   ],
   "source": [
    "\"data\" in a"
   ]
  },
  {
   "cell_type": "code",
   "execution_count": 34,
   "id": "0f1874fa-83b1-4b4a-b96c-1655a22c035f",
   "metadata": {},
   "outputs": [
    {
     "data": {
      "text/plain": [
       "False"
      ]
     },
     "execution_count": 34,
     "metadata": {},
     "output_type": "execute_result"
    }
   ],
   "source": [
    "## NOT IN \n",
    "100 not in a"
   ]
  },
  {
   "cell_type": "code",
   "execution_count": 35,
   "id": "b23d13e5-c205-4981-8e37-9e0b6e9d1696",
   "metadata": {},
   "outputs": [
    {
     "data": {
      "text/plain": [
       "True"
      ]
     },
     "execution_count": 35,
     "metadata": {},
     "output_type": "execute_result"
    }
   ],
   "source": [
    "\"course\" not in a"
   ]
  },
  {
   "cell_type": "code",
   "execution_count": 36,
   "id": "74d3deb9-9cd4-4227-bda8-af6c0b960b9b",
   "metadata": {},
   "outputs": [
    {
     "data": {
      "text/plain": [
       "False"
      ]
     },
     "execution_count": 36,
     "metadata": {},
     "output_type": "execute_result"
    }
   ],
   "source": [
    "\"pwskills\" not in a"
   ]
  },
  {
   "cell_type": "code",
   "execution_count": null,
   "id": "f5ac633c-11e8-48a7-b2b1-b21a5d349fe0",
   "metadata": {},
   "outputs": [],
   "source": []
  },
  {
   "cell_type": "code",
   "execution_count": 37,
   "id": "5feb033d-9c48-44eb-a94d-d7981a59cf04",
   "metadata": {},
   "outputs": [],
   "source": [
    "## if u want to combine a tuples..\n",
    "## syntax of combine (+)\n"
   ]
  },
  {
   "cell_type": "code",
   "execution_count": 38,
   "id": "86714bab-e699-4a2f-97a3-91a927a67eb7",
   "metadata": {},
   "outputs": [],
   "source": [
    "a = (100,200,300,400)\n",
    "b = (\"ab\",\"ac\",\"ad\",\"ae\")"
   ]
  },
  {
   "cell_type": "code",
   "execution_count": 39,
   "id": "cf63e92e-5fa8-4ee8-b944-beb4172d8c33",
   "metadata": {},
   "outputs": [
    {
     "data": {
      "text/plain": [
       "(100, 200, 300, 400, 'ab', 'ac', 'ad', 'ae')"
      ]
     },
     "execution_count": 39,
     "metadata": {},
     "output_type": "execute_result"
    }
   ],
   "source": [
    "a+b"
   ]
  },
  {
   "cell_type": "code",
   "execution_count": 41,
   "id": "b421085f-fd7b-426b-a5c8-680bba42ab00",
   "metadata": {},
   "outputs": [],
   "source": [
    "grocery_list = (\"milk\",\"bread\",\"brwon bread\",\"chips\")\n",
    "grocery_list1 = (\"milk bread\",\"sugar\",\"rice\")\n",
    "## combine a grocery list.."
   ]
  },
  {
   "cell_type": "code",
   "execution_count": 42,
   "id": "9430d76e-8e6d-455f-967d-36893fddd526",
   "metadata": {},
   "outputs": [],
   "source": [
    "list1 = grocery_list+grocery_list1"
   ]
  },
  {
   "cell_type": "code",
   "execution_count": 43,
   "id": "6f5c2a08-82b1-450a-8884-b6362bda066c",
   "metadata": {},
   "outputs": [
    {
     "data": {
      "text/plain": [
       "('milk', 'bread', 'brwon bread', 'chips', 'milk bread', 'sugar', 'rice')"
      ]
     },
     "execution_count": 43,
     "metadata": {},
     "output_type": "execute_result"
    }
   ],
   "source": [
    "list1"
   ]
  },
  {
   "cell_type": "code",
   "execution_count": null,
   "id": "c3972360-4832-4f88-a306-d6d6c5cc21ae",
   "metadata": {},
   "outputs": [],
   "source": []
  },
  {
   "cell_type": "raw",
   "id": "496eac86-e5ca-4804-b8af-91835c23b3df",
   "metadata": {},
   "source": [
    "That's all about understanding of  tuples... "
   ]
  },
  {
   "cell_type": "markdown",
   "id": "49e6217c-e235-43fb-a267-7915b3096c86",
   "metadata": {},
   "source": []
  },
  {
   "cell_type": "markdown",
   "id": "533d6de7-b2c2-456f-b50d-b11a849c35e5",
   "metadata": {},
   "source": [
    "### Question(7) Describe how to add , modify and delete items in a dictionary with examples.?"
   ]
  },
  {
   "cell_type": "markdown",
   "id": "de05a987-201a-4c8c-9470-fa26fd0449fd",
   "metadata": {},
   "source": [
    "#### Ans= Dictionary is a dta structure that stores data as key value pair. keys are unique and immutable.\n",
    "    Dictionary are unordered but from recent python 3.7 version ,dictionaries retain the order of insertion.\n",
    "    This means that if you iterate over a dictionary the item will be returned in the order they were added.\n"
   ]
  },
  {
   "cell_type": "markdown",
   "id": "4f05bd69-5571-4e83-9c79-92c369404d2c",
   "metadata": {},
   "source": [
    "#### Dictionary built-in function==\n",
    "    del ## delete whole dictionary..\n",
    "    .clear() ## if you want a clear all key:value pairs..\n",
    "    len() ## usage of find a length of dictionary..\n",
    "    .key() ## if you want to access a value...\n",
    "    .copy() ## if you want a copy all key value pairs...\n",
    "    .pop() ## if you want to delete a specififc value...\n",
    "    .update() ## if you want to update new dictionary to old dictionary...\n",
    "    .get() ## add new function to check value of dictionary....\n",
    "    .fromkeys() ## create a new dictionary with key from iterable and values set to value..\n",
    "## syntax of dictionary {}"
   ]
  },
  {
   "cell_type": "code",
   "execution_count": 2,
   "id": "49fe9ad4-8204-4b6f-ad92-55bd4d7b7ec4",
   "metadata": {},
   "outputs": [
    {
     "data": {
      "text/plain": [
       "dict"
      ]
     },
     "execution_count": 2,
     "metadata": {},
     "output_type": "execute_result"
    }
   ],
   "source": [
    "d = {}\n",
    "type(d) "
   ]
  },
  {
   "cell_type": "code",
   "execution_count": 4,
   "id": "3fea58c9-843d-4cef-a3c6-e42669f94181",
   "metadata": {},
   "outputs": [],
   "source": [
    "d = {\"name\":\"abhishek\",\"email\":\"ab123@gmail.com\",\"contact\":12345}"
   ]
  },
  {
   "cell_type": "code",
   "execution_count": 7,
   "id": "0b812504-d12a-445c-9bf2-061c62975b57",
   "metadata": {},
   "outputs": [
    {
     "data": {
      "text/plain": [
       "'abhishek'"
      ]
     },
     "execution_count": 7,
     "metadata": {},
     "output_type": "execute_result"
    }
   ],
   "source": [
    "d[\"name\"]\n",
    "## if u want to access a index same at is list postive way to right to left negative to left to right..d[\n"
   ]
  },
  {
   "cell_type": "code",
   "execution_count": 15,
   "id": "a95813c9-accb-4d46-8f71-715b9f870318",
   "metadata": {},
   "outputs": [
    {
     "data": {
      "text/plain": [
       "11000002212"
      ]
     },
     "execution_count": 15,
     "metadata": {},
     "output_type": "execute_result"
    }
   ],
   "source": [
    "d[\"contact\"]\n",
    "## you can access only value using key,... vicee-versa not possible.."
   ]
  },
  {
   "cell_type": "code",
   "execution_count": 17,
   "id": "bbcf378f-386a-400e-8b3f-5b36ab533a21",
   "metadata": {},
   "outputs": [
    {
     "ename": "KeyError",
     "evalue": "1",
     "output_type": "error",
     "traceback": [
      "\u001b[0;31m---------------------------------------------------------------------------\u001b[0m",
      "\u001b[0;31mKeyError\u001b[0m                                  Traceback (most recent call last)",
      "Cell \u001b[0;32mIn[17], line 1\u001b[0m\n\u001b[0;32m----> 1\u001b[0m \u001b[43md\u001b[49m\u001b[43m[\u001b[49m\u001b[38;5;241;43m1\u001b[39;49m\u001b[43m]\u001b[49m\n\u001b[1;32m      2\u001b[0m \u001b[38;5;66;03m## if u want a access by value getting a error...\u001b[39;00m\n",
      "\u001b[0;31mKeyError\u001b[0m: 1"
     ]
    }
   ],
   "source": [
    "d[1]\n",
    "## if u want a access by value getting a error..."
   ]
  },
  {
   "cell_type": "code",
   "execution_count": null,
   "id": "0c46cd34-687b-4a6d-bc0f-b54a0170fd79",
   "metadata": {},
   "outputs": [],
   "source": []
  },
  {
   "cell_type": "code",
   "execution_count": null,
   "id": "bc45faa7-95d6-4836-9017-71ad018c1bdc",
   "metadata": {},
   "outputs": [],
   "source": []
  },
  {
   "cell_type": "code",
   "execution_count": 11,
   "id": "459f512d-70b3-40fb-bb75-043041a72f2c",
   "metadata": {},
   "outputs": [],
   "source": [
    "d[\"name\"]= \"pwskills\"\n",
    "## this is modify a value of dictionary...\n"
   ]
  },
  {
   "cell_type": "code",
   "execution_count": 12,
   "id": "0b1b43ff-7850-4461-898b-42fda2f52913",
   "metadata": {},
   "outputs": [
    {
     "data": {
      "text/plain": [
       "{'name': 'pwskills', 'email': 'ab123@gmail.com', 'contact': 12345}"
      ]
     },
     "execution_count": 12,
     "metadata": {},
     "output_type": "execute_result"
    }
   ],
   "source": [
    "d\n"
   ]
  },
  {
   "cell_type": "code",
   "execution_count": 13,
   "id": "b9c5ad3c-93d2-4eb7-b812-0e41acfb946d",
   "metadata": {},
   "outputs": [],
   "source": [
    "d[\"contact\"]=11000002212"
   ]
  },
  {
   "cell_type": "code",
   "execution_count": 14,
   "id": "e5a4c021-3f69-4e33-a894-292eaccef7c9",
   "metadata": {},
   "outputs": [
    {
     "data": {
      "text/plain": [
       "{'name': 'pwskills', 'email': 'ab123@gmail.com', 'contact': 11000002212}"
      ]
     },
     "execution_count": 14,
     "metadata": {},
     "output_type": "execute_result"
    }
   ],
   "source": [
    "d"
   ]
  },
  {
   "cell_type": "markdown",
   "id": "865c5202-311a-4661-91ea-02bf2cee7c88",
   "metadata": {},
   "source": [
    "### Dictionary of rules\n",
    "    d= {1:\"abc\"}  ## integer as key..\n",
    "    d = {1.25:\"abc\"}  ## float as a key..\n",
    "    d = {True:\"abc\"} ## boolean value as a key..\n",
    "    d ={@:\"abc\"} ## but any special character are not as a key.."
   ]
  },
  {
   "cell_type": "code",
   "execution_count": 21,
   "id": "579e071b-071f-4948-9d94-ff3c204228cc",
   "metadata": {},
   "outputs": [],
   "source": [
    "## integer value as key\n",
    "d = {1:\"abc\"}"
   ]
  },
  {
   "cell_type": "code",
   "execution_count": 22,
   "id": "e9e35a93-ad31-4ae4-a7b1-4793d14bb1a4",
   "metadata": {},
   "outputs": [
    {
     "data": {
      "text/plain": [
       "{1: 'abc'}"
      ]
     },
     "execution_count": 22,
     "metadata": {},
     "output_type": "execute_result"
    }
   ],
   "source": [
    "d"
   ]
  },
  {
   "cell_type": "code",
   "execution_count": 23,
   "id": "2186416e-2951-4718-a11b-f4dc679994d7",
   "metadata": {},
   "outputs": [],
   "source": [
    "## boolean value as key\n",
    "d= {1.5:\"abc\"}"
   ]
  },
  {
   "cell_type": "code",
   "execution_count": 24,
   "id": "c6afcec0-5df7-4829-af4c-001d6a638b8b",
   "metadata": {},
   "outputs": [
    {
     "data": {
      "text/plain": [
       "{1.5: 'abc'}"
      ]
     },
     "execution_count": 24,
     "metadata": {},
     "output_type": "execute_result"
    }
   ],
   "source": [
    "d"
   ]
  },
  {
   "cell_type": "code",
   "execution_count": 25,
   "id": "b4bb0ff2-ff27-47d0-9696-fd124ea9d65d",
   "metadata": {},
   "outputs": [],
   "source": [
    "## float value as key\n",
    "d={True:\"abc\"}"
   ]
  },
  {
   "cell_type": "code",
   "execution_count": 26,
   "id": "bb99acef-dc7f-4fc0-a817-95e40f159d93",
   "metadata": {},
   "outputs": [
    {
     "data": {
      "text/plain": [
       "{True: 'abc'}"
      ]
     },
     "execution_count": 26,
     "metadata": {},
     "output_type": "execute_result"
    }
   ],
   "source": [
    "d"
   ]
  },
  {
   "cell_type": "code",
   "execution_count": 28,
   "id": "b12239bd-0092-409a-b781-986cc49e2fd9",
   "metadata": {},
   "outputs": [
    {
     "ename": "SyntaxError",
     "evalue": "invalid syntax (3424747513.py, line 2)",
     "output_type": "error",
     "traceback": [
      "\u001b[0;36m  Cell \u001b[0;32mIn[28], line 2\u001b[0;36m\u001b[0m\n\u001b[0;31m    d={@:\"abc\"}\u001b[0m\n\u001b[0m       ^\u001b[0m\n\u001b[0;31mSyntaxError\u001b[0m\u001b[0;31m:\u001b[0m invalid syntax\n"
     ]
    }
   ],
   "source": [
    "## special character are not getting as a key that's wy getting error.\n",
    "d={@:\"abc\"}"
   ]
  },
  {
   "cell_type": "code",
   "execution_count": null,
   "id": "f5ada485-9f68-4e06-8747-2328d47a6f13",
   "metadata": {},
   "outputs": [],
   "source": []
  },
  {
   "cell_type": "code",
   "execution_count": 31,
   "id": "ff5b7b42-b53a-4687-b1af-701ccfe98f67",
   "metadata": {},
   "outputs": [
    {
     "ename": "TypeError",
     "evalue": "unhashable type: 'list'",
     "output_type": "error",
     "traceback": [
      "\u001b[0;31m---------------------------------------------------------------------------\u001b[0m",
      "\u001b[0;31mTypeError\u001b[0m                                 Traceback (most recent call last)",
      "Cell \u001b[0;32mIn[31], line 2\u001b[0m\n\u001b[1;32m      1\u001b[0m \u001b[38;5;66;03m## if a list as a key:::: this error because list are not as a key..\u001b[39;00m\n\u001b[0;32m----> 2\u001b[0m d \u001b[38;5;241m=\u001b[39m{[\u001b[38;5;241m1\u001b[39m,\u001b[38;5;241m2\u001b[39m,\u001b[38;5;241m3\u001b[39m]:\u001b[38;5;124m\"\u001b[39m\u001b[38;5;124mabc\u001b[39m\u001b[38;5;124m\"\u001b[39m}\n",
      "\u001b[0;31mTypeError\u001b[0m: unhashable type: 'list'"
     ]
    }
   ],
   "source": [
    "## if a list as a key:::: this error because list are not as a key..\n",
    "d ={[1,2,3]:\"abc\"}\n"
   ]
  },
  {
   "cell_type": "code",
   "execution_count": 33,
   "id": "b96cb2fb-3b0d-448a-b56c-e63bb80ba814",
   "metadata": {},
   "outputs": [
    {
     "ename": "TypeError",
     "evalue": "unhashable type: 'set'",
     "output_type": "error",
     "traceback": [
      "\u001b[0;31m---------------------------------------------------------------------------\u001b[0m",
      "\u001b[0;31mTypeError\u001b[0m                                 Traceback (most recent call last)",
      "Cell \u001b[0;32mIn[33], line 2\u001b[0m\n\u001b[1;32m      1\u001b[0m \u001b[38;5;66;03m## if set as a key :::: this error because sets are not as a key..\u001b[39;00m\n\u001b[0;32m----> 2\u001b[0m d\u001b[38;5;241m=\u001b[39m{{\u001b[38;5;241m1\u001b[39m,\u001b[38;5;241m2\u001b[39m,\u001b[38;5;241m3\u001b[39m}:\u001b[38;5;124m\"\u001b[39m\u001b[38;5;124mabc\u001b[39m\u001b[38;5;124m\"\u001b[39m}\n",
      "\u001b[0;31mTypeError\u001b[0m: unhashable type: 'set'"
     ]
    }
   ],
   "source": [
    "## if set as a key :::: this error because sets are not as a key..\n",
    "d={{1,2,3}:\"abc\"}"
   ]
  },
  {
   "cell_type": "code",
   "execution_count": 37,
   "id": "3c3c9aed-cfc3-4033-9ea3-8d58ce4742e0",
   "metadata": {},
   "outputs": [],
   "source": [
    "## if a tuple as a key ::: yes tuple as a keys... \n",
    "d = {(1,2,3):\"abc\"}"
   ]
  },
  {
   "cell_type": "code",
   "execution_count": 38,
   "id": "4434bae9-b9e9-4bfa-a6b0-4fba18f75a46",
   "metadata": {},
   "outputs": [
    {
     "data": {
      "text/plain": [
       "{(1, 2, 3): 'abc'}"
      ]
     },
     "execution_count": 38,
     "metadata": {},
     "output_type": "execute_result"
    }
   ],
   "source": [
    "d"
   ]
  },
  {
   "cell_type": "code",
   "execution_count": 39,
   "id": "73648dfe-6bd4-45ae-bcaa-ad0cdf8bf53e",
   "metadata": {},
   "outputs": [],
   "source": [
    "### only string and numbers can be used as a key of the dictionary.... "
   ]
  },
  {
   "cell_type": "code",
   "execution_count": null,
   "id": "c6fbd133-fcba-4fee-819c-e1028a96f878",
   "metadata": {},
   "outputs": [],
   "source": []
  },
  {
   "cell_type": "code",
   "execution_count": 45,
   "id": "9150e1b6-605d-4bbd-b572-93b4cabdbf6d",
   "metadata": {},
   "outputs": [],
   "source": [
    "## how to access a specific values in the dictionary.....\n",
    "d = {\"name\":[\"abhishek\",\"mohsin\",\"sanjeev\"],\"email\":\"ab123@gmail.com\",\"contact\":123456}"
   ]
  },
  {
   "cell_type": "code",
   "execution_count": 46,
   "id": "2a058375-1d1f-4619-aada-e3951765d2f7",
   "metadata": {},
   "outputs": [
    {
     "data": {
      "text/plain": [
       "{'name': ['abhishek', 'mohsin', 'sanjeev'],\n",
       " 'email': 'ab123@gmail.com',\n",
       " 'contact': 123456}"
      ]
     },
     "execution_count": 46,
     "metadata": {},
     "output_type": "execute_result"
    }
   ],
   "source": [
    "d"
   ]
  },
  {
   "cell_type": "code",
   "execution_count": 49,
   "id": "90a1e5b0-1c01-486a-8e44-421d11eb7186",
   "metadata": {},
   "outputs": [
    {
     "data": {
      "text/plain": [
       "'mohsin'"
      ]
     },
     "execution_count": 49,
     "metadata": {},
     "output_type": "execute_result"
    }
   ],
   "source": [
    "d[\"name\"][1]\n",
    "## if want to access a specific index in value.."
   ]
  },
  {
   "cell_type": "code",
   "execution_count": 50,
   "id": "b45d2848-1b82-49f2-bcbf-4b3c5a214c52",
   "metadata": {},
   "outputs": [
    {
     "data": {
      "text/plain": [
       "'sanjeev'"
      ]
     },
     "execution_count": 50,
     "metadata": {},
     "output_type": "execute_result"
    }
   ],
   "source": [
    "d[\"name\"][2]"
   ]
  },
  {
   "cell_type": "code",
   "execution_count": null,
   "id": "7b18a14b-30d7-4784-b622-de9a22ff6fe3",
   "metadata": {},
   "outputs": [],
   "source": []
  },
  {
   "cell_type": "code",
   "execution_count": 51,
   "id": "bf6a9ff5-17fb-4fa4-84a3-6db4166ce863",
   "metadata": {},
   "outputs": [
    {
     "data": {
      "text/plain": [
       "{'name': ['abhishek', 'mohsin', 'sanjeev'],\n",
       " 'email': 'ab123@gmail.com',\n",
       " 'contact': 123456}"
      ]
     },
     "execution_count": 51,
     "metadata": {},
     "output_type": "execute_result"
    }
   ],
   "source": [
    "## if i want to add a some new  keyu and value...\n",
    "d"
   ]
  },
  {
   "cell_type": "code",
   "execution_count": 54,
   "id": "ea7f0529-3e27-4906-a3e8-086187ff0170",
   "metadata": {},
   "outputs": [],
   "source": [
    "d[\"address\"] =\"lucknow gomti nagar\"\n",
    "## add a new index in key value pair in dictionary...."
   ]
  },
  {
   "cell_type": "code",
   "execution_count": 55,
   "id": "9b4d8a21-9e22-4177-a0b3-3923adea777a",
   "metadata": {},
   "outputs": [
    {
     "data": {
      "text/plain": [
       "{'name': ['abhishek', 'mohsin', 'sanjeev'],\n",
       " 'email': 'ab123@gmail.com',\n",
       " 'contact': 123456,\n",
       " 'address': 'lucknow gomti nagar'}"
      ]
     },
     "execution_count": 55,
     "metadata": {},
     "output_type": "execute_result"
    }
   ],
   "source": [
    "d"
   ]
  },
  {
   "cell_type": "code",
   "execution_count": null,
   "id": "9bb9da53-31bc-4803-b00d-c0acc2f01eb2",
   "metadata": {},
   "outputs": [],
   "source": []
  },
  {
   "cell_type": "code",
   "execution_count": 56,
   "id": "5db489de-26c6-4f02-9ffe-79f53c2845ba",
   "metadata": {},
   "outputs": [
    {
     "data": {
      "text/plain": [
       "{'name': ['abhishek', 'mohsin', 'sanjeev'],\n",
       " 'email': 'ab123@gmail.com',\n",
       " 'contact': 123456,\n",
       " 'address': 'lucknow gomti nagar'}"
      ]
     },
     "execution_count": 56,
     "metadata": {},
     "output_type": "execute_result"
    }
   ],
   "source": [
    "## if u want find a len of dictionary...\n",
    "d"
   ]
  },
  {
   "cell_type": "code",
   "execution_count": 58,
   "id": "9e742a0f-c172-4d13-b69b-bbc678f26c01",
   "metadata": {},
   "outputs": [
    {
     "data": {
      "text/plain": [
       "4"
      ]
     },
     "execution_count": 58,
     "metadata": {},
     "output_type": "execute_result"
    }
   ],
   "source": [
    "len(d)\n",
    "### built-in function of dictionary find a length.."
   ]
  },
  {
   "cell_type": "code",
   "execution_count": 60,
   "id": "3484282e-d6be-404b-94b2-8d9e808929ee",
   "metadata": {},
   "outputs": [
    {
     "data": {
      "text/plain": [
       "dict_keys(['name', 'email', 'contact', 'address'])"
      ]
     },
     "execution_count": 60,
     "metadata": {},
     "output_type": "execute_result"
    }
   ],
   "source": [
    "## if u want to access all key in elements..\n",
    "d.keys()"
   ]
  },
  {
   "cell_type": "code",
   "execution_count": 62,
   "id": "a151d871-c438-4a1b-9748-5493cfc64d28",
   "metadata": {},
   "outputs": [
    {
     "data": {
      "text/plain": [
       "dict_values([['abhishek', 'mohsin', 'sanjeev'], 'ab123@gmail.com', 123456, 'lucknow gomti nagar'])"
      ]
     },
     "execution_count": 62,
     "metadata": {},
     "output_type": "execute_result"
    }
   ],
   "source": [
    "## if want to access all value in dictionary....\n",
    "d.values()"
   ]
  },
  {
   "cell_type": "code",
   "execution_count": 63,
   "id": "8e22c429-202e-4e55-939a-4c45ef256f3e",
   "metadata": {},
   "outputs": [],
   "source": [
    "## if i want to copy a data in another elements..\n",
    "d1 =d.copy()"
   ]
  },
  {
   "cell_type": "code",
   "execution_count": 64,
   "id": "c6491efd-26d8-45a0-b9a5-c6cec826b61c",
   "metadata": {},
   "outputs": [
    {
     "data": {
      "text/plain": [
       "{'name': ['abhishek', 'mohsin', 'sanjeev'],\n",
       " 'email': 'ab123@gmail.com',\n",
       " 'contact': 123456,\n",
       " 'address': 'lucknow gomti nagar'}"
      ]
     },
     "execution_count": 64,
     "metadata": {},
     "output_type": "execute_result"
    }
   ],
   "source": [
    "d"
   ]
  },
  {
   "cell_type": "code",
   "execution_count": 66,
   "id": "6579db74-bee4-4780-ae0b-396509337b46",
   "metadata": {},
   "outputs": [
    {
     "data": {
      "text/plain": [
       "{'name': ['abhishek', 'mohsin', 'sanjeev'],\n",
       " 'email': 'ab123@gmail.com',\n",
       " 'contact': 123456,\n",
       " 'address': 'lucknow gomti nagar'}"
      ]
     },
     "execution_count": 66,
     "metadata": {},
     "output_type": "execute_result"
    }
   ],
   "source": [
    "d1\n",
    "## this is built-funtion of dictionary....."
   ]
  },
  {
   "cell_type": "code",
   "execution_count": null,
   "id": "0703be62-d3cd-4431-a421-b95ddab42a62",
   "metadata": {},
   "outputs": [],
   "source": []
  },
  {
   "cell_type": "code",
   "execution_count": 67,
   "id": "e62f2839-13ee-4948-a53a-7938c5969c7b",
   "metadata": {},
   "outputs": [],
   "source": [
    "## if u want to clear a all key value pair....\n",
    "d.clear()"
   ]
  },
  {
   "cell_type": "code",
   "execution_count": 69,
   "id": "eb3f08be-7403-403b-b950-7348c1403a13",
   "metadata": {},
   "outputs": [
    {
     "data": {
      "text/plain": [
       "{}"
      ]
     },
     "execution_count": 69,
     "metadata": {},
     "output_type": "execute_result"
    }
   ],
   "source": [
    "d\n",
    "### showing empty dict because clear all key value pair..."
   ]
  },
  {
   "cell_type": "code",
   "execution_count": 71,
   "id": "65051e31-859f-45a3-b36b-e7d65f6850ed",
   "metadata": {},
   "outputs": [],
   "source": [
    "## if u want to delete a  whole dictionary...\n",
    "del d"
   ]
  },
  {
   "cell_type": "code",
   "execution_count": 73,
   "id": "c020697d-3ff8-4c84-ac49-9d5219fb3f35",
   "metadata": {},
   "outputs": [
    {
     "ename": "NameError",
     "evalue": "name 'd' is not defined",
     "output_type": "error",
     "traceback": [
      "\u001b[0;31m---------------------------------------------------------------------------\u001b[0m",
      "\u001b[0;31mNameError\u001b[0m                                 Traceback (most recent call last)",
      "Cell \u001b[0;32mIn[73], line 1\u001b[0m\n\u001b[0;32m----> 1\u001b[0m \u001b[43md\u001b[49m\n\u001b[1;32m      2\u001b[0m \u001b[38;5;66;03m## delete whole dict thats why show not defind d....\u001b[39;00m\n",
      "\u001b[0;31mNameError\u001b[0m: name 'd' is not defined"
     ]
    }
   ],
   "source": [
    "d\n",
    "## delete whole dict thats why show not defind d...."
   ]
  },
  {
   "cell_type": "code",
   "execution_count": null,
   "id": "4ab3e8a6-b0e8-4661-852f-470a8b74a997",
   "metadata": {},
   "outputs": [],
   "source": []
  },
  {
   "cell_type": "code",
   "execution_count": 74,
   "id": "ed67d223-1a29-44c7-a7b4-02f703784742",
   "metadata": {},
   "outputs": [
    {
     "data": {
      "text/plain": [
       "{'name': ['abhishek', 'mohsin', 'sanjeev'],\n",
       " 'email': 'ab123@gmail.com',\n",
       " 'contact': 123456,\n",
       " 'address': 'lucknow gomti nagar'}"
      ]
     },
     "execution_count": 74,
     "metadata": {},
     "output_type": "execute_result"
    }
   ],
   "source": [
    "## if u want to delete specific character in dictionary...\n",
    "d1"
   ]
  },
  {
   "cell_type": "code",
   "execution_count": 76,
   "id": "6f04737a-7f07-4497-bd5c-8e13cd5d29dc",
   "metadata": {},
   "outputs": [
    {
     "data": {
      "text/plain": [
       "123456"
      ]
     },
     "execution_count": 76,
     "metadata": {},
     "output_type": "execute_result"
    }
   ],
   "source": [
    "d1.pop(\"contact\")"
   ]
  },
  {
   "cell_type": "code",
   "execution_count": 78,
   "id": "1677274b-5703-4ce6-80e7-137dd6efb727",
   "metadata": {},
   "outputs": [
    {
     "data": {
      "text/plain": [
       "{'name': ['abhishek', 'mohsin', 'sanjeev'],\n",
       " 'email': 'ab123@gmail.com',\n",
       " 'address': 'lucknow gomti nagar'}"
      ]
     },
     "execution_count": 78,
     "metadata": {},
     "output_type": "execute_result"
    }
   ],
   "source": [
    "d1\n",
    "## dlete a specific key value pair...."
   ]
  },
  {
   "cell_type": "code",
   "execution_count": null,
   "id": "e1dd7f33-387d-41be-b234-579827ab2af3",
   "metadata": {},
   "outputs": [],
   "source": []
  },
  {
   "cell_type": "code",
   "execution_count": 88,
   "id": "73621589-59a5-4ba6-bb74-23c2ceb1383e",
   "metadata": {},
   "outputs": [],
   "source": [
    "## if u want to update a some key value pair in elements....\n",
    "d = {\"name\":\"abhishek\",\"email\":\"ab@gmail.com\",\"address\":\"lucnow\"}"
   ]
  },
  {
   "cell_type": "code",
   "execution_count": 89,
   "id": "6ae60a1a-d9b3-414c-b858-bbb52b36f765",
   "metadata": {},
   "outputs": [
    {
     "data": {
      "text/plain": [
       "{'name': 'abhishek', 'email': 'ab@gmail.com', 'address': 'lucnow'}"
      ]
     },
     "execution_count": 89,
     "metadata": {},
     "output_type": "execute_result"
    }
   ],
   "source": [
    "d"
   ]
  },
  {
   "cell_type": "code",
   "execution_count": 90,
   "id": "0df5fd4f-457e-4b2f-93e4-5826405de633",
   "metadata": {},
   "outputs": [],
   "source": [
    "d1={\"contact\":123456}"
   ]
  },
  {
   "cell_type": "code",
   "execution_count": 93,
   "id": "bc644c70-7f88-4a54-a2fa-0caf733967e8",
   "metadata": {},
   "outputs": [],
   "source": [
    "d.update(d1)\n",
    "## if u want to update new dictionary to old dictionary................."
   ]
  },
  {
   "cell_type": "code",
   "execution_count": 94,
   "id": "59b4b055-9d60-436b-a741-ae322cb87ecd",
   "metadata": {},
   "outputs": [
    {
     "data": {
      "text/plain": [
       "{'name': 'abhishek',\n",
       " 'email': 'ab@gmail.com',\n",
       " 'address': 'lucnow',\n",
       " 'contact': 123456}"
      ]
     },
     "execution_count": 94,
     "metadata": {},
     "output_type": "execute_result"
    }
   ],
   "source": [
    "d"
   ]
  },
  {
   "cell_type": "code",
   "execution_count": null,
   "id": "1202ebc0-6290-40b1-84db-611cca1651e1",
   "metadata": {},
   "outputs": [],
   "source": []
  },
  {
   "cell_type": "code",
   "execution_count": 95,
   "id": "bebaad0e-2114-4729-a516-5a193da1ee30",
   "metadata": {},
   "outputs": [],
   "source": [
    "## if u add new function to check value of dictionary....get()"
   ]
  },
  {
   "cell_type": "code",
   "execution_count": 96,
   "id": "34839860-c5bd-43bc-9ebe-5a78b16bb5d0",
   "metadata": {},
   "outputs": [],
   "source": [
    "d = {\"name\":[\"abhishek\",\"mohsin\",\"sanjeev\"],\"email\":\"ab123@gmail.com\",\"contact\":123456}"
   ]
  },
  {
   "cell_type": "code",
   "execution_count": 97,
   "id": "9a550214-faf3-4c8a-9903-da56b9dab843",
   "metadata": {},
   "outputs": [
    {
     "data": {
      "text/plain": [
       "{'name': ['abhishek', 'mohsin', 'sanjeev'],\n",
       " 'email': 'ab123@gmail.com',\n",
       " 'contact': 123456}"
      ]
     },
     "execution_count": 97,
     "metadata": {},
     "output_type": "execute_result"
    }
   ],
   "source": [
    "d"
   ]
  },
  {
   "cell_type": "code",
   "execution_count": 101,
   "id": "c4913d55-7f45-4cd3-a55b-8e198b2a844a",
   "metadata": {},
   "outputs": [
    {
     "data": {
      "text/plain": [
       "['abhishek', 'mohsin', 'sanjeev']"
      ]
     },
     "execution_count": 101,
     "metadata": {},
     "output_type": "execute_result"
    }
   ],
   "source": [
    "d.get(\"name\")\n",
    "## access a specific index in a dictionary..."
   ]
  },
  {
   "cell_type": "code",
   "execution_count": null,
   "id": "e21db918-65e6-4e03-ae57-2858a6de29a5",
   "metadata": {},
   "outputs": [],
   "source": []
  },
  {
   "cell_type": "code",
   "execution_count": 103,
   "id": "1cc485d9-5ebe-4450-85d4-ba4e1aea4670",
   "metadata": {},
   "outputs": [
    {
     "data": {
      "text/plain": [
       "{1: ('a', 'b', 'c'), 2: ('a', 'b', 'c'), 3: ('a', 'b', 'c')}"
      ]
     },
     "execution_count": 103,
     "metadata": {},
     "output_type": "execute_result"
    }
   ],
   "source": [
    "## fromkeys()  >> create a new dictionary with key from iterable and values set value..\n",
    "d.fromkeys((1,2,3),(\"a\",\"b\",\"c\"))"
   ]
  },
  {
   "cell_type": "code",
   "execution_count": null,
   "id": "ee3e5648-d208-47b7-8755-d5346ee05568",
   "metadata": {},
   "outputs": [],
   "source": []
  },
  {
   "cell_type": "markdown",
   "id": "3486d9af-5ca1-4a03-ba33-c1c1652892b8",
   "metadata": {},
   "source": [
    "### Dictionary comprehension \n",
    "### zip function\n"
   ]
  },
  {
   "cell_type": "code",
   "execution_count": 105,
   "id": "9292cf18-0e89-4e59-a049-0e76a0fe1270",
   "metadata": {},
   "outputs": [],
   "source": [
    "## Zip function a widely use in this function in coding of python...."
   ]
  },
  {
   "cell_type": "code",
   "execution_count": 118,
   "id": "c7a25202-a63c-4c64-b463-60aabcdf7897",
   "metadata": {},
   "outputs": [],
   "source": [
    "student = [\"abhishek\",\"moshin\",\"sanjeev\"]\n",
    "marks = [85 , 95 , 105]"
   ]
  },
  {
   "cell_type": "code",
   "execution_count": 119,
   "id": "e3b7825b-d04b-4d18-992c-2557500a9b58",
   "metadata": {},
   "outputs": [
    {
     "name": "stdout",
     "output_type": "stream",
     "text": [
      "('abhishek', 85)\n",
      "('moshin', 95)\n",
      "('sanjeev', 105)\n"
     ]
    }
   ],
   "source": [
    "for i in zip(student , marks):\n",
    "    print(i)"
   ]
  },
  {
   "cell_type": "code",
   "execution_count": null,
   "id": "1c01e66e-2404-4e89-a2b7-d0faf1850617",
   "metadata": {},
   "outputs": [],
   "source": []
  },
  {
   "cell_type": "code",
   "execution_count": 121,
   "id": "053136a2-9ceb-4c6a-bd7f-48490d33193a",
   "metadata": {},
   "outputs": [],
   "source": [
    "## one more example of zip function\n",
    "student = [\"arun\",\"ajay\",\"vijay\"]\n",
    "marks = [80,85,95]\n",
    "student_marks ={}\n",
    "\n",
    "\n",
    "         "
   ]
  },
  {
   "cell_type": "code",
   "execution_count": 122,
   "id": "da1de23f-0614-4adb-98d8-e2826d83c162",
   "metadata": {},
   "outputs": [],
   "source": [
    "for student,marks  in zip(student , marks):\n",
    "    student_marks[student]=marks"
   ]
  },
  {
   "cell_type": "code",
   "execution_count": 123,
   "id": "f00425b9-e2d0-4f3d-85cd-374922ee6ff3",
   "metadata": {},
   "outputs": [
    {
     "data": {
      "text/plain": [
       "{'arun': 80, 'ajay': 85, 'vijay': 95}"
      ]
     },
     "execution_count": 123,
     "metadata": {},
     "output_type": "execute_result"
    }
   ],
   "source": [
    "student_marks"
   ]
  },
  {
   "cell_type": "code",
   "execution_count": null,
   "id": "c0536e91-0793-4ba3-b692-cd1f45fdd6c2",
   "metadata": {},
   "outputs": [],
   "source": []
  },
  {
   "cell_type": "markdown",
   "id": "3df0efda-fbe1-4e11-8b2c-adff9429b479",
   "metadata": {},
   "source": [
    "### That's all about understanding of dictionary...."
   ]
  },
  {
   "cell_type": "code",
   "execution_count": null,
   "id": "6885371f-80d9-4d16-baff-cd48dd2c93c1",
   "metadata": {},
   "outputs": [],
   "source": []
  },
  {
   "cell_type": "markdown",
   "id": "c9a6d10c-8f16-4d7b-92ec-711729a5ab84",
   "metadata": {},
   "source": [
    "### Question(8) Discuss the importance of dictionary keys being immutable and provide examples..? "
   ]
  },
  {
   "cell_type": "markdown",
   "id": "79fff2f7-e236-4e80-b6ef-9c03d3420515",
   "metadata": {},
   "source": [
    "#### Ans = Dictionary is a data structure that stores data as key value pair and keys are unique and immutable...\n",
    "    Importance of dictionary keys..\n",
    "    integer as a keys.\n",
    "    boolean as a keys.\n",
    "    float value as a keys.\n",
    "    string as a keys..\n",
    "    special character not as keys.. \n"
   ]
  },
  {
   "cell_type": "code",
   "execution_count": 126,
   "id": "73f22aae-ce04-42ed-a0a9-75cb474dd1a4",
   "metadata": {},
   "outputs": [],
   "source": [
    "## integer value as keys\n",
    "d = {3:\"abcd\"}"
   ]
  },
  {
   "cell_type": "code",
   "execution_count": 127,
   "id": "0c5ca047-ff54-45b9-b304-246355ddcbbd",
   "metadata": {},
   "outputs": [
    {
     "data": {
      "text/plain": [
       "{3: 'abcd'}"
      ]
     },
     "execution_count": 127,
     "metadata": {},
     "output_type": "execute_result"
    }
   ],
   "source": [
    "d"
   ]
  },
  {
   "cell_type": "code",
   "execution_count": null,
   "id": "bda2ad87-3842-41a1-abb1-e7a5c5684ddb",
   "metadata": {},
   "outputs": [],
   "source": []
  },
  {
   "cell_type": "code",
   "execution_count": 129,
   "id": "17dfaf42-2eb3-490b-b11d-50c12d57ed7d",
   "metadata": {},
   "outputs": [],
   "source": [
    "## boolean value as key\n",
    "d = {True:\"abc\"}"
   ]
  },
  {
   "cell_type": "code",
   "execution_count": 130,
   "id": "e038996b-eccd-42e8-b41c-863b8b5625bf",
   "metadata": {},
   "outputs": [
    {
     "data": {
      "text/plain": [
       "{True: 'abc'}"
      ]
     },
     "execution_count": 130,
     "metadata": {},
     "output_type": "execute_result"
    }
   ],
   "source": [
    "d"
   ]
  },
  {
   "cell_type": "code",
   "execution_count": 131,
   "id": "09f8ca82-d825-4867-b034-bafaaf5e69aa",
   "metadata": {},
   "outputs": [
    {
     "data": {
      "text/plain": [
       "'abc'"
      ]
     },
     "execution_count": 131,
     "metadata": {},
     "output_type": "execute_result"
    }
   ],
   "source": [
    "d[True]"
   ]
  },
  {
   "cell_type": "code",
   "execution_count": 133,
   "id": "7ac617f8-553b-4204-9eda-9b816b797257",
   "metadata": {},
   "outputs": [],
   "source": [
    "## float value as a keys..\n",
    "d = {25.25:\"abc\"}"
   ]
  },
  {
   "cell_type": "code",
   "execution_count": 134,
   "id": "9f971fcc-ec5f-4efa-a139-4ba73a719161",
   "metadata": {},
   "outputs": [
    {
     "data": {
      "text/plain": [
       "{25.25: 'abc'}"
      ]
     },
     "execution_count": 134,
     "metadata": {},
     "output_type": "execute_result"
    }
   ],
   "source": [
    "d"
   ]
  },
  {
   "cell_type": "code",
   "execution_count": 135,
   "id": "d8cca1c0-041a-4ffa-b764-2a3d21c751d8",
   "metadata": {},
   "outputs": [
    {
     "data": {
      "text/plain": [
       "'abc'"
      ]
     },
     "execution_count": 135,
     "metadata": {},
     "output_type": "execute_result"
    }
   ],
   "source": [
    "d[25.25]"
   ]
  },
  {
   "cell_type": "code",
   "execution_count": null,
   "id": "fae2c92c-8fe4-4eff-b354-ddd493546929",
   "metadata": {},
   "outputs": [],
   "source": []
  },
  {
   "cell_type": "code",
   "execution_count": 137,
   "id": "8774e0dd-29c3-4f48-9b37-0f6a62b3a198",
   "metadata": {},
   "outputs": [],
   "source": [
    "## if u want to special character..... "
   ]
  },
  {
   "cell_type": "code",
   "execution_count": 139,
   "id": "f998e234-a591-4e2a-927f-152fe9866876",
   "metadata": {},
   "outputs": [
    {
     "ename": "SyntaxError",
     "evalue": "invalid syntax (2664584323.py, line 1)",
     "output_type": "error",
     "traceback": [
      "\u001b[0;36m  Cell \u001b[0;32mIn[139], line 1\u001b[0;36m\u001b[0m\n\u001b[0;31m    d = {@:\"abc\"}\u001b[0m\n\u001b[0m         ^\u001b[0m\n\u001b[0;31mSyntaxError\u001b[0m\u001b[0;31m:\u001b[0m invalid syntax\n"
     ]
    }
   ],
   "source": [
    "d = {@:\"abc\"}\n",
    "## special character are not allowed as a keys values pair...... "
   ]
  },
  {
   "cell_type": "code",
   "execution_count": null,
   "id": "05da42de-7557-41dc-ab61-facc2b64af5e",
   "metadata": {},
   "outputs": [],
   "source": []
  },
  {
   "cell_type": "code",
   "execution_count": 141,
   "id": "e847bab3-3315-450f-87db-b28a2bb90901",
   "metadata": {},
   "outputs": [
    {
     "ename": "TypeError",
     "evalue": "unhashable type: 'list'",
     "output_type": "error",
     "traceback": [
      "\u001b[0;31m---------------------------------------------------------------------------\u001b[0m",
      "\u001b[0;31mTypeError\u001b[0m                                 Traceback (most recent call last)",
      "Cell \u001b[0;32mIn[141], line 2\u001b[0m\n\u001b[1;32m      1\u001b[0m \u001b[38;5;66;03m## If a list as a key...\u001b[39;00m\n\u001b[0;32m----> 2\u001b[0m d \u001b[38;5;241m=\u001b[39m{[\u001b[38;5;241m1\u001b[39m,\u001b[38;5;241m2\u001b[39m,\u001b[38;5;241m3\u001b[39m] : \u001b[38;5;124m\"\u001b[39m\u001b[38;5;124mabc\u001b[39m\u001b[38;5;124m\"\u001b[39m}\n\u001b[1;32m      3\u001b[0m \u001b[38;5;66;03m## not possible\u001b[39;00m\n",
      "\u001b[0;31mTypeError\u001b[0m: unhashable type: 'list'"
     ]
    }
   ],
   "source": [
    "## If a list as a key...\n",
    "d ={[1,2,3] : \"abc\"}\n",
    "## not possible"
   ]
  },
  {
   "cell_type": "code",
   "execution_count": 143,
   "id": "520bc09e-ac4f-4036-940d-489612ed3d8d",
   "metadata": {},
   "outputs": [
    {
     "ename": "TypeError",
     "evalue": "unhashable type: 'set'",
     "output_type": "error",
     "traceback": [
      "\u001b[0;31m---------------------------------------------------------------------------\u001b[0m",
      "\u001b[0;31mTypeError\u001b[0m                                 Traceback (most recent call last)",
      "Cell \u001b[0;32mIn[143], line 2\u001b[0m\n\u001b[1;32m      1\u001b[0m \u001b[38;5;66;03m## if a sets as a keys...\u001b[39;00m\n\u001b[0;32m----> 2\u001b[0m d \u001b[38;5;241m=\u001b[39m {{\u001b[38;5;241m1\u001b[39m,\u001b[38;5;241m2\u001b[39m,\u001b[38;5;241m3\u001b[39m}:\u001b[38;5;124m\"\u001b[39m\u001b[38;5;124mabc\u001b[39m\u001b[38;5;124m\"\u001b[39m}\n\u001b[1;32m      3\u001b[0m \u001b[38;5;66;03m## sets are also not possible as keys..\u001b[39;00m\n",
      "\u001b[0;31mTypeError\u001b[0m: unhashable type: 'set'"
     ]
    }
   ],
   "source": [
    "## if a sets as a keys...\n",
    "d = {{1,2,3}:\"abc\"}\n",
    "## sets are also not possible as keys.."
   ]
  },
  {
   "cell_type": "code",
   "execution_count": 145,
   "id": "dde84352-d692-4a25-a78a-d84bbace8b8c",
   "metadata": {},
   "outputs": [
    {
     "ename": "TypeError",
     "evalue": "unhashable type: 'dict'",
     "output_type": "error",
     "traceback": [
      "\u001b[0;31m---------------------------------------------------------------------------\u001b[0m",
      "\u001b[0;31mTypeError\u001b[0m                                 Traceback (most recent call last)",
      "Cell \u001b[0;32mIn[145], line 2\u001b[0m\n\u001b[1;32m      1\u001b[0m \u001b[38;5;66;03m## if sets as value or keys...\u001b[39;00m\n\u001b[0;32m----> 2\u001b[0m d \u001b[38;5;241m=\u001b[39m {{\u001b[38;5;124m\"\u001b[39m\u001b[38;5;124mkey\u001b[39m\u001b[38;5;124m\"\u001b[39m:\u001b[38;5;241m123\u001b[39m} :\u001b[38;5;124m\"\u001b[39m\u001b[38;5;124majay\u001b[39m\u001b[38;5;124m\"\u001b[39m}\n\u001b[1;32m      3\u001b[0m \u001b[38;5;66;03m## because sets are also  not possible as value....      \u001b[39;00m\n",
      "\u001b[0;31mTypeError\u001b[0m: unhashable type: 'dict'"
     ]
    }
   ],
   "source": [
    "## if sets as value or keys...\n",
    "d = {{\"key\":123} :\"ajay\"}\n",
    "## because sets are also  not possible as value....      "
   ]
  },
  {
   "cell_type": "code",
   "execution_count": 146,
   "id": "8c7e9ce6-51ec-472a-9a88-46d430f02657",
   "metadata": {},
   "outputs": [],
   "source": [
    "\n",
    "## if a tuple as a keys...\n",
    "d = {(1,2,3):\"abc\"}"
   ]
  },
  {
   "cell_type": "code",
   "execution_count": 149,
   "id": "ee0aa145-a743-4bae-8e01-9a8c61d40d5b",
   "metadata": {},
   "outputs": [
    {
     "data": {
      "text/plain": [
       "{(1, 2, 3): 'abc'}"
      ]
     },
     "execution_count": 149,
     "metadata": {},
     "output_type": "execute_result"
    }
   ],
   "source": [
    "d\n",
    "## tuple is a possible for keys..."
   ]
  },
  {
   "cell_type": "code",
   "execution_count": 150,
   "id": "7c3d7b5a-b150-47c4-a1c7-d41b89149ec8",
   "metadata": {},
   "outputs": [],
   "source": [
    "### only strings and numbers can be used as keys of the dictionary.... "
   ]
  },
  {
   "cell_type": "code",
   "execution_count": 153,
   "id": "4cb47f8d-798a-4741-8ea0-b62287963a7a",
   "metadata": {},
   "outputs": [
    {
     "data": {
      "text/plain": [
       "{1: ('a', 'b', 'c'), 2: ('a', 'b', 'c'), 3: ('a', 'b', 'c')}"
      ]
     },
     "execution_count": 153,
     "metadata": {},
     "output_type": "execute_result"
    }
   ],
   "source": [
    "### fromkeys() create a new dictionary with key from iterable and value set to value.\n",
    "d.fromkeys((1,2,3),(\"a\",\"b\",\"c\"))\n"
   ]
  },
  {
   "cell_type": "code",
   "execution_count": 154,
   "id": "0d86b31c-692d-4912-b9bb-2f7440fb4c6e",
   "metadata": {},
   "outputs": [],
   "source": [
    "## important feature of dictionary zip function...\n",
    "student = (\"abhi\",\"mohsin\",\"sanjeev\")\n",
    "marks = (80,85,95)"
   ]
  },
  {
   "cell_type": "code",
   "execution_count": 155,
   "id": "99e66273-cc61-4af0-9f96-0503afb262e4",
   "metadata": {},
   "outputs": [
    {
     "name": "stdout",
     "output_type": "stream",
     "text": [
      "('abhi', 80)\n",
      "('mohsin', 85)\n",
      "('sanjeev', 95)\n"
     ]
    }
   ],
   "source": [
    "for i in zip(student , marks):\n",
    "    print(i)"
   ]
  },
  {
   "cell_type": "code",
   "execution_count": null,
   "id": "6a839738-b35f-4221-98f3-96738a289ced",
   "metadata": {},
   "outputs": [],
   "source": []
  },
  {
   "cell_type": "markdown",
   "id": "1bca737f-4ef9-437a-b7e8-4d941189769c",
   "metadata": {},
   "source": [
    "#### That's all understanding of importance of dictionary..."
   ]
  },
  {
   "cell_type": "code",
   "execution_count": null,
   "id": "b3c0d110-abd5-496b-aa83-8f17607a1487",
   "metadata": {},
   "outputs": [],
   "source": []
  }
 ],
 "metadata": {
  "kernelspec": {
   "display_name": "Python 3 (ipykernel)",
   "language": "python",
   "name": "python3"
  },
  "language_info": {
   "codemirror_mode": {
    "name": "ipython",
    "version": 3
   },
   "file_extension": ".py",
   "mimetype": "text/x-python",
   "name": "python",
   "nbconvert_exporter": "python",
   "pygments_lexer": "ipython3",
   "version": "3.10.8"
  }
 },
 "nbformat": 4,
 "nbformat_minor": 5
}
